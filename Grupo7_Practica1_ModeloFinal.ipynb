{
  "nbformat": 4,
  "nbformat_minor": 0,
  "metadata": {
    "colab": {
      "provenance": [],
      "include_colab_link": true
    },
    "kernelspec": {
      "name": "python3",
      "display_name": "Python 3"
    },
    "language_info": {
      "name": "python"
    }
  },
  "cells": [
    {
      "cell_type": "markdown",
      "metadata": {
        "id": "view-in-github",
        "colab_type": "text"
      },
      "source": [
        "<a href=\"https://colab.research.google.com/github/kevinMGII/Grupo7-Practica1/blob/main/Grupo7_Practica1_ModeloFinal.ipynb\" target=\"_parent\"><img src=\"https://colab.research.google.com/assets/colab-badge.svg\" alt=\"Open In Colab\"/></a>"
      ]
    },
    {
      "cell_type": "markdown",
      "source": [
        "# **MODELO FINAL**. Predicción del Abandono de Empleados.\n",
        "\n",
        "Grupo 7. Miembros:\n",
        "\n",
        "*   *Kevin Medina García, 100495893.*\n",
        "*   *Bárbara Sánchez Moratalla, 100495857.*\n",
        "\n",
        "---\n"
      ],
      "metadata": {
        "id": "Of0eYcpV9oD4"
      }
    },
    {
      "cell_type": "markdown",
      "source": [
        "En este cuaderno entrenamos el modelo final y lo usamos para hacer predicciones en los datos de competición. Los resultados se guardan en el archivo predicciones.csv."
      ],
      "metadata": {
        "id": "RbzOmMnv-U3A"
      }
    },
    {
      "cell_type": "markdown",
      "source": [
        "- Carga de librerías necesarias"
      ],
      "metadata": {
        "id": "LOU4eQvQ-Rn9"
      }
    },
    {
      "cell_type": "code",
      "source": [
        "import pandas as pd\n",
        "import joblib\n",
        "from sklearn.compose import ColumnTransformer\n",
        "from sklearn.preprocessing import OneHotEncoder, OrdinalEncoder\n",
        "from sklearn.metrics import balanced_accuracy_score"
      ],
      "metadata": {
        "id": "9OCwifUh43kd"
      },
      "execution_count": 34,
      "outputs": []
    },
    {
      "cell_type": "markdown",
      "source": [
        "- Lectura de datos de competición y modelo final"
      ],
      "metadata": {
        "id": "5ORzrv2V5Tjl"
      }
    },
    {
      "cell_type": "code",
      "source": [
        "data_test = pd.read_csv(\"./attrition_competition_12.csv.gz\")                    # Cargamos el conjunto de datos de test utilizando el almacenamiento local de Google Colab.\n",
        "modelo_final = joblib.load(\"./modelo_final.pkl\")                                # Cargamos el modelo final"
      ],
      "metadata": {
        "id": "aQRkz0Z55XCL"
      },
      "execution_count": 35,
      "outputs": []
    },
    {
      "cell_type": "markdown",
      "source": [
        "- Realizamos las predicciones"
      ],
      "metadata": {
        "id": "WYVJkw6X65xi"
      }
    },
    {
      "cell_type": "code",
      "source": [
        "# 1. DEFINICIÓN DE VARIABLES\n",
        "\n",
        "categorical_features = ['Department', 'EducationField', 'JobRole']              # Lista de atributos categóricos\n",
        "ordinal_features = ['BusinessTravel', 'Gender', 'MaritalStatus']                # Lista de atributos ordinale\n",
        "drop_columns = [\"EmployeeID\", \"EmployeeCount\", \"Over18\", \"StandardHours\"]       # Lista con las columnas innecesarias. Análisis anteriores.\n",
        "\n",
        "ordinal_mapping = [                                                             # Lista con los posibles valores de las variables ordinales\n",
        "    ['Non-Travel', 'Travel_Rarely', 'Travel_Frequently'],                       # Posibles valores de BusinnesTravel\n",
        "    ['Male', 'Female'],                                                         # Posibles valores de Gender\n",
        "    ['Married', 'Divorced', 'Single']                                           # Posibles valores de MaritalStatus\n",
        "]\n",
        "\n",
        "print(\"Completado - Definición de Variables.\")                                  # Mostramos un mensaje por pantalla, funcionamiento correcto"
      ],
      "metadata": {
        "colab": {
          "base_uri": "https://localhost:8080/"
        },
        "id": "WcDfpRBE33iV",
        "outputId": "e6a3ed65-23b1-4ffb-e706-522caf76e64a"
      },
      "execution_count": 36,
      "outputs": [
        {
          "output_type": "stream",
          "name": "stdout",
          "text": [
            "Completado - Definición de Variables.\n"
          ]
        }
      ]
    },
    {
      "cell_type": "code",
      "source": [
        "# 2.- PREPROCESAMIENTO DE DATOS\n",
        "\n",
        "preprocessor = ColumnTransformer(                                               # Utilizamos ColumnTransformer para aplicar transformar columnas no numéricas a numéricas\n",
        "    transformers=[\n",
        "        ('cat', OneHotEncoder(drop='first'), categorical_features),             # Aplicamos OneHotEncoding a las variables categóricas\n",
        "        ('ord', OrdinalEncoder(categories=ordinal_mapping), ordinal_features)   # Aplicamos OrdinalEndocing a las variables ordinales\n",
        "    ],\n",
        "    remainder='passthrough'                                                     # Mantenemos las columnas numéricas sin cambios\n",
        ")\n",
        "\n",
        "data_test = data_test.drop(columns=drop_columns)                                            # Eliminamos las columnas innecesarias\n",
        "data_test = data_test.drop(columns=[\"Attrition\"], errors='ignore')                          # Eliminamos la columna Attrition del conjunto de test\n",
        "\n",
        "data_test = preprocessor.fit_transform(data_test)                                           # Eliminamos las columnas innecesarias\n",
        "data_test = pd.DataFrame(data_test, columns=preprocessor.get_feature_names_out())           # Utilizamos el preprocessor.fit para aplicarlo\n",
        "\n",
        "print(\"Completado - Preprocesamiento de Datos.\")                                # Mostramos un mensaje por pantalla, funcionamiento correcto"
      ],
      "metadata": {
        "colab": {
          "base_uri": "https://localhost:8080/"
        },
        "id": "WxL-Hgc4Bli7",
        "outputId": "f942c4fe-ea9f-4e05-d4c9-9bff682ae223"
      },
      "execution_count": 37,
      "outputs": [
        {
          "output_type": "stream",
          "name": "stdout",
          "text": [
            "Completado - Preprocesamiento de Datos.\n"
          ]
        }
      ]
    },
    {
      "cell_type": "code",
      "source": [
        "# 3. PREDICCIÓN Y RESULTADOS\n",
        "\n",
        "y_pred_test = modelo_final.predict(data_test)                                   # Generamos predicciones con el modelo entrenado, predicciones sobre los datos de test\n",
        "df_predicciones = pd.DataFrame(y_pred_test, columns=[\"Predicción\"])             # Creamos un dataframe con las predicciones\n",
        "\n",
        "print(df_predicciones[\"Predicción\"].value_counts())                             # Mostramos un mensaje por pantalla, predicciones realizadas"
      ],
      "metadata": {
        "colab": {
          "base_uri": "https://localhost:8080/"
        },
        "id": "vgztUgEXBmZX",
        "outputId": "8928af63-cc28-424d-f464-23d9a5314b8f"
      },
      "execution_count": 38,
      "outputs": [
        {
          "output_type": "stream",
          "name": "stdout",
          "text": [
            "Predicción\n",
            "0    1237\n",
            "1     233\n",
            "Name: count, dtype: int64\n"
          ]
        }
      ]
    }
  ]
}