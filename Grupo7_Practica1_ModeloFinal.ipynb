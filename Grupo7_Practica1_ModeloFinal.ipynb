{
  "nbformat": 4,
  "nbformat_minor": 0,
  "metadata": {
    "colab": {
      "provenance": [],
      "include_colab_link": true
    },
    "kernelspec": {
      "name": "python3",
      "display_name": "Python 3"
    },
    "language_info": {
      "name": "python"
    }
  },
  "cells": [
    {
      "cell_type": "markdown",
      "metadata": {
        "id": "view-in-github",
        "colab_type": "text"
      },
      "source": [
        "<a href=\"https://colab.research.google.com/github/kevinMGII/Grupo7-Practica1/blob/main/Grupo7_Practica1_ModeloFinal.ipynb\" target=\"_parent\"><img src=\"https://colab.research.google.com/assets/colab-badge.svg\" alt=\"Open In Colab\"/></a>"
      ]
    },
    {
      "cell_type": "markdown",
      "source": [
        "# **MODELO FINAL**. Predicción del Abandono de Empleados.\n",
        "\n",
        "Grupo 7. Miembros:\n",
        "\n",
        "*   *Kevin Medina García, 100495893.*\n",
        "*   *Bárbara Sánchez Moratalla, 100495857.*\n",
        "\n",
        "---\n"
      ],
      "metadata": {
        "id": "Of0eYcpV9oD4"
      }
    },
    {
      "cell_type": "markdown",
      "source": [
        "En este cuaderno utilizamos el modelo final y lo usamos para obtener predicciones para el conjunto de datos de competición. El objetivo es predecir la variable \"Attrition\" para observar la cantidad de empleados que abandonan la empresa. Los resultados se almacenan en el archivo predicciones.csv."
      ],
      "metadata": {
        "id": "RbzOmMnv-U3A"
      }
    },
    {
      "cell_type": "markdown",
      "source": [
        "- Carga de librerías necesarias"
      ],
      "metadata": {
        "id": "LOU4eQvQ-Rn9"
      }
    },
    {
      "cell_type": "code",
      "source": [
        "import pandas as pd                                                             # Librería usada para leer el .csv y crear el dataframe\n",
        "import joblib                                                                   # Librería usada para cargar el modelo final\n",
        "from sklearn.compose import ColumnTransformer                                   # Librería usada para el preprocesamiento de datos\n",
        "from sklearn.preprocessing import OneHotEncoder, OrdinalEncoder                 # Librería usada para codificar var categóricas y ordinales en el ColumnTransformer\n",
        "import matplotlib.pyplot as plt                                                 # Librería usada para visualizar las predicciones del abandono de empleados"
      ],
      "metadata": {
        "id": "9OCwifUh43kd"
      },
      "execution_count": null,
      "outputs": []
    },
    {
      "cell_type": "markdown",
      "source": [
        "- Lectura de datos de competición y modelo final"
      ],
      "metadata": {
        "id": "5ORzrv2V5Tjl"
      }
    },
    {
      "cell_type": "code",
      "source": [
        "data_test = pd.read_csv(\"./attrition_competition_12.csv.gz\")                    # Cargamos el conjunto de datos de test utilizando el almacenamiento local de Google Colab.\n",
        "modelo_final = joblib.load(\"./modelo_final.pkl\")                                # Cargamos el modelo final"
      ],
      "metadata": {
        "id": "aQRkz0Z55XCL"
      },
      "execution_count": null,
      "outputs": []
    },
    {
      "cell_type": "markdown",
      "source": [
        "- Realizamos las predicciones"
      ],
      "metadata": {
        "id": "WYVJkw6X65xi"
      }
    },
    {
      "cell_type": "code",
      "source": [
        "# 1. DEFINICIÓN DE VARIABLES\n",
        "\n",
        "categorical_features = ['Department', 'EducationField', 'JobRole']              # Lista de atributos categóricos\n",
        "ordinal_features = ['BusinessTravel', 'Gender', 'MaritalStatus']                # Lista de atributos ordinales\n",
        "drop_columns = [\"EmployeeID\", \"EmployeeCount\", \"Over18\", \"StandardHours\"]       # Lista con las columnas innecesarias. Análisis anteriores.\n",
        "\n",
        "ordinal_mapping = [                                                             # Lista con los posibles valores de las variables ordinales\n",
        "    ['Non-Travel', 'Travel_Rarely', 'Travel_Frequently'],                       # Posibles valores de BusinnesTravel\n",
        "    ['Male', 'Female'],                                                         # Posibles valores de Gender\n",
        "    ['Married', 'Divorced', 'Single']                                           # Posibles valores de MaritalStatus\n",
        "]\n",
        "\n",
        "print(\"Completado - Definición de Variables.\")                                  # Mostramos un mensaje por pantalla, funcionamiento correcto"
      ],
      "metadata": {
        "colab": {
          "base_uri": "https://localhost:8080/"
        },
        "id": "WcDfpRBE33iV",
        "outputId": "15d49ad4-9d74-496b-b087-a8413bd7fdb6"
      },
      "execution_count": null,
      "outputs": [
        {
          "output_type": "stream",
          "name": "stdout",
          "text": [
            "Completado - Definición de Variables.\n"
          ]
        }
      ]
    },
    {
      "cell_type": "code",
      "source": [
        "# 2.- PREPROCESAMIENTO DE DATOS\n",
        "\n",
        "preprocesador = ColumnTransformer(                                               # Utilizamos ColumnTransformer para aplicar transformar columnas no numéricas a numéricas\n",
        "    transformers=[\n",
        "        ('cat', OneHotEncoder(drop='first'), categorical_features),             # Aplicamos OneHotEncoding a las variables categóricas\n",
        "        ('ord', OrdinalEncoder(categories=ordinal_mapping), ordinal_features)   # Aplicamos OrdinalEndocing a las variables ordinales\n",
        "    ],\n",
        "    remainder='passthrough'                                                     # Mantenemos las columnas numéricas sin cambios\n",
        ")\n",
        "\n",
        "data_test = data_test.drop(columns=drop_columns)                                            # Eliminamos las columnas innecesarias\n",
        "data_test = data_test.drop(columns=[\"Attrition\"], errors='ignore')                          # Eliminamos la columna Attrition del conjunto de test\n",
        "\n",
        "data_test = preprocesador.fit_transform(data_test)                                           # Eliminamos las columnas innecesarias\n",
        "data_test = pd.DataFrame(data_test, columns=preprocesador.get_feature_names_out())           # Utilizamos el preprocessor.fit para aplicarlo\n",
        "\n",
        "print(\"Completado - Preprocesamiento de Datos.\")                                # Mostramos un mensaje por pantalla, funcionamiento correcto"
      ],
      "metadata": {
        "colab": {
          "base_uri": "https://localhost:8080/"
        },
        "id": "WxL-Hgc4Bli7",
        "outputId": "e2d797a6-6e4d-4096-af30-60b44a7930f7"
      },
      "execution_count": null,
      "outputs": [
        {
          "output_type": "stream",
          "name": "stdout",
          "text": [
            "Completado - Preprocesamiento de Datos.\n"
          ]
        }
      ]
    },
    {
      "cell_type": "code",
      "source": [
        "# 3. PREDICCIÓN Y RESULTADOS\n",
        "\n",
        "y_pred_test = modelo_final.predict(data_test)                                   # Generamos predicciones con el modelo entrenado, predicciones sobre los datos de test\n",
        "df_predicciones = pd.DataFrame(y_pred_test, columns=[\"Predicción\"])             # Creamos un dataframe con las predicciones\n",
        "\n",
        "print(df_predicciones[\"Predicción\"].value_counts())                             # Mostramos un mensaje por pantalla, predicciones realizadas\n",
        "df_predicciones.to_csv(\"predicciones.csv\", index=False)                         # Almacenamos las predicciones en el fichero \"predicciones.csv\""
      ],
      "metadata": {
        "colab": {
          "base_uri": "https://localhost:8080/"
        },
        "id": "vgztUgEXBmZX",
        "outputId": "41f40c59-e14f-43d9-9cd9-64d16776b535"
      },
      "execution_count": null,
      "outputs": [
        {
          "output_type": "stream",
          "name": "stdout",
          "text": [
            "Predicción\n",
            "0    1236\n",
            "1     234\n",
            "Name: count, dtype: int64\n"
          ]
        }
      ]
    },
    {
      "cell_type": "markdown",
      "source": [
        "---\n",
        "\n",
        "Concluimos la práctica interpretando los resultados que ha obtenido nuestro modelo. Como podemos observar:\n",
        "\n",
        "- **Clase 0 (No abandonan)**: nuestro modelo predice que 1233 empleados permanecerán en la empresa, es decir, no muestran señales de agotamiento o querer abandonar.\n",
        "\n",
        "- **Clase 1 (Abandona)**: nuestro modelo también predice que 237 probablemente abandonarán. La empresa puede utilizar esta información para comunicarle al departamento de RRHH las intenciones de los empleados y que puedan anticiparse y tomar decisiones internas."
      ],
      "metadata": {
        "id": "k3In3CXmcez_"
      }
    },
    {
      "cell_type": "code",
      "source": [
        "predicciones = df_predicciones[\"Predicción\"]                                    # Sacamos la columna de predicciones\n",
        "conteo_por_clase = predicciones.value_counts()                                  # Cuantas veces aparece cada clase (Si/No)\n",
        "conteo = conteo_por_clase.sort_index()                                          # Ordenamos primero 0 y luego 1\n",
        "\n",
        "eje_x = ['No Abandona (0)', 'Abandona (1)']                                     # Etiquetas del eje x\n",
        "colores = ['#a7f6c4', '#f6a7b4']                                                # Colores pastel representativos (hexa obtenido de Photoshop)\n",
        "\n",
        "plt.figure(figsize=(6, 4))                                                      # Tamaño que tiene el grafico\n",
        "plt.bar(eje_x, conteo, color=colores, edgecolor='black')                        # Creamos el grafico\n",
        "plt.title(\"Predicción del abandono de empleados\")                               # Título para el grafico\n",
        "plt.ylabel(\"Número de empleados\")                                               # Etiqueta para el eje y\n",
        "plt.xlabel(\"¿Abandonan?\")                                                       # Etiqueta para el eje x\n",
        "plt.show()                                                                      # Mostramos el grafico"
      ],
      "metadata": {
        "colab": {
          "base_uri": "https://localhost:8080/",
          "height": 411
        },
        "id": "46hH6D92d8N2",
        "outputId": "dfb4fb4c-06e7-4a63-9d97-43dc3b7d3345"
      },
      "execution_count": null,
      "outputs": [
        {
          "output_type": "display_data",
          "data": {
            "text/plain": [
              "<Figure size 600x400 with 1 Axes>"
            ],
            "image/png": "[encoded data removed]"
          },
          "metadata": {}
        }
      ]
    }
  ]
}