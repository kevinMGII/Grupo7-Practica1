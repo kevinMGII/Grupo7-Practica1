{
  "nbformat": 4,
  "nbformat_minor": 0,
  "metadata": {
    "colab": {
      "provenance": [],
      "include_colab_link": true
    },
    "kernelspec": {
      "name": "python3",
      "display_name": "Python 3"
    },
    "language_info": {
      "name": "python"
    }
  },
  "cells": [
    {
      "cell_type": "markdown",
      "metadata": {
        "id": "view-in-github",
        "colab_type": "text"
      },
      "source": [
        "<a href=\"https://colab.research.google.com/github/kevinMGII/Grupo7-Practica1/blob/main/Grupo7_Practica1.ipynb\" target=\"_parent\"><img src=\"https://colab.research.google.com/assets/colab-badge.svg\" alt=\"Open In Colab\"/></a>"
      ]
    },
    {
      "cell_type": "markdown",
      "source": [
        "# **PRIMERA PRÁCTICA**. Predicción del Abandono de Empleados.\n",
        "\n",
        "Grupo 7. Miembros:\n",
        "\n",
        "*   *Kevin Medina García, 100495893.*\n",
        "*   *Bárbara Sánchez Moratalla, 100495857.*\n",
        "\n",
        "\n"
      ],
      "metadata": {
        "id": "h-1-vZq4h3bq"
      }
    },
    {
      "cell_type": "markdown",
      "source": [
        "\n",
        "\n",
        "---\n",
        "\n"
      ],
      "metadata": {
        "id": "R-LvSCB-QJVS"
      }
    },
    {
      "cell_type": "markdown",
      "source": [
        "### **1. CARGA Y VISUALIZACIÓN DE LOS DATOS**\n",
        "\n",
        "En el desarrollo de esta práctica se utilizarán los archivos que contienen los datos con la extension **12**. Cumpliendo así las consideraciones generales, puesto que la suma de los últimos dos dígitos de nuestros NIA's es 12 en ambos casos."
      ],
      "metadata": {
        "id": "q070Vs_3PS_I"
      }
    },
    {
      "cell_type": "markdown",
      "source": [
        "A continuación se lee el conjunto de datos y se muestran las primeras filas."
      ],
      "metadata": {
        "id": "6tMGD_R7QvOI"
      }
    },
    {
      "cell_type": "code",
      "source": [
        "import pandas as pd\n",
        "\n",
        "pd.set_option('display.max_columns', None)\n",
        "\n",
        "data_train = pd.read_csv(\"./attrition_availabledata_12.csv.gz\")                 # Cargamos el conjunto de datos de entrenamiento\n",
        "data_test = pd.read_csv(\"./attrition_competition_12.csv.gz\")                    # Cargamos el conjunto de datos de test utilizando el almacenamiento local de Google Colab.\n",
        "\n",
        "data_train.head()                                                               # Mostramos las 5 primeras filas del conjunto de datos de entrenamiento. (Not Working)\n",
        "data_test.head()                                                                # Mostramos las 5 primeras filas del conjunto de datos de test."
      ],
      "metadata": {
        "id": "CLcJTzTsyukm",
        "colab": {
          "base_uri": "https://localhost:8080/",
          "height": 313
        },
        "outputId": "daadae4b-d13f-4cdd-d502-3c00d1fbf60c"
      },
      "execution_count": null,
      "outputs": [
        {
          "output_type": "execute_result",
          "data": {
            "text/plain": [
              "        hrs  absences  JobInvolvement  PerformanceRating  \\\n",
              "0  6.894187         6               2                  3   \n",
              "1  7.684525         7               2                  3   \n",
              "2  6.806975         9               3                  3   \n",
              "3  6.028659         6               3                  3   \n",
              "4  7.618041        12               2                  3   \n",
              "\n",
              "   EnvironmentSatisfaction  JobSatisfaction  WorkLifeBalance  Age  \\\n",
              "0                      2.0              4.0              2.0   34   \n",
              "1                      3.0              4.0              1.0   30   \n",
              "2                      2.0              4.0              2.0   29   \n",
              "3                      2.0              1.0              3.0   44   \n",
              "4                      3.0              4.0              3.0   28   \n",
              "\n",
              "      BusinessTravel              Department  DistanceFromHome  Education  \\\n",
              "0      Travel_Rarely                   Sales                 6          4   \n",
              "1         Non-Travel  Research & Development                15          3   \n",
              "2  Travel_Frequently  Research & Development                16          4   \n",
              "3      Travel_Rarely  Research & Development                18          4   \n",
              "4         Non-Travel  Research & Development                 1          3   \n",
              "\n",
              "  EducationField  EmployeeCount  EmployeeID  Gender  JobLevel  \\\n",
              "0      Marketing              1         500    Male         2   \n",
              "1        Medical              1        3102  Female         2   \n",
              "2        Medical              1        1495    Male         1   \n",
              "3  Life Sciences              1        3472  Female         2   \n",
              "4        Medical              1        3627    Male         5   \n",
              "\n",
              "                 JobRole MaritalStatus  MonthlyIncome  NumCompaniesWorked  \\\n",
              "0      Research Director      Divorced          96130                 0.0   \n",
              "1        Sales Executive       Married          23800                 4.0   \n",
              "2  Laboratory Technician        Single          65130                 1.0   \n",
              "3        Sales Executive       Married          21190                 9.0   \n",
              "4        Sales Executive       Married          56790                 0.0   \n",
              "\n",
              "  Over18  PercentSalaryHike  StandardHours  StockOptionLevel  \\\n",
              "0      Y                 12              8                 1   \n",
              "1      Y                 18              8                 3   \n",
              "2      Y                 11              8                 1   \n",
              "3      Y                 15              8                 0   \n",
              "4      Y                 13              8                 0   \n",
              "\n",
              "   TotalWorkingYears  TrainingTimesLastYear  YearsAtCompany  \\\n",
              "0               16.0                      5              15   \n",
              "1                9.0                      2               5   \n",
              "2               10.0                      2              10   \n",
              "3               24.0                      3              20   \n",
              "4               10.0                      2               9   \n",
              "\n",
              "   YearsSinceLastPromotion  YearsWithCurrManager  \n",
              "0                        0                     9  \n",
              "1                        1                     4  \n",
              "2                        0                     9  \n",
              "3                        3                     6  \n",
              "4                        7                     5  "
            ],
            "text/html": [
              "\n",
              "  <div id=\"df-47d6d004-ff30-4733-9f47-d5d39c0be2f8\" class=\"colab-df-container\">\n",
              "    <div>\n",
              "<style scoped>\n",
              "    .dataframe tbody tr th:only-of-type {\n",
              "        vertical-align: middle;\n",
              "    }\n",
              "\n",
              "    .dataframe tbody tr th {\n",
              "        vertical-align: top;\n",
              "    }\n",
              "\n",
              "    .dataframe thead th {\n",
              "        text-align: right;\n",
              "    }\n",
              "</style>\n",
              "<table border=\"1\" class=\"dataframe\">\n",
              "  <thead>\n",
              "    <tr style=\"text-align: right;\">\n",
              "      <th></th>\n",
              "      <th>hrs</th>\n",
              "      <th>absences</th>\n",
              "      <th>JobInvolvement</th>\n",
              "      <th>PerformanceRating</th>\n",
              "      <th>EnvironmentSatisfaction</th>\n",
              "      <th>JobSatisfaction</th>\n",
              "      <th>WorkLifeBalance</th>\n",
              "      <th>Age</th>\n",
              "      <th>BusinessTravel</th>\n",
              "      <th>Department</th>\n",
              "      <th>DistanceFromHome</th>\n",
              "      <th>Education</th>\n",
              "      <th>EducationField</th>\n",
              "      <th>EmployeeCount</th>\n",
              "      <th>EmployeeID</th>\n",
              "      <th>Gender</th>\n",
              "      <th>JobLevel</th>\n",
              "      <th>JobRole</th>\n",
              "      <th>MaritalStatus</th>\n",
              "      <th>MonthlyIncome</th>\n",
              "      <th>NumCompaniesWorked</th>\n",
              "      <th>Over18</th>\n",
              "      <th>PercentSalaryHike</th>\n",
              "      <th>StandardHours</th>\n",
              "      <th>StockOptionLevel</th>\n",
              "      <th>TotalWorkingYears</th>\n",
              "      <th>TrainingTimesLastYear</th>\n",
              "      <th>YearsAtCompany</th>\n",
              "      <th>YearsSinceLastPromotion</th>\n",
              "      <th>YearsWithCurrManager</th>\n",
              "    </tr>\n",
              "  </thead>\n",
              "  <tbody>\n",
              "    <tr>\n",
              "      <th>0</th>\n",
              "      <td>6.894187</td>\n",
              "      <td>6</td>\n",
              "      <td>2</td>\n",
              "      <td>3</td>\n",
              "      <td>2.0</td>\n",
              "      <td>4.0</td>\n",
              "      <td>2.0</td>\n",
              "      <td>34</td>\n",
              "      <td>Travel_Rarely</td>\n",
              "      <td>Sales</td>\n",
              "      <td>6</td>\n",
              "      <td>4</td>\n",
              "      <td>Marketing</td>\n",
              "      <td>1</td>\n",
              "      <td>500</td>\n",
              "      <td>Male</td>\n",
              "      <td>2</td>\n",
              "      <td>Research Director</td>\n",
              "      <td>Divorced</td>\n",
              "      <td>96130</td>\n",
              "      <td>0.0</td>\n",
              "      <td>Y</td>\n",
              "      <td>12</td>\n",
              "      <td>8</td>\n",
              "      <td>1</td>\n",
              "      <td>16.0</td>\n",
              "      <td>5</td>\n",
              "      <td>15</td>\n",
              "      <td>0</td>\n",
              "      <td>9</td>\n",
              "    </tr>\n",
              "    <tr>\n",
              "      <th>1</th>\n",
              "      <td>7.684525</td>\n",
              "      <td>7</td>\n",
              "      <td>2</td>\n",
              "      <td>3</td>\n",
              "      <td>3.0</td>\n",
              "      <td>4.0</td>\n",
              "      <td>1.0</td>\n",
              "      <td>30</td>\n",
              "      <td>Non-Travel</td>\n",
              "      <td>Research &amp; Development</td>\n",
              "      <td>15</td>\n",
              "      <td>3</td>\n",
              "      <td>Medical</td>\n",
              "      <td>1</td>\n",
              "      <td>3102</td>\n",
              "      <td>Female</td>\n",
              "      <td>2</td>\n",
              "      <td>Sales Executive</td>\n",
              "      <td>Married</td>\n",
              "      <td>23800</td>\n",
              "      <td>4.0</td>\n",
              "      <td>Y</td>\n",
              "      <td>18</td>\n",
              "      <td>8</td>\n",
              "      <td>3</td>\n",
              "      <td>9.0</td>\n",
              "      <td>2</td>\n",
              "      <td>5</td>\n",
              "      <td>1</td>\n",
              "      <td>4</td>\n",
              "    </tr>\n",
              "    <tr>\n",
              "      <th>2</th>\n",
              "      <td>6.806975</td>\n",
              "      <td>9</td>\n",
              "      <td>3</td>\n",
              "      <td>3</td>\n",
              "      <td>2.0</td>\n",
              "      <td>4.0</td>\n",
              "      <td>2.0</td>\n",
              "      <td>29</td>\n",
              "      <td>Travel_Frequently</td>\n",
              "      <td>Research &amp; Development</td>\n",
              "      <td>16</td>\n",
              "      <td>4</td>\n",
              "      <td>Medical</td>\n",
              "      <td>1</td>\n",
              "      <td>1495</td>\n",
              "      <td>Male</td>\n",
              "      <td>1</td>\n",
              "      <td>Laboratory Technician</td>\n",
              "      <td>Single</td>\n",
              "      <td>65130</td>\n",
              "      <td>1.0</td>\n",
              "      <td>Y</td>\n",
              "      <td>11</td>\n",
              "      <td>8</td>\n",
              "      <td>1</td>\n",
              "      <td>10.0</td>\n",
              "      <td>2</td>\n",
              "      <td>10</td>\n",
              "      <td>0</td>\n",
              "      <td>9</td>\n",
              "    </tr>\n",
              "    <tr>\n",
              "      <th>3</th>\n",
              "      <td>6.028659</td>\n",
              "      <td>6</td>\n",
              "      <td>3</td>\n",
              "      <td>3</td>\n",
              "      <td>2.0</td>\n",
              "      <td>1.0</td>\n",
              "      <td>3.0</td>\n",
              "      <td>44</td>\n",
              "      <td>Travel_Rarely</td>\n",
              "      <td>Research &amp; Development</td>\n",
              "      <td>18</td>\n",
              "      <td>4</td>\n",
              "      <td>Life Sciences</td>\n",
              "      <td>1</td>\n",
              "      <td>3472</td>\n",
              "      <td>Female</td>\n",
              "      <td>2</td>\n",
              "      <td>Sales Executive</td>\n",
              "      <td>Married</td>\n",
              "      <td>21190</td>\n",
              "      <td>9.0</td>\n",
              "      <td>Y</td>\n",
              "      <td>15</td>\n",
              "      <td>8</td>\n",
              "      <td>0</td>\n",
              "      <td>24.0</td>\n",
              "      <td>3</td>\n",
              "      <td>20</td>\n",
              "      <td>3</td>\n",
              "      <td>6</td>\n",
              "    </tr>\n",
              "    <tr>\n",
              "      <th>4</th>\n",
              "      <td>7.618041</td>\n",
              "      <td>12</td>\n",
              "      <td>2</td>\n",
              "      <td>3</td>\n",
              "      <td>3.0</td>\n",
              "      <td>4.0</td>\n",
              "      <td>3.0</td>\n",
              "      <td>28</td>\n",
              "      <td>Non-Travel</td>\n",
              "      <td>Research &amp; Development</td>\n",
              "      <td>1</td>\n",
              "      <td>3</td>\n",
              "      <td>Medical</td>\n",
              "      <td>1</td>\n",
              "      <td>3627</td>\n",
              "      <td>Male</td>\n",
              "      <td>5</td>\n",
              "      <td>Sales Executive</td>\n",
              "      <td>Married</td>\n",
              "      <td>56790</td>\n",
              "      <td>0.0</td>\n",
              "      <td>Y</td>\n",
              "      <td>13</td>\n",
              "      <td>8</td>\n",
              "      <td>0</td>\n",
              "      <td>10.0</td>\n",
              "      <td>2</td>\n",
              "      <td>9</td>\n",
              "      <td>7</td>\n",
              "      <td>5</td>\n",
              "    </tr>\n",
              "  </tbody>\n",
              "</table>\n",
              "</div>\n",
              "    <div class=\"colab-df-buttons\">\n",
              "\n",
              "  <div class=\"colab-df-container\">\n",
              "    <button class=\"colab-df-convert\" onclick=\"convertToInteractive('df-47d6d004-ff30-4733-9f47-d5d39c0be2f8')\"\n",
              "            title=\"Convert this dataframe to an interactive table.\"\n",
              "            style=\"display:none;\">\n",
              "\n",
              "  <svg xmlns=\"http://www.w3.org/2000/svg\" height=\"24px\" viewBox=\"0 -960 960 960\">\n",
              "    <path d=\"M120-120v-720h720v720H120Zm60-500h600v-160H180v160Zm220 220h160v-160H400v160Zm0 220h160v-160H400v160ZM180-400h160v-160H180v160Zm440 0h160v-160H620v160ZM180-180h160v-160H180v160Zm440 0h160v-160H620v160Z\"/>\n",
              "  </svg>\n",
              "    </button>\n",
              "\n",
              "  <style>\n",
              "    .colab-df-container {\n",
              "      display:flex;\n",
              "      gap: 12px;\n",
              "    }\n",
              "\n",
              "    .colab-df-convert {\n",
              "      background-color: #E8F0FE;\n",
              "      border: none;\n",
              "      border-radius: 50%;\n",
              "      cursor: pointer;\n",
              "      display: none;\n",
              "      fill: #1967D2;\n",
              "      height: 32px;\n",
              "      padding: 0 0 0 0;\n",
              "      width: 32px;\n",
              "    }\n",
              "\n",
              "    .colab-df-convert:hover {\n",
              "      background-color: #E2EBFA;\n",
              "      box-shadow: 0px 1px 2px rgba(60, 64, 67, 0.3), 0px 1px 3px 1px rgba(60, 64, 67, 0.15);\n",
              "      fill: #174EA6;\n",
              "    }\n",
              "\n",
              "    .colab-df-buttons div {\n",
              "      margin-bottom: 4px;\n",
              "    }\n",
              "\n",
              "    [theme=dark] .colab-df-convert {\n",
              "      background-color: #3B4455;\n",
              "      fill: #D2E3FC;\n",
              "    }\n",
              "\n",
              "    [theme=dark] .colab-df-convert:hover {\n",
              "      background-color: #434B5C;\n",
              "      box-shadow: 0px 1px 3px 1px rgba(0, 0, 0, 0.15);\n",
              "      filter: drop-shadow(0px 1px 2px rgba(0, 0, 0, 0.3));\n",
              "      fill: #FFFFFF;\n",
              "    }\n",
              "  </style>\n",
              "\n",
              "    <script>\n",
              "      const buttonEl =\n",
              "        document.querySelector('#df-47d6d004-ff30-4733-9f47-d5d39c0be2f8 button.colab-df-convert');\n",
              "      buttonEl.style.display =\n",
              "        google.colab.kernel.accessAllowed ? 'block' : 'none';\n",
              "\n",
              "      async function convertToInteractive(key) {\n",
              "        const element = document.querySelector('#df-47d6d004-ff30-4733-9f47-d5d39c0be2f8');\n",
              "        const dataTable =\n",
              "          await google.colab.kernel.invokeFunction('convertToInteractive',\n",
              "                                                    [key], {});\n",
              "        if (!dataTable) return;\n",
              "\n",
              "        const docLinkHtml = 'Like what you see? Visit the ' +\n",
              "          '<a target=\"_blank\" href=https://colab.research.google.com/notebooks/data_table.ipynb>data table notebook</a>'\n",
              "          + ' to learn more about interactive tables.';\n",
              "        element.innerHTML = '';\n",
              "        dataTable['output_type'] = 'display_data';\n",
              "        await google.colab.output.renderOutput(dataTable, element);\n",
              "        const docLink = document.createElement('div');\n",
              "        docLink.innerHTML = docLinkHtml;\n",
              "        element.appendChild(docLink);\n",
              "      }\n",
              "    </script>\n",
              "  </div>\n",
              "\n",
              "\n",
              "<div id=\"df-813bf36b-027e-473f-a3b3-69099eb1ed08\">\n",
              "  <button class=\"colab-df-quickchart\" onclick=\"quickchart('df-813bf36b-027e-473f-a3b3-69099eb1ed08')\"\n",
              "            title=\"Suggest charts\"\n",
              "            style=\"display:none;\">\n",
              "\n",
              "<svg xmlns=\"http://www.w3.org/2000/svg\" height=\"24px\"viewBox=\"0 0 24 24\"\n",
              "     width=\"24px\">\n",
              "    <g>\n",
              "        <path d=\"M19 3H5c-1.1 0-2 .9-2 2v14c0 1.1.9 2 2 2h14c1.1 0 2-.9 2-2V5c0-1.1-.9-2-2-2zM9 17H7v-7h2v7zm4 0h-2V7h2v10zm4 0h-2v-4h2v4z\"/>\n",
              "    </g>\n",
              "</svg>\n",
              "  </button>\n",
              "\n",
              "<style>\n",
              "  .colab-df-quickchart {\n",
              "      --bg-color: #E8F0FE;\n",
              "      --fill-color: #1967D2;\n",
              "      --hover-bg-color: #E2EBFA;\n",
              "      --hover-fill-color: #174EA6;\n",
              "      --disabled-fill-color: #AAA;\n",
              "      --disabled-bg-color: #DDD;\n",
              "  }\n",
              "\n",
              "  [theme=dark] .colab-df-quickchart {\n",
              "      --bg-color: #3B4455;\n",
              "      --fill-color: #D2E3FC;\n",
              "      --hover-bg-color: #434B5C;\n",
              "      --hover-fill-color: #FFFFFF;\n",
              "      --disabled-bg-color: #3B4455;\n",
              "      --disabled-fill-color: #666;\n",
              "  }\n",
              "\n",
              "  .colab-df-quickchart {\n",
              "    background-color: var(--bg-color);\n",
              "    border: none;\n",
              "    border-radius: 50%;\n",
              "    cursor: pointer;\n",
              "    display: none;\n",
              "    fill: var(--fill-color);\n",
              "    height: 32px;\n",
              "    padding: 0;\n",
              "    width: 32px;\n",
              "  }\n",
              "\n",
              "  .colab-df-quickchart:hover {\n",
              "    background-color: var(--hover-bg-color);\n",
              "    box-shadow: 0 1px 2px rgba(60, 64, 67, 0.3), 0 1px 3px 1px rgba(60, 64, 67, 0.15);\n",
              "    fill: var(--button-hover-fill-color);\n",
              "  }\n",
              "\n",
              "  .colab-df-quickchart-complete:disabled,\n",
              "  .colab-df-quickchart-complete:disabled:hover {\n",
              "    background-color: var(--disabled-bg-color);\n",
              "    fill: var(--disabled-fill-color);\n",
              "    box-shadow: none;\n",
              "  }\n",
              "\n",
              "  .colab-df-spinner {\n",
              "    border: 2px solid var(--fill-color);\n",
              "    border-color: transparent;\n",
              "    border-bottom-color: var(--fill-color);\n",
              "    animation:\n",
              "      spin 1s steps(1) infinite;\n",
              "  }\n",
              "\n",
              "  @keyframes spin {\n",
              "    0% {\n",
              "      border-color: transparent;\n",
              "      border-bottom-color: var(--fill-color);\n",
              "      border-left-color: var(--fill-color);\n",
              "    }\n",
              "    20% {\n",
              "      border-color: transparent;\n",
              "      border-left-color: var(--fill-color);\n",
              "      border-top-color: var(--fill-color);\n",
              "    }\n",
              "    30% {\n",
              "      border-color: transparent;\n",
              "      border-left-color: var(--fill-color);\n",
              "      border-top-color: var(--fill-color);\n",
              "      border-right-color: var(--fill-color);\n",
              "    }\n",
              "    40% {\n",
              "      border-color: transparent;\n",
              "      border-right-color: var(--fill-color);\n",
              "      border-top-color: var(--fill-color);\n",
              "    }\n",
              "    60% {\n",
              "      border-color: transparent;\n",
              "      border-right-color: var(--fill-color);\n",
              "    }\n",
              "    80% {\n",
              "      border-color: transparent;\n",
              "      border-right-color: var(--fill-color);\n",
              "      border-bottom-color: var(--fill-color);\n",
              "    }\n",
              "    90% {\n",
              "      border-color: transparent;\n",
              "      border-bottom-color: var(--fill-color);\n",
              "    }\n",
              "  }\n",
              "</style>\n",
              "\n",
              "  <script>\n",
              "    async function quickchart(key) {\n",
              "      const quickchartButtonEl =\n",
              "        document.querySelector('#' + key + ' button');\n",
              "      quickchartButtonEl.disabled = true;  // To prevent multiple clicks.\n",
              "      quickchartButtonEl.classList.add('colab-df-spinner');\n",
              "      try {\n",
              "        const charts = await google.colab.kernel.invokeFunction(\n",
              "            'suggestCharts', [key], {});\n",
              "      } catch (error) {\n",
              "        console.error('Error during call to suggestCharts:', error);\n",
              "      }\n",
              "      quickchartButtonEl.classList.remove('colab-df-spinner');\n",
              "      quickchartButtonEl.classList.add('colab-df-quickchart-complete');\n",
              "    }\n",
              "    (() => {\n",
              "      let quickchartButtonEl =\n",
              "        document.querySelector('#df-813bf36b-027e-473f-a3b3-69099eb1ed08 button');\n",
              "      quickchartButtonEl.style.display =\n",
              "        google.colab.kernel.accessAllowed ? 'block' : 'none';\n",
              "    })();\n",
              "  </script>\n",
              "</div>\n",
              "\n",
              "    </div>\n",
              "  </div>\n"
            ],
            "application/vnd.google.colaboratory.intrinsic+json": {
              "type": "dataframe",
              "variable_name": "data_test"
            }
          },
          "metadata": {},
          "execution_count": 2
        }
      ]
    },
    {
      "cell_type": "markdown",
      "source": [
        " ---"
      ],
      "metadata": {
        "id": "8Jb-ub5R0tOA"
      }
    },
    {
      "cell_type": "markdown",
      "source": [
        "### **2. EDA SIMPLIFICADO**\n",
        "\n",
        "A continuación, se realiza un Análisis Exploratorio de Datos (EDA). El objetivo es obtener una visión general del estado de los datos, permitiendo llevar a cabo algunos ajustes o limpiezas antes de empezar a utilizarlos.\n",
        "\n"
      ],
      "metadata": {
        "id": "NMJsAdKVholx"
      }
    },
    {
      "cell_type": "markdown",
      "source": [
        "**Número de  variables e instancias:**"
      ],
      "metadata": {
        "id": "cIfNYhm8jqxX"
      }
    },
    {
      "cell_type": "code",
      "source": [
        "num_instancias, num_variables = data_train.shape                                # Usamos el atributo .shape de pandas para obtener la tupla (número de filas, número de columnas)\n",
        "print(f\"Número de instancias: {num_instancias}\")                                # Imprimimos num_instancias (número de filas)\n",
        "print(f\"Número de variables: {num_variables}\")                                  # Imprimimos num_variables (número de columnas)"
      ],
      "metadata": {
        "id": "OU6gEt1Ri767",
        "colab": {
          "base_uri": "https://localhost:8080/"
        },
        "outputId": "460708f0-72ea-41d8-ef6d-05db9f7cbcd9"
      },
      "execution_count": null,
      "outputs": [
        {
          "output_type": "stream",
          "name": "stdout",
          "text": [
            "Número de instancias: 2940\n",
            "Número de variables: 31\n"
          ]
        }
      ]
    },
    {
      "cell_type": "markdown",
      "source": [
        "El conjunto de datos con el que vamos a llevar a cabo esta práctica esta formado por 2940 instancias y 31 variables. Disponemos de una cantidad suficiente de datos como para entrenar un modelo de forma correcta."
      ],
      "metadata": {
        "id": "b_4ajhwqWqlC"
      }
    },
    {
      "cell_type": "markdown",
      "source": [
        "**Tipos de variables (categóricas, numéricas u ordinales):**"
      ],
      "metadata": {
        "id": "Rp8GzujwjRse"
      }
    },
    {
      "cell_type": "code",
      "source": [
        "print(data_train.dtypes)                                                              # Mostramos los tipos de datos de cada columna del conjunto de datos de entrenamiento.\n",
        "\n",
        "                                                                                      # Seleccionamos los tipos de datos categóricos y numéricos con pandas\n",
        "categorical_vars = data_train.select_dtypes(include=['object', 'category']).columns   # Variables categóricas: aquellas de tipo 'object' o 'category'\n",
        "numeric_vars = data_train.select_dtypes(include=['int64', 'float64']).columns         # Variables numéricas: aquellas de tipo 'int64' o 'float64'\n",
        "\n",
        "print(\"Variables categóricas:\", categorical_vars)                                     # Imprimimos las variables categóricas\n",
        "print(\"Variables numéricas:\", numeric_vars)                                           # Imprimimos las variables numéricas\n",
        "# Las variables ordinales deben identificarse manualmente (mirar Nota)"
      ],
      "metadata": {
        "id": "ij6fgxDfjW68",
        "colab": {
          "base_uri": "https://localhost:8080/"
        },
        "outputId": "f529b9de-25da-47e1-8e8e-a31c5bf894d6"
      },
      "execution_count": null,
      "outputs": [
        {
          "output_type": "stream",
          "name": "stdout",
          "text": [
            "hrs                        float64\n",
            "absences                     int64\n",
            "JobInvolvement               int64\n",
            "PerformanceRating            int64\n",
            "EnvironmentSatisfaction    float64\n",
            "JobSatisfaction            float64\n",
            "WorkLifeBalance            float64\n",
            "Age                          int64\n",
            "BusinessTravel              object\n",
            "Department                  object\n",
            "DistanceFromHome             int64\n",
            "Education                    int64\n",
            "EducationField              object\n",
            "EmployeeCount                int64\n",
            "EmployeeID                   int64\n",
            "Gender                      object\n",
            "JobLevel                     int64\n",
            "JobRole                     object\n",
            "MaritalStatus               object\n",
            "MonthlyIncome                int64\n",
            "NumCompaniesWorked         float64\n",
            "Over18                      object\n",
            "PercentSalaryHike            int64\n",
            "StandardHours                int64\n",
            "StockOptionLevel             int64\n",
            "TotalWorkingYears          float64\n",
            "TrainingTimesLastYear        int64\n",
            "YearsAtCompany               int64\n",
            "YearsSinceLastPromotion      int64\n",
            "YearsWithCurrManager         int64\n",
            "Attrition                   object\n",
            "dtype: object\n",
            "Variables categóricas: Index(['BusinessTravel', 'Department', 'EducationField', 'Gender', 'JobRole',\n",
            "       'MaritalStatus', 'Over18', 'Attrition'],\n",
            "      dtype='object')\n",
            "Variables numéricas: Index(['hrs', 'absences', 'JobInvolvement', 'PerformanceRating',\n",
            "       'EnvironmentSatisfaction', 'JobSatisfaction', 'WorkLifeBalance', 'Age',\n",
            "       'DistanceFromHome', 'Education', 'EmployeeCount', 'EmployeeID',\n",
            "       'JobLevel', 'MonthlyIncome', 'NumCompaniesWorked', 'PercentSalaryHike',\n",
            "       'StandardHours', 'StockOptionLevel', 'TotalWorkingYears',\n",
            "       'TrainingTimesLastYear', 'YearsAtCompany', 'YearsSinceLastPromotion',\n",
            "       'YearsWithCurrManager'],\n",
            "      dtype='object')\n"
          ]
        }
      ]
    },
    {
      "cell_type": "markdown",
      "source": [
        "Encontramos mayoritariamente variables numéricas en el conjunto de datos (23 variables numéricas frente a 8 variables categóricas)."
      ],
      "metadata": {
        "id": "T0_-MjDpxEYd"
      }
    },
    {
      "cell_type": "markdown",
      "source": [
        "*Nota: pandas no es capaz de identificar variables ordinales automáticamente.*\n",
        "\n",
        "\n",
        "*Debemos analizar cada variable categórica y estudiar si existe un orden jerárquico entre los valores.*\n",
        "\n",
        "\n",
        "```\n",
        "# Ver valores únicos de la columna 'X' en el conjunto de entrenamiento\n",
        "print(data_train['X'].unique())\n",
        "```\n",
        "\n",
        "\n",
        "* BusinessTravel (Non-Travel, Travel_Rarely, Travel_Frequently) -> No\n",
        "* Department: (Sales, Research & Development, ...) -> No\n",
        "* EducationField (Marketing, Medical, Life Sciences, ...) -> No\n",
        "* Gender (Male, Female) -> No\n",
        "* JobRole (Research Director, Sales Executive, Laboratory Technician, ...) -> No\n",
        "* MaritalStatus (Single, Married, Divorced) -> No\n",
        "* Over18 (N, Y) -> No\n",
        "* Attrition (No, Yes) -> No\n",
        "\n",
        "*Concluimos que no hay variables ordinales.*"
      ],
      "metadata": {
        "id": "pot7rdkjqCri"
      }
    },
    {
      "cell_type": "markdown",
      "source": [
        "**Variables categóricas con alta cardinalidad:**"
      ],
      "metadata": {
        "id": "Xh_J_Ido5mVp"
      }
    },
    {
      "cell_type": "code",
      "source": [
        "for col in data_train.columns:                                                  # Recorremos las columnas del conjunto de datos: data_train\n",
        "    tipo_columna = data_train[col].dtype                                        # Almacenamos en una variable el tipo de dato de la columna actual\n",
        "    if tipo_columna == 'object' or tipo_columna.name == 'category':             # Check: ¿El tipo es un objeto, texto?, ¿El tipo es una categoría?\n",
        "        valores_unicos = data_train[col].unique()                               # Almacenamos en una variable los valores únicos de esa categoría\n",
        "        num_valores_unicos = len(valores_unicos)                                # Obtenemos la cantidad de valores únicos que hay\n",
        "        print(\"Cardinalidad de\", col, \":\", num_valores_unicos)                  # Mostramos la cardinalidad y el número de valores únicos por pantalla"
      ],
      "metadata": {
        "id": "UkXaUmRL529v",
        "colab": {
          "base_uri": "https://localhost:8080/"
        },
        "collapsed": true,
        "outputId": "1f6c9474-4f66-480b-cdb8-460920fb9d11"
      },
      "execution_count": null,
      "outputs": [
        {
          "output_type": "stream",
          "name": "stdout",
          "text": [
            "Cardinalidad de BusinessTravel : 3\n",
            "Cardinalidad de Department : 3\n",
            "Cardinalidad de EducationField : 6\n",
            "Cardinalidad de Gender : 2\n",
            "Cardinalidad de JobRole : 9\n",
            "Cardinalidad de MaritalStatus : 3\n",
            "Cardinalidad de Over18 : 1\n",
            "Cardinalidad de Attrition : 2\n"
          ]
        }
      ]
    },
    {
      "cell_type": "markdown",
      "source": [
        "El resultado obtenido nos indica que la mayoría de variables categóricas en el conjunto de datos presentan una baja cardinalidad. Sin embargo, algunas como \"JobRole\" tienen una alta cardinalidad con hasta 9 valores distintos.\n",
        "\n",
        "Además, se puede observar como \"Over18\" solamente tiene un valor, por lo que no aporta información relevante y debe ser eliminada."
      ],
      "metadata": {
        "id": "O9en_F_0TrGS"
      }
    },
    {
      "cell_type": "markdown",
      "source": [
        "**Variables con valores faltantes y cuántos son:**"
      ],
      "metadata": {
        "id": "OxDcVne_8vID"
      }
    },
    {
      "cell_type": "code",
      "source": [
        "for col in data_train.columns:                                                  # Recorremos las columnas del conjunto de datos: data_train\n",
        "    contador_faltantes = 0                                                      # Inicializamos el contador de faltantes a 0\n",
        "    for valor in data_train[col]:                                               # Recorremos los valores de la columna\n",
        "        if valor is None or valor != valor:                                     # Check: ¿El valor es nulo (faltante)? Especial: valor != valor para detectar NaN\n",
        "            contador_faltantes += 1                                             # Incrementamos el contador de faltantes en una unidad\n",
        "    if contador_faltantes > 0:                                                  # Check: ¿Hay valores faltantes en esa columna?\n",
        "        print(\"Variable:\", col, \"- Valores faltantes:\", contador_faltantes)     # Mostramos la variable con sus faltantes por pantalla"
      ],
      "metadata": {
        "id": "TSgb4Y_8802p",
        "colab": {
          "base_uri": "https://localhost:8080/"
        },
        "outputId": "3f4ebae5-1790-46e9-9c55-6c37a47277e1"
      },
      "execution_count": null,
      "outputs": [
        {
          "output_type": "stream",
          "name": "stdout",
          "text": [
            "Variable: EnvironmentSatisfaction - Valores faltantes: 17\n",
            "Variable: JobSatisfaction - Valores faltantes: 8\n",
            "Variable: WorkLifeBalance - Valores faltantes: 23\n",
            "Variable: NumCompaniesWorked - Valores faltantes: 12\n",
            "Variable: TotalWorkingYears - Valores faltantes: 7\n"
          ]
        }
      ]
    },
    {
      "cell_type": "markdown",
      "source": [
        "Tras la ejecución, se puede observar como hay cinco variables presentes en el modelo que contienen valores faltantes, destacando alguna como \"WorkLifeBalance\" con hasta 23 valores no presentes, o \"EnvironmentSatisfaction\" con hasta 17.\n",
        "\n",
        "Durante el desarrollo de la práctica determinaremos qué estrategia seguir para solventar este problema, analizando el impacto de estas variables."
      ],
      "metadata": {
        "id": "8Wy1-YPVUVhy"
      }
    },
    {
      "cell_type": "markdown",
      "source": [
        "**Columnas constantes o columnas de ID:**"
      ],
      "metadata": {
        "id": "1bfk_Fyz-Bdb"
      }
    },
    {
      "cell_type": "code",
      "source": [
        "for col in data_train.columns:                                                  # Recorremos las columnas del conjunto de datos: data_train\n",
        "    valores_unicos = data_train[col].unique()                                   # Obtenemos los valores únicos de la columna\n",
        "    if len(valores_unicos) == 1 and valores_unicos[0] == valores_unicos[0]:     # Check: ¿La columna tiene un solo valor? Especial: ...[0] == ...[0] para detectar NaN\n",
        "        print(\"Variable:\", col, \"- Columna constante\")                          # Mostramos la variable con la columna constante\n",
        "    elif len(valores_unicos) == len(data_train):                                # Check: ¿El número de valores únicos es igual al número de filas?\n",
        "        print(\"Posible columna de ID:\", col)                                    # Mostramos la posible variable o columna de ID por pantalla"
      ],
      "metadata": {
        "id": "bDAr9gG697d6",
        "colab": {
          "base_uri": "https://localhost:8080/"
        },
        "collapsed": true,
        "outputId": "53d67c44-410a-49ee-9f78-3d45ca52b8e6"
      },
      "execution_count": null,
      "outputs": [
        {
          "output_type": "stream",
          "name": "stdout",
          "text": [
            "Variable: EmployeeCount - Columna constante\n",
            "Posible columna de ID: EmployeeID\n",
            "Variable: Over18 - Columna constante\n",
            "Variable: StandardHours - Columna constante\n"
          ]
        }
      ]
    },
    {
      "cell_type": "markdown",
      "source": [
        "Se identifican tres columnas constantes: \"EmployeeCount\", \"Over18\" y \"StandardHours\", así como una posible columna de id: \"EmployeeID\".\n",
        "\n",
        "Las columnas constantes no aportan información relevante o que resulte útil al modelo, y pueden eliminarse.\n",
        "\n",
        "La columna de id contiene valores únicos para cada fila, por lo que no contribuye al modelo y puede eliminarse."
      ],
      "metadata": {
        "id": "fvO5SCW1VzRs"
      }
    },
    {
      "cell_type": "markdown",
      "source": [
        "**Comprobación del tipo de problema: ¿clasificación o regresión?**"
      ],
      "metadata": {
        "id": "OWnO-qsyEW8J"
      }
    },
    {
      "cell_type": "code",
      "source": [
        "datos_col = data_train[\"Attrition\"]                                             # Seleccionamos la columna \"Attrition\" del conjunto de datos de entrenamiento\n",
        "valores_unicos = datos_col.unique()                                             # Obtenemos los valores únicos de la columna \"Attrition\"\n",
        "print(valores_unicos)                                                           # Mostramos los valores únicos por pantalla"
      ],
      "metadata": {
        "id": "hCwVgw45Ojre",
        "colab": {
          "base_uri": "https://localhost:8080/"
        },
        "outputId": "18f66522-00ea-42e7-d6b2-65e5c2927e1e"
      },
      "execution_count": null,
      "outputs": [
        {
          "output_type": "stream",
          "name": "stdout",
          "text": [
            "['No' 'Yes']\n"
          ]
        }
      ]
    },
    {
      "cell_type": "markdown",
      "source": [
        "Como se puede observar en el resultado de la ejecución, se trata de un problema de clasificación binaria. El modelo podrá predecir una de las dos categorías: No, Yes."
      ],
      "metadata": {
        "id": "a-YOreL0QHKe"
      }
    },
    {
      "cell_type": "markdown",
      "source": [
        "**Puesto que es un problema de clasificación, ¿está desbalanceado?**"
      ],
      "metadata": {
        "id": "7bOqly20RLro"
      }
    },
    {
      "cell_type": "code",
      "source": [
        "datos_col = data_train[\"Attrition\"]                                             # Seleccionamos la columna \"Attrition\" del conjunto de datos de entrenamiento\n",
        "contador_clases = datos_col.value_counts()                                      # Contamos la cantidad de valores de cada clase en la columna \"Attrition\"\n",
        "print(contador_clases)                                                          # Mostramos la cantidad de valores de cada clase por pantalla"
      ],
      "metadata": {
        "id": "JWNqvKCSROPK",
        "colab": {
          "base_uri": "https://localhost:8080/"
        },
        "outputId": "92830777-17f6-4e28-940a-4b457d7785f1"
      },
      "execution_count": null,
      "outputs": [
        {
          "output_type": "stream",
          "name": "stdout",
          "text": [
            "Attrition\n",
            "No     2466\n",
            "Yes     474\n",
            "Name: count, dtype: int64\n"
          ]
        }
      ]
    },
    {
      "cell_type": "markdown",
      "source": [
        "Concluimos el Análisis Exploratorio de Datos (EDA) indicando que el problema de clasificación está desbalanceado. Esto es debido a que existe una mayor cantidad de valores en una categoría: \"No\", respecto a la otra: \"Yes\".\n",
        "\n",
        "Un conjunto de datos desbalanceado puede provocar que el modelo aprenda mejor la categoría con mayor cantidad de valores y no aprenda correctamente la categoría con menor cantidad de valores.\n",
        "\n",
        "\n",
        "\n",
        "---\n",
        "\n"
      ],
      "metadata": {
        "id": "pvvVZ80_Rtol"
      }
    },
    {
      "cell_type": "markdown",
      "source": [
        "### **3. CÓMO SE VA A REALIZAR LA EVALUACIÓN**\n",
        "\n",
        "Tras realizar el EDA simplicado y observar que se trata de un problema de clasificación binaria desbalanceado, definimos en esta sección la estrategia de evaluación con la que entrenar y evaluar el modelo."
      ],
      "metadata": {
        "id": "j8l7X2xhU-s1"
      }
    },
    {
      "cell_type": "markdown",
      "source": [
        "Para comprender los resultados emplearemos diversas métricas:\n",
        "* Accuracy: fracción de predicciones correctas (tanto positivas como negativas) sobre el total de predicciones.\n",
        "* TPR (True Positive Rate): fracción de positivos reales correctamente identificados.\n",
        "* TNR (True Negative Rate): fracción de negativos reales correctamente identificados.\n",
        "* Balanced Accuracy: media del TPR y TNR, útil para datasets desbalanceados.\n",
        "* Matriz de confusión: matriz que muestra la proporción de verdaderos positivos, falsos positivos, verdaderos negativos y falsos negativos."
      ],
      "metadata": {
        "id": "xtnx0dNNYFrp"
      }
    },
    {
      "cell_type": "markdown",
      "source": [
        "**3.1. Holdout: División en Train y Test**\n",
        "\n",
        "Antes de separar los datos en entrenamiento y test, limpiamos el conjunto de datos quitando aquellas variables que resultan irrelevantes, como se ha observado en el segundo apartado *(EmployeeID, EmployeeCount, Over18, StandardHours)*.\n",
        "\n",
        "También eliminamos la columna 'Attrition' de las features X, ya que 'Attrition' es la variable a predecir y de lo contrario se produciría data leakage (el modelo entrenara con los datos de evaluación).\n",
        "\n",
        "Por otro lado, debemos transformar las variables categóricas para que adopten valores numéricos. Para los casos en los que no hay relación entre los valores, se aplicará one-hot enconding; mientras que para los casos en los que sí, se mapearán de forma ordenada.\n",
        "\n",
        "Similarmente, debemos transformar la columna *Attrition* de los datos de test. Al tratarse de una variable binaria, transformamos sus valores categóricos (\"No\" y \"Yes\") en numéricos (0 y 1) respectivamente. Es decir, aplicamos label encoding."
      ],
      "metadata": {
        "id": "MT9L5XiM0X6u"
      }
    },
    {
      "cell_type": "code",
      "source": [
        "from sklearn.compose import ColumnTransformer\n",
        "from sklearn.preprocessing import OneHotEncoder, OrdinalEncoder\n",
        "import pandas as pd\n",
        "\n",
        "categorical_features = ['Department', 'EducationField', 'JobRole']                       # Lista de atributos categóricos\n",
        "ordinal_features = ['BusinessTravel', 'Gender', 'MaritalStatus']                         # Lista de atributos ordinale\n",
        "drop_columns = [\"EmployeeID\", \"EmployeeCount\", \"Over18\", \"StandardHours\", \"Attrition\"]   # Lista con las columnas innecesarias. Análisis anteriores.\n",
        "\n",
        "ordinal_mapping = [                                                             # Lista con los posibles valores de las variables ordinales\n",
        "    ['Non-Travel', 'Travel_Rarely', 'Travel_Frequently'],                       # Posibles valores de BusinnesTravel\n",
        "    ['Male', 'Female'],                                                         # Posibles valores de Gender\n",
        "    ['Married', 'Divorced', 'Single']                                           # Posibles valores de MaritalStatus\n",
        "]\n",
        "\n",
        "preprocessor = ColumnTransformer(                                               # Utilizamos ColumnTransformer para aplicar transformar columnas no numéricas a numéricas\n",
        "    transformers=[\n",
        "        ('cat', OneHotEncoder(drop='first'), categorical_features),             # Aplicamos OneHotEncoding a las variables categóricas\n",
        "        ('ord', OrdinalEncoder(categories=ordinal_mapping), ordinal_features)   # Aplicamos OrdinalEndocing a las variables ordinales\n",
        "    ],\n",
        "    remainder='passthrough'                                                     # Mantenemos las columnas numéricas sin cambios\n",
        ")\n",
        "\n",
        "X = data_train.drop(columns=drop_columns)                                                       # Eliminamos las columnas innecesarias\n",
        "X = pd.DataFrame(preprocessor.fit_transform(X), columns=preprocessor.get_feature_names_out())   # Utilizamos el preprocessor.fit para aplicarlo\n",
        "\n",
        "y = data_train['Attrition'].map({'No': 0, 'Yes': 1})                            # Convertimos usando map la variable objetivo a numérica"
      ],
      "metadata": {
        "id": "SSNqW5zJ0eV3"
      },
      "execution_count": null,
      "outputs": []
    },
    {
      "cell_type": "markdown",
      "source": [
        "Ahora sí, dividimos los datos en train (66.6%) y test (33.3%), ya que haremos la evaluación final del modelo con el método Holdout. Usamos como semilla el NIA de uno de los miembros del grupo, como se exige en el enunciado.\n",
        "\n",
        "Además, al tratarse de un problema desbalanceado, es importante estratificar los datos *(stratify=y)* a la hora de hacer la separación para tener para tener el mismo desbalance en el conjunto de entrenamiento y en el de prueba. De lo contrario, el conjunto de entrenamiento podría no reflejar la distribución real de 'Attrition' y resultar poco útil para entrenar el modelo."
      ],
      "metadata": {
        "id": "npBSJrtXVqyE"
      }
    },
    {
      "cell_type": "code",
      "source": [
        "from sklearn.model_selection import train_test_split\n",
        "\n",
        "X_train, X_test, y_train, y_test = train_test_split(X, y, test_size=0.33, stratify=y, random_state=100495893) # Dividimos en train y test\n",
        "print(\"Número de instancias de train:\", X_train.shape[0], \"instancias\")                                       # Imprimimos el número de instancias de entrenamiento\n",
        "print(\"Número de instancias de test:\", X_test.shape[0], \"instancias\")                                         # Imprimimos el número de instancias de test"
      ],
      "metadata": {
        "id": "UhFpEsFNVv2y",
        "colab": {
          "base_uri": "https://localhost:8080/"
        },
        "outputId": "02fb5c3b-efa2-45c4-b6b5-7167b075ef47"
      },
      "execution_count": null,
      "outputs": [
        {
          "output_type": "stream",
          "name": "stdout",
          "text": [
            "Número de instancias de train: 1969 instancias\n",
            "Número de instancias de test: 971 instancias\n"
          ]
        }
      ]
    },
    {
      "cell_type": "markdown",
      "source": [
        "**3.2. Evaluación Inner: Optimización de Hiperparámetros y Comparación de Modelos**\n",
        "\n",
        "La evaluación interna del modelo nos será útil para optimizar los hiperparámetros y elegir el mejor modelo.\n",
        "\n",
        "Para realizarla aplicaremos validación cruzada en el conjunto de datos de entrenamiento y, puesto que se trata de un problema desbalanceado, dicha validación será estratificada también."
      ],
      "metadata": {
        "id": "CB3eUrQ6Wc1Q"
      }
    },
    {
      "cell_type": "code",
      "source": [
        "from sklearn.model_selection import StratifiedKFold\n",
        "\n",
        "cv_inner = StratifiedKFold(                                                     # Inner evaluation -> validación cruzada estratificada (StratifiedKFold)\n",
        "    n_splits=3,                                                                 # División del conjunto de entrenamiento en 5 particiones o folds.\n",
        "    shuffle=True,                                                               # Se mezclan los datos antes de dividirlos para mayor aleatoriedad\n",
        "    random_state=100495893                                                      # Se fija una semilla para garantizar reproducibilidad, en este caso, el NIA.\n",
        ")                                                                               # cv_inner es un objeto que utilizamos en el siguiente apartado"
      ],
      "metadata": {
        "id": "Au9M_evn_Mof"
      },
      "execution_count": null,
      "outputs": []
    },
    {
      "cell_type": "markdown",
      "source": [
        "---"
      ],
      "metadata": {
        "id": "xM9ZItER1N1z"
      }
    },
    {
      "cell_type": "markdown",
      "source": [
        "### **4. MÉTODOS BÁSICOS: KNN Y TREES**"
      ],
      "metadata": {
        "id": "Dm-R9-AEXKv1"
      }
    },
    {
      "cell_type": "markdown",
      "source": [
        "En este apartado se lleva a cabo la evaluación de distintos métodos de escalado e imputación, los cuales se emplean para preprocesar los datos (escalado para mapear los valores a cierto rango e imputación para rellenar valores faltantes). Utilizaremos validación cruzada, con K-Nearest Neighbors (KNN) como referencia. De este modo obtendremos la mejor combinación para aplicarla en el modelo final."
      ],
      "metadata": {
        "id": "ed6sk5CxsT8K"
      }
    },
    {
      "cell_type": "markdown",
      "source": [
        "PREPROCESADO DE DATOS\n"
      ],
      "metadata": {
        "id": "QgFlcy-u6Nsq"
      }
    },
    {
      "cell_type": "markdown",
      "source": [
        "- **Escalado e imputación usando KNN:**\n",
        "\n"
      ],
      "metadata": {
        "id": "iNMheKfJafhM"
      }
    },
    {
      "cell_type": "code",
      "source": [
        "from sklearn.impute import SimpleImputer\n",
        "from sklearn.preprocessing import MinMaxScaler, StandardScaler, RobustScaler\n",
        "from sklearn.neighbors import KNeighborsClassifier\n",
        "from sklearn.model_selection import cross_val_score\n",
        "from sklearn.pipeline import Pipeline\n",
        "\n",
        "inner_scores = {}                                                               # Diccionario para almacenar los resultados de cada combinación\n",
        "\n",
        "# Alternativa 1.1: KNN con StandardScaler ∧ Media\n",
        "pipeline_std_mean = Pipeline([                                                  # Creacion del Pipeline: Imputer: mean | Scaler: standard | KNN\n",
        "    ('imputer', SimpleImputer(strategy=\"mean\")),                                # Imputación de valores faltantes con la media\n",
        "    ('scaler', StandardScaler()),                                               # Escalado mediante StandardScaler\n",
        "    ('knn', KNeighborsClassifier())                                             # Clasificador K-Nearest Neighbors (KNN)\n",
        "])\n",
        "scores_std = cross_val_score(pipeline_std_mean, X_train, y_train, cv=cv_inner, scoring=\"balanced_accuracy\")             # Validación cruzada: usando cv_inner y balanced_accuracy (Apartado 3)\n",
        "inner_scores['KNN con StandardScaler ∧ Media'] = scores_std.mean()                                                  # Se almacena el resultado en el diccionario inner_scores{}\n",
        "\n",
        "# Alternativa 1.2: KNN con StandardScaler ∧ Mediana\n",
        "pipeline_std_median = Pipeline([                                                # Creacion del Pipeline: Imputer: mean | Scaler: standard | KNN\n",
        "    ('imputer', SimpleImputer(strategy=\"median\")),                              # Imputación de valores faltantes con la media\n",
        "    ('scaler', StandardScaler()),                                               # Escalado mediante StandardScaler\n",
        "    ('knn', KNeighborsClassifier())                                             # Clasificador K-Nearest Neighbors (KNN)\n",
        "])\n",
        "scores_std = cross_val_score(pipeline_std_median, X_train, y_train, cv=cv_inner, scoring=\"balanced_accuracy\")          # Validación cruzada: usando cv_inner y balanced_accuracy (Apartado 3)\n",
        "inner_scores['KNN con StandardScaler ∧ Mediana'] = scores_std.mean()                                               # Se almacena el resultado en el diccionario inner_scores{}\n",
        "\n",
        "# Alternativa 2.1: KNN con MinMaxScaler ∧ Media\n",
        "pipeline_minmax_mean = Pipeline([                                                    # Creacion del Pipeline: Imputer: mean | Scaler: minmax | KNN\n",
        "    ('imputer', SimpleImputer(strategy=\"mean\")),                                # Imputación de valores faltantes con la media\n",
        "    ('scaler', MinMaxScaler()),                                                 # Escalado mediante MinMaxScaler\n",
        "    ('knn', KNeighborsClassifier())                                             # Clasificador K-Nearest Neighbors (KNN)\n",
        "])\n",
        "scores_minmax = cross_val_score(pipeline_minmax_mean, X_train, y_train, cv=cv_inner, scoring=\"balanced_accuracy\")    # Validación cruzada: usando cv_inner y balanced_accuracy (Apartado 3)\n",
        "inner_scores['KNN con MinMaxScaler ∧ Media'] = scores_minmax.mean()                                              # Se almacena el resultado en el diccionario inner_scores{}\n",
        "\n",
        "# Alternativa 2.2: KNN con MinMaxScaler ∧ Mediana\n",
        "pipeline_minmax_median = Pipeline([                                                    # Creacion del Pipeline: Imputer: mean | Scaler: minmax | KNN\n",
        "    ('imputer', SimpleImputer(strategy=\"median\")),                              # Imputación de valores faltantes con la media\n",
        "    ('scaler', MinMaxScaler()),                                                 # Escalado mediante MinMaxScaler\n",
        "    ('knn', KNeighborsClassifier())                                             # Clasificador K-Nearest Neighbors (KNN)\n",
        "])\n",
        "scores_minmax = cross_val_score(pipeline_minmax_median, X_train, y_train, cv=cv_inner, scoring=\"balanced_accuracy\")    # Validación cruzada: usando cv_inner y balanced_accuracy (Apartado 3)\n",
        "inner_scores['KNN con MinMaxScaler ∧ Mediana'] = scores_minmax.mean()                                              # Se almacena el resultado en el diccionario inner_scores{}\n",
        "\n",
        "# Alternativa 3.1: KNN con RobustScaler ∧ Media\n",
        "pipeline_robust_mean = Pipeline([                                               # Creacion del Pipeline: Imputer: mean | Scaler: robustscaler | KNN\n",
        "    ('imputer', SimpleImputer(strategy=\"mean\")),                                # Imputación de valores faltantes con la media\n",
        "    ('scaler', RobustScaler()),                                                 # Escalado mediante RobustScaler\n",
        "    ('knn', KNeighborsClassifier())                                             # Clasificador K-Nearest Neighbors (KNN)\n",
        "])\n",
        "scores_robust = cross_val_score(pipeline_robust_mean, X_train, y_train, cv=cv_inner, scoring=\"balanced_accuracy\")    # Validación cruzada: usando cv_inner y balanced_accuracy (Apartado 3)\n",
        "inner_scores['KNN con RobustScaler ∧ Media'] = scores_robust.mean()                                              # Se almacena el resultado en el diccionario inner_scores{}\n",
        "\n",
        "# Alternativa 3.2: KNN con RobustScaler ∧ Mediana\n",
        "pipeline_robust_median = Pipeline([                                             # Creacion del Pipeline: Imputer: mean | Scaler: robustscaler | KNN\n",
        "    ('imputer', SimpleImputer(strategy=\"median\")),                              # Imputación de valores faltantes con la media\n",
        "    ('scaler', RobustScaler()),                                                 # Escalado mediante RobustScaler\n",
        "    ('knn', KNeighborsClassifier())                                             # Clasificador K-Nearest Neighbors (KNN)\n",
        "])\n",
        "scores_robust = cross_val_score(pipeline_robust_median, X_train, y_train, cv=cv_inner, scoring=\"balanced_accuracy\")    # Validación cruzada: usando cv_inner y balanced_accuracy (Apartado 3)\n",
        "inner_scores['KNN con RobustScaler ∧ Mediana'] = scores_robust.mean()                                              # Se almacena el resultado en el diccionario inner_scores{}\n",
        "\n",
        "# Mostrar los resultados\n",
        "for name, score in inner_scores.items():                                        # Se recorren las claves del diccionario\n",
        "    print(f\"{name}: {score}\")                                                   # Se imprime el nombre y el resultado\n",
        "\n",
        "mejor_metodo = \"\"                                                               # Variable para almacenar el mejor método\n",
        "mejor_puntuacion = 0                                                            # Variable para almacenar la mejor puntuación\n",
        "\n",
        "for metodo, puntuacion in inner_scores.items():                                 # Se recorren los pares clave-valor del diccionario\n",
        "    if puntuacion > mejor_puntuacion:                                           # Check: la puntuación actual es mejor que la mejor puntuación almacenada\n",
        "        mejor_puntuacion = puntuacion                                           # Se actualiza la mejor puntuación\n",
        "        mejor_metodo = metodo                                                   # Se actualiza el mejor método\n",
        "\n",
        "print(\"\\nEl mejor método seleccionado es:\", mejor_metodo)                         # Mostramos por pantalla el mejor método seleccionado"
      ],
      "metadata": {
        "id": "XLrTTK4Nafsc",
        "colab": {
          "base_uri": "https://localhost:8080/"
        },
        "outputId": "56998220-3d32-4cd0-b046-9e889eef590c"
      },
      "execution_count": null,
      "outputs": [
        {
          "output_type": "stream",
          "name": "stdout",
          "text": [
            "KNN con StandardScaler ∧ Media: 0.5838092184385374\n",
            "KNN con StandardScaler ∧ Mediana: 0.5838092184385374\n",
            "KNN con MinMaxScaler ∧ Media: 0.5928219495921444\n",
            "KNN con MinMaxScaler ∧ Mediana: 0.5931249798951748\n",
            "KNN con RobustScaler ∧ Media: 0.5979535676991418\n",
            "KNN con RobustScaler ∧ Mediana: 0.5979541176633941\n",
            "\n",
            "El mejor método seleccionado es: KNN con RobustScaler ∧ Mediana\n"
          ]
        }
      ]
    },
    {
      "cell_type": "markdown",
      "source": [
        "**Algoritmo de Clasificación**\n",
        "\n",
        "Hasta ahora hemos tomado KNN como referencia. Ahora, sin embargo, compararemos distintos algoritmos (KNN, Decision Tree y Random Forest) y observaremos los rendimientos en función de sus hiperparámetros."
      ],
      "metadata": {
        "id": "9Df34W-MuPCg"
      }
    },
    {
      "cell_type": "code",
      "source": [
        "import time\n",
        "import numpy as np\n",
        "from sklearn.tree import DecisionTreeClassifier\n",
        "from sklearn.neighbors import KNeighborsClassifier"
      ],
      "metadata": {
        "id": "lekzzJXQMSCG"
      },
      "execution_count": null,
      "outputs": []
    },
    {
      "cell_type": "markdown",
      "source": [
        "- KNN con hiperparámetros por omisión"
      ],
      "metadata": {
        "id": "3NRRSmu0MTRC"
      }
    },
    {
      "cell_type": "code",
      "source": [
        "pipeline_knn = Pipeline([                                                       # Creacion del Pipeline: Imputer: mean | Scaler: standard | KNN\n",
        "    ('imputer', SimpleImputer(strategy=\"mean\")),                                # Imputación de valores faltantes con la media\n",
        "    ('scaler', StandardScaler()),                                               # Escalado mediante StandardScaler\n",
        "    ('knn', KNeighborsClassifier())                                             # Clasificador K-Nearest Neighbors (KNN). Por defecto, n_neigbors = 5\n",
        "    ])\n",
        "\n",
        "inicio = time.time()                                                                           # Tiempo de inicio\n",
        "scores_KNN = cross_val_score(pipeline_knn, X_train, y_train, cv=cv_inner, scoring=\"balanced_accuracy\")     # Validación cruzada: usando cv_inner y balanced_accuracy\n",
        "print(scores_KNN)                                                                              # Muestra los resultados de la validación cruzada\n",
        "tiempo_KNN = time.time() - inicio                                                              # Tiempo de ejecución\n",
        "score_KNN = np.mean(scores_KNN)                                                                # Media de los resultados de la validación cruzada\n",
        "\n",
        "print(\"Score=\", score_KNN, \", Tiempo=\", tiempo_KNN, \"s\")                                       # Muestra el score y el tiempo de ejecución"
      ],
      "metadata": {
        "colab": {
          "base_uri": "https://localhost:8080/"
        },
        "id": "23pbx7OGMWXo",
        "outputId": "0aa06d68-407e-499b-b969-2a44207380f3"
      },
      "execution_count": null,
      "outputs": [
        {
          "output_type": "stream",
          "name": "stdout",
          "text": [
            "[0.61301921 0.57912886 0.55927959]\n",
            "Score= 0.5838092184385374 , Tiempo= 0.06412196159362793 s\n"
          ]
        }
      ]
    },
    {
      "cell_type": "markdown",
      "source": [
        "- Árbol de decisión con hiperparámetros por omisión"
      ],
      "metadata": {
        "id": "1YrV09DXMY_7"
      }
    },
    {
      "cell_type": "code",
      "source": [
        "from sklearn.tree import DecisionTreeClassifier\n",
        "\n",
        "pipeline_dt = Pipeline([\n",
        "    ('imputer', SimpleImputer(strategy=\"mean\")),                                # Manejo de valores faltantes con la media\n",
        "    ('scaler', StandardScaler()),                                               # Estandarización de datos\n",
        "    ('dt', DecisionTreeClassifier())                                            # Árbol de decisión con pesos balanceados\n",
        "])\n",
        "\n",
        "inicio = time.time()                                                                      # Tiempo de inicio\n",
        "scores_DT = cross_val_score(pipeline_dt, X_train, y_train, cv=cv_inner, scoring=\"balanced_accuracy\")  # Validación cruzada: usando cv_inner y balanced_accuracy\n",
        "print(scores_DT)                                                                          # Muestra los resultados de la validación cruzada\n",
        "tiempo_DT = time.time() - inicio                                                          # Tiempo de ejecución\n",
        "score_DT = np.mean(scores_DT)                                                             # Media de los resultados de la validación cruzada\n",
        "\n",
        "print(\"Score=\", score_DT, \", Tiempo=\", tiempo_DT, \"s\")                          # Muestra el score y el tiempo de ejecución"
      ],
      "metadata": {
        "colab": {
          "base_uri": "https://localhost:8080/"
        },
        "id": "qtR1F-iVMcEY",
        "outputId": "83eb290a-7bd2-4db5-bf30-e63f2c9aff37"
      },
      "execution_count": null,
      "outputs": [
        {
          "output_type": "stream",
          "name": "stdout",
          "text": [
            "[0.7929836  0.69726039 0.73284734]\n",
            "Score= 0.7410304437579032 , Tiempo= 0.08082938194274902 s\n"
          ]
        }
      ]
    },
    {
      "cell_type": "markdown",
      "source": [
        "* Random Forest Classifier con hiperparámetros por omisión"
      ],
      "metadata": {
        "id": "TJgoTgIYMdZT"
      }
    },
    {
      "cell_type": "code",
      "source": [
        "from sklearn.ensemble import RandomForestClassifier\n",
        "\n",
        "pipeline_rf = Pipeline([\n",
        "    ('imputer', SimpleImputer(strategy=\"mean\")),                                # Manejo de valores faltantes con la media\n",
        "    ('scaler', StandardScaler()),                                               # Estandarización de datos\n",
        "    ('rf', RandomForestClassifier())                                            # Árbol de decisión con pesos balanceados\n",
        "])\n",
        "\n",
        "inicio = time.time()                                                                        # Tiempo de inicio\n",
        "scores_RF = cross_val_score(pipeline_rf, X_train, y_train, cv=cv_inner, scoring=\"balanced_accuracy\")    # Validación cruzada: usando cv_inner y balanced_accuracy\n",
        "print(scores_RF)                                                                            # Muestra los resultados de la validación cruzada\n",
        "tiempo_RF = time.time() - inicio                                                            # Tiempo de ejecución\n",
        "score_RF = np.mean(scores_RF)                                                               # Media de los resultados de la validación cruzada\n",
        "\n",
        "print(\"Score=\", score_RF, \", Tiempo=\", tiempo_RF, \"s\")                          # Muestra el score y el tiempo de ejecución"
      ],
      "metadata": {
        "colab": {
          "base_uri": "https://localhost:8080/"
        },
        "id": "p9f5IqDCMe91",
        "outputId": "7e2eb319-32c2-4807-bd21-909a5593499f"
      },
      "execution_count": null,
      "outputs": [
        {
          "output_type": "stream",
          "name": "stdout",
          "text": [
            "[0.77467212 0.73061101 0.74909091]\n",
            "Score= 0.7514580140341192 , Tiempo= 1.022719383239746 s\n"
          ]
        }
      ]
    },
    {
      "cell_type": "markdown",
      "source": [
        "* Balanced Random Forest con hiperparámetros por omisión (Extra)"
      ],
      "metadata": {
        "id": "gPlpY2b2Mhb8"
      }
    },
    {
      "cell_type": "code",
      "source": [
        "from imblearn.ensemble import BalancedRandomForestClassifier\n",
        "\n",
        "pipeline_brf = Pipeline([\n",
        "    ('imputer', SimpleImputer(strategy=\"mean\")),                                # Manejo de valores faltantes con la media\n",
        "    ('scaler', StandardScaler()),                                               # Estandarización de datos\n",
        "    ('brf', BalancedRandomForestClassifier())                                   # Árbol de decisión con pesos balanceados\n",
        "])\n",
        "\n",
        "inicio = time.time()                                                                        # Tiempo de inicio\n",
        "scores_BRF = cross_val_score(pipeline_brf, X_train, y_train, cv=cv_inner, scoring=\"balanced_accuracy\")  # Validación cruzada: usando cv_inner y balanced_accuracy\n",
        "print(scores_BRF)                                                                           # Muestra los resultados de la validación cruzada\n",
        "tiempo_BRF = time.time() - inicio                                                           # Tiempo de ejecución\n",
        "score_BRF = np.mean(scores_BRF)                                                             # Media de los resultados de la validación cruzada\n",
        "\n",
        "print(\"Score=\", score_BRF, \", Tiempo=\", tiempo_BRF, \"s\")                        # Muestra el score y el tiempo de ejecución"
      ],
      "metadata": {
        "colab": {
          "base_uri": "https://localhost:8080/"
        },
        "id": "fgQjHcegMimQ",
        "outputId": "f06b8a01-bf70-4555-e151-266944508590"
      },
      "execution_count": null,
      "outputs": [
        {
          "output_type": "stream",
          "name": "stdout",
          "text": [
            "[0.85067459 0.80383718 0.81360206]\n",
            "Score= 0.8227046085670199 , Tiempo= 1.0852417945861816 s\n"
          ]
        }
      ]
    },
    {
      "cell_type": "markdown",
      "source": [
        "- KNN con ajuste de hiperparámetros"
      ],
      "metadata": {
        "id": "BuHvkwqKMkTC"
      }
    },
    {
      "cell_type": "code",
      "source": [
        "from sklearn.model_selection import GridSearchCV\n",
        "\n",
        "param_grid_knn = {                                                              # Hiperparámetros:\n",
        "    'knn__n_neighbors': [2, 3, 5, 7, 9],                                           # Número de vecinos a considerar\n",
        "    'knn__weights': ['uniform', 'distance'],                                    # Ponderación de los vecinos\n",
        "    'knn__metric': ['euclidean', 'manhattan']                                   # Métrica de distancia\n",
        "}\n",
        "                                                                                # Encuentra la mejor combinación de hiperparámetros\n",
        "grid_search_knn = GridSearchCV(pipeline_knn,                                    # Pipeline del modelo KNN\n",
        "                               param_grid_knn,                                  # Hiperparámetros a ajustar\n",
        "                               cv=cv_inner,                                     # Evaluación interna (inner)\n",
        "                               scoring=\"balanced_accuracy\",                     # Métrica para la evaluación\n",
        "                               n_jobs=-1)                                       # Usar todos los núcleos disponibles\n",
        "\n",
        "inicio = time.time()                                                            # Obtenemos el tiempo inicial\n",
        "grid_search_knn.fit(X_train, y_train)                                                       # Busca los mejores hipérparametros y entrena el modelo\n",
        "tiempo_gs_brf = time.time() - inicio                                            # Calculamos el tiempo total\n",
        "\n",
        "\n",
        "best_knn = grid_search_knn.best_estimator_                                      # KNN con la mejor config\n",
        "best_score_knn = grid_search_knn.best_score_                                    # Mejor puntuación de la validación cruzada\n",
        "print(\"\\nMejor configuración KNN:\", grid_search_knn.best_params_)                 # Muestra por pantalla los mejores hiperparámetros\n",
        "print(\"Mejor Score KNN:\", best_score_knn, \", Tiempo=\", tiempo_gs_brf, \"s\")      # Muestra por pantalla la puntuación"
      ],
      "metadata": {
        "id": "ZYmPX4yhMlNC",
        "colab": {
          "base_uri": "https://localhost:8080/"
        },
        "outputId": "cd690b55-9df6-43b9-c8b1-2d75c590408a"
      },
      "execution_count": null,
      "outputs": [
        {
          "output_type": "stream",
          "name": "stdout",
          "text": [
            "\n",
            "Mejor configuración KNN: {'knn__metric': 'manhattan', 'knn__n_neighbors': 2, 'knn__weights': 'distance'}\n",
            "Mejor Score KNN: 0.7942168743757622 , Tiempo= 6.076888561248779 s\n"
          ]
        }
      ]
    },
    {
      "cell_type": "markdown",
      "source": [
        "- Árbol de decisión con ajuste de hiperparámetros"
      ],
      "metadata": {
        "id": "y6iDetE0Ml7k"
      }
    },
    {
      "cell_type": "code",
      "source": [
        "param_grid_dt = {                                                               # Hiperparámetros:\n",
        "    'dt__max_depth': [5, 10, 15, None],                                         # Profundidad máxima del árbol\n",
        "                                                                                # No me gusta mucho None, permite que el árbol se expanda sin limite.\n",
        "    'dt__min_samples_split': [2, 5, 10],                                        # Número mínimo de muestras necesarias para dividir un nodo\n",
        "    'dt__min_samples_leaf': [1, 2, 5]                                           # Número mínimo de muestras necesarias en una hoja\n",
        "}\n",
        "\n",
        "grid_search_dt = GridSearchCV(pipeline_dt,                                      # Pipeline del modelo DT\n",
        "                              param_grid_dt,                                    # Hiperparámetros a ajustar\n",
        "                              cv=cv_inner,                                      # Evaluación interna (inner)\n",
        "                              scoring=\"balanced_accuracy\",                      # Métrica para la evaluación\n",
        "                              n_jobs=-1)                                        # Usar todos los núcleos disponibles\n",
        "\n",
        "inicio = time.time()                                                            # Obtenemos el tiempo inicial\n",
        "grid_search_dt.fit(X_train, y_train)                                                        # Busca los mejores hiperparámetros y entrena el modelo\n",
        "tiempo_gs_brf = time.time() - inicio                                            # Calculamos el tiempo total\n",
        "\n",
        "\n",
        "best_dt = grid_search_dt.best_estimator_                                        # Decision Tree con la mejor config\n",
        "best_score_dt = grid_search_dt.best_score_                                      # Mejor puntuación de la validación cruzada\n",
        "print(\"\\nMejor configuración DT:\", grid_search_dt.best_params_)                   # Muestra por pantalla los mejores hiperparámetros\n",
        "print(\"Mejor Score DT:\", best_score_dt, \", Tiempo=\", tiempo_gs_brf, \"s\")        # Muestra por pantalla la puntuación"
      ],
      "metadata": {
        "id": "b_580j4AMpZk",
        "colab": {
          "base_uri": "https://localhost:8080/"
        },
        "outputId": "70f78d4a-3125-4bd5-f17a-851e5d8467f3"
      },
      "execution_count": null,
      "outputs": [
        {
          "output_type": "stream",
          "name": "stdout",
          "text": [
            "\n",
            "Mejor configuración DT: {'dt__max_depth': None, 'dt__min_samples_leaf': 1, 'dt__min_samples_split': 2}\n",
            "Mejor Score DT: 0.7476704556881252 , Tiempo= 1.9905905723571777 s\n"
          ]
        }
      ]
    },
    {
      "cell_type": "markdown",
      "source": [
        "* Random Forest con ajuste de hiperparámetros"
      ],
      "metadata": {
        "id": "zZgyyroLMp7k"
      }
    },
    {
      "cell_type": "code",
      "source": [
        "param_grid_rf = {                                                               # Hiperparámetros:\n",
        "    'rf__n_estimators': [50, 100, 200],                                         # Número de árboles en el bosque\n",
        "    'rf__max_depth': [5, 10, None],                                             # Profundidad máxima de cada árbol\n",
        "                                                                                # No me gusta mucho None, permite que el árbol se expanda sin limite.\n",
        "    'rf__min_samples_split': [2, 5, 10],                                        # Número mínimo de muestras necesarias para dividir un nodo\n",
        "    'rf__min_samples_leaf': [1, 2, 5]                                           # Número mínimo de muestras necesarias en una hoja\n",
        "}\n",
        "\n",
        "grid_search_rf = GridSearchCV(pipeline_rf,                                      # Pipeline del modelo RF\n",
        "                              param_grid_rf,                                    # Hiperparámetros a ajustar\n",
        "                              cv=cv_inner,                                      # Evaluación interna (inner)\n",
        "                              scoring=\"balanced_accuracy\",                      # Métrica para la evaluación\n",
        "                              n_jobs=-1)                                        # Usar todos los núcleos disponibles\n",
        "\n",
        "inicio = time.time()                                                            # Obtenemos el tiempo inicial\n",
        "grid_search_rf.fit(X_train, y_train)                                                        # Busca los mejores hiperparámetros y entrena el modelo\n",
        "tiempo_gs_brf = time.time() - inicio                                            # Calculamos el tiempo total\n",
        "\n",
        "\n",
        "best_rf = grid_search_rf.best_estimator_                                        # Random Forest con la mejor config\n",
        "best_score_rf = grid_search_rf.best_score_                                      # Mejor puntuación de la validación cruzada\n",
        "print(\"\\nMejor configuración RF:\", grid_search_rf.best_params_)                   # Muestra por pantalla los mejores hiperparámetros\n",
        "print(\"Mejor Score RF:\", best_score_rf, \", Tiempo=\", tiempo_gs_brf, \"s\")        # Muestra por pantalla la puntuación"
      ],
      "metadata": {
        "id": "SMyOuSPQMtS7",
        "colab": {
          "base_uri": "https://localhost:8080/"
        },
        "outputId": "957ca3ed-a7c2-4e13-b9dc-9bc8daca5ee4"
      },
      "execution_count": null,
      "outputs": [
        {
          "output_type": "stream",
          "name": "stdout",
          "text": [
            "\n",
            "Mejor configuración RF: {'rf__max_depth': None, 'rf__min_samples_leaf': 1, 'rf__min_samples_split': 2, 'rf__n_estimators': 50}\n",
            "Mejor Score RF: 0.7458474665004816 , Tiempo= 90.52916073799133 s\n"
          ]
        }
      ]
    },
    {
      "cell_type": "markdown",
      "source": [
        "* Balanced Random Forest con ajuste de hiperparámetros (extra)"
      ],
      "metadata": {
        "id": "IZYqItGeMuu3"
      }
    },
    {
      "cell_type": "code",
      "source": [
        "param_grid_brf = {                                                              # Hiperparámetros:\n",
        "    'brf__n_estimators': [50, 100, 200],                                        # Número de árboles en el bosque\n",
        "    'brf__max_depth': [10, 20, None],                                           # Profundidad máxima de cada árbol\n",
        "                                                                                # No me gusta mucho None, permite que el árbol se expanda sin limite.\n",
        "    'brf__min_samples_split': [2, 5, 10],                                       # Número mínimo de muestras necesarias para dividir un nodo\n",
        "    'brf__min_samples_leaf': [1, 2, 4]                                          # Número mínimo de muestras necesarias en una hoja\n",
        "}\n",
        "\n",
        "gs_brf = GridSearchCV(pipeline_brf,                                             # Pipeline del modelo BRF\n",
        "                      param_grid_brf,                                           # Hiperparámetros a ajustar\n",
        "                      cv=cv_inner,                                              # Evaluación interna (inner)\n",
        "                      scoring=\"balanced_accuracy\",                              # Métrica para la evaluación\n",
        "                      n_jobs=-1)                                                # Usar todos los núcleos disponibles\n",
        "\n",
        "inicio = time.time()                                                            # Obtenemos el tiempo inicial\n",
        "gs_brf.fit(X_train, y_train)                                                                # Busca los mejores hiperparámetros y entrena el modelo\n",
        "tiempo_gs_brf = time.time() - inicio                                            # Calculamos el tiempo total\n",
        "\n",
        "print(\"Mejor configuración BRF:\", gs_brf.best_params_)                          # Muestra por pantalla los mejores hiperparámetros\n",
        "print(\"Mejor score BRF:\", gs_brf.best_score_, \", Tiempo=\", tiempo_gs_brf, \"s\")  # Muestra por pantalla la puntuación"
      ],
      "metadata": {
        "id": "0i6K_UczMv5N",
        "colab": {
          "base_uri": "https://localhost:8080/"
        },
        "outputId": "7251af81-f56d-4bd7-9f80-8382df1e285f"
      },
      "execution_count": null,
      "outputs": [
        {
          "output_type": "stream",
          "name": "stdout",
          "text": [
            "Mejor configuración BRF: {'brf__max_depth': None, 'brf__min_samples_leaf': 1, 'brf__min_samples_split': 2, 'brf__n_estimators': 100}\n",
            "Mejor score BRF: 0.8334745234371986 , Tiempo= 93.27985286712646 s\n"
          ]
        }
      ]
    },
    {
      "cell_type": "markdown",
      "source": [
        "###**Resultados y Observaciones**###\n",
        "\n",
        "Para visualizar cómo los distintos hiperparámetros afectaron al rendimiento de KNN y los árboles de decisión, se crearon gráficos con la librería matplotlib. Los resultados fueron los siguientes:\n"
      ],
      "metadata": {
        "id": "jpd2G5lIH07f"
      }
    },
    {
      "cell_type": "markdown",
      "source": [
        "**KNN y N_neighbours**\n",
        "\n",
        "KNN calcula el valor de un punto tomando la mayoría o la media de sus K vecinos más cercanos, siendo k el hiperparámetro n_neighbours.\n",
        "\n",
        "Se observa que según aumenta n_neighbours, la eficancia del modelo disminuye. Esto es coherente ya que a medida que se incrementa el número de vecinos, se empiezan a incluir datos más y más lejanos, haciendo el modelo más general (underfitting).\n",
        "\n",
        "Lo óptimo es escoger un valor de n_neighbours intermedio (pues muy bajo produciría lo contrario, overfitting), y en nuestro caso es n_neighbours=3.\n",
        "\n",
        "Adicionalmente, observamos que el algoritmo trabaja mejor cuando se pondera la distancia de los vecinos (distance) y, sobretodo, si esta es distancia Manhattan."
      ],
      "metadata": {
        "id": "_e_q04RPJK3i"
      }
    },
    {
      "cell_type": "code",
      "source": [
        "import matplotlib.pyplot as plt\n",
        "import seaborn as sns\n",
        "import pandas as pd\n",
        "\n",
        "# Convertir los resultados de GridSearchCV en un DataFrame\n",
        "results_df = pd.DataFrame(grid_search_knn.cv_results_)\n",
        "\n",
        "# Crear una nueva columna que combine métrica y peso\n",
        "results_df[\"metric_weights\"] = results_df[\"param_knn__metric\"] + \" - \" + results_df[\"param_knn__weights\"]\n",
        "\n",
        "# Definir colores personalizados\n",
        "custom_palette = {\n",
        "    \"euclidean - uniform\": \"#F857C1\",  # Rosa\n",
        "    \"euclidean - distance\": \"#a2ed65\",  # Verde\n",
        "    \"manhattan - uniform\": \"#FFAF00\",  # Amarillo\n",
        "    \"manhattan - distance\": \"#ed0027\" # Rojo\n",
        "}\n",
        "\n",
        "# Crear el gráfico con las combinaciones separadas\n",
        "plt.figure(figsize=(10, 6))\n",
        "sns.lineplot(\n",
        "    data=results_df,\n",
        "    x=\"param_knn__n_neighbors\",\n",
        "    y=\"mean_test_score\",\n",
        "    hue=\"metric_weights\",  # Diferencia por métrica y pesos\n",
        "    markers=False,\n",
        "    dashes=False,\n",
        "    linewidth=2,\n",
        "    palette=custom_palette\n",
        ")\n",
        "\n",
        "# Personalización del gráfico\n",
        "plt.xlabel(\"N_neighbours\")\n",
        "plt.ylabel(\"Balanced Accuracy\")\n",
        "plt.title(\"KNN - n_neighbors, métrica, pesos\")\n",
        "plt.legend(title=\"Métrica y Pesos\")\n",
        "plt.grid(True)\n",
        "plt.show()\n"
      ],
      "metadata": {
        "id": "hexuvE5W9i1n",
        "colab": {
          "base_uri": "https://localhost:8080/",
          "height": 565
        },
        "outputId": "ce2878ca-a64e-4530-f9bf-5573f4413a15"
      },
      "execution_count": null,
      "outputs": [
        {
          "output_type": "display_data",
          "data": {
            "text/plain": [
              "<Figure size 1000x600 with 1 Axes>"
            ],
            "image/png": "[encoded data removed]"
          },
          "metadata": {}
        }
      ]
    },
    {
      "cell_type": "markdown",
      "source": [
        "**Árbol de Decisión y max_depth.**\n",
        "\n",
        "Un árbol de decisión divide recursivamente el conjunto de datos basándose en características (con cada característica -nodo del árbol-, se crean distintas divisiones -ramas del árbol-). Aquí el hiperparámetro max_depth indica la profundidad máxima del árbol (la cantidad máxima de particiones).  \n",
        "\n",
        "Se observa en el gráfico que la precisión del algoritmo es mayor cuanto mayor es la profundidad máxima. No obstante, la diferencia de resultados a partir de los 15 árboles de profundidad es marginal.\n",
        "\n",
        "El hiperparámetro min_samples_split, por otro lado, establece el número mínimo de instancias que debe haber para hacer una partición. Cuanto menor es, más particiones puede hacer el algoritmo y por tanto, más precisa es su separación de datos. De forma similar funciona el hiperparámetro min_samples_leaf, solo que este se refiere a instancias para formar un nodo terminal (hoja).\n",
        "\n",
        "Es por ello que el mejor rendimiento del modelo lo encontramos con min_samples_split=2 y min_samples_leaf=1, en donde la división de datos es lo más precisa. Respecto a la profundidad máxima, como se ha apreciado anteriormente, es igual de válida max_depth=15 que max_depth=20, ya que los resultados son similares (y de hecho max_depth=15 podría reducir el coste computacional)."
      ],
      "metadata": {
        "id": "RlDKzbxMLasc"
      }
    },
    {
      "cell_type": "code",
      "source": [
        "import matplotlib.pyplot as plt\n",
        "import seaborn as sns\n",
        "import pandas as pd\n",
        "\n",
        "# Convertir los resultados de GridSearchCV en un DataFrame\n",
        "results_dt_df = pd.DataFrame(grid_search_dt.cv_results_)\n",
        "\n",
        "# Convertir None a cadena para evitar errores en la gráfica\n",
        "results_dt_df['param_dt__max_depth'] = results_dt_df['param_dt__max_depth'].astype(str)\n",
        "\n",
        "# Definir una paleta de colores personalizada\n",
        "custom_palette_dt = {\n",
        "    \"5\": \"#2ca02c\",   # Verde\n",
        "    \"10\":  \"#F857C1\",   # Rosa\n",
        "    \"15\": \"#ed0027\", # Rojo\n",
        "    \"None\": \"#ffcf42\"  # Amarillo\n",
        "}\n",
        "\n",
        "# Crear un gráfico combinado\n",
        "plt.figure(figsize=(10, 6))\n",
        "sns.lineplot(\n",
        "    data=results_dt_df,\n",
        "    x=\"param_dt__min_samples_split\",\n",
        "    y=\"mean_test_score\",\n",
        "    hue=\"param_dt__max_depth\",  # Diferencia por max_depth\n",
        "    style=\"param_dt__min_samples_leaf\",  # Diferencia por min_samples_leaf\n",
        "    markers=True,\n",
        "    dashes=False,\n",
        "    linewidth=2,\n",
        "    palette=custom_palette_dt\n",
        ")\n",
        "\n",
        "# Personalización del gráfico\n",
        "plt.xlabel(\"Min_samples_split\")\n",
        "plt.ylabel(\"Balanced Accuracy\")\n",
        "plt.title(\"Decision Tree - max_depth, min_samples_split, min_samples_split\")\n",
        "plt.grid(True)\n",
        "plt.show()\n"
      ],
      "metadata": {
        "id": "auFTsdjFG_K4",
        "colab": {
          "base_uri": "https://localhost:8080/",
          "height": 564
        },
        "outputId": "b3707658-ecc0-41d8-c962-1722648662d3"
      },
      "execution_count": null,
      "outputs": [
        {
          "output_type": "display_data",
          "data": {
            "text/plain": [
              "<Figure size 1000x600 with 1 Axes>"
            ],
            "image/png": "[encoded data removed]"
          },
          "metadata": {}
        }
      ]
    },
    {
      "cell_type": "markdown",
      "source": [
        "**Random Forest y n_estimators**\n",
        "\n",
        "Random Forest crea un bosque de N árboles de decisión y da como resultado la media o el valor mayoritario de todos los árboles. En este algoritmo, encontramos el hiperparámetro n_estimators, indicando la cantidad de árboles a usar, y los hiperparámetros de cada árbol individual (max_depth, min_samples_leaf, min_samples_split).\n",
        "\n",
        "Para estudiar el comportamiento del algoritmo frente a los hiperparámetros, hemos querido simplificar ajustando min_samples_leaf=1 y mean_samples_split=2, ya que hemos visto en el apartado anterior (Decision Tree) que son los que mejores resultados dan. Por lo tanto, nos centramos únicamente en la cantidad de árboles y la profundidad de estos.\n",
        "\n",
        "Como podemos ver en el gráfico, al aumentar la cantidad y profundidad de árboles, mejoran las predicciones del modelo. Por tanto, es coherente que el mejor modelo se haya obtenido con n_estimators=200 y max_depth=None.\n",
        "\n",
        "(Añadir, no obstante, que los resultados fueron similares para los 3 valores de n_estimators (50, 100, 200). De ello también podemos concluir que podría usarse un valor menor de n_estimators y seguir consiguiendo una accuracy similar, lo cual reduciría el el costo computacional)."
      ],
      "metadata": {
        "id": "MNNRM1Sqmt42"
      }
    },
    {
      "cell_type": "code",
      "source": [
        "import matplotlib.pyplot as plt\n",
        "import seaborn as sns\n",
        "import pandas as pd\n",
        "\n",
        "# Convertir los resultados de GridSearchCV en un DataFrame\n",
        "results_df = pd.DataFrame(grid_search_rf.cv_results_)\n",
        "\n",
        "# Filtrar solo los valores con min_samples_split=2 y min_samples_leaf=1\n",
        "filtered_df = results_df[\n",
        "    (results_df[\"param_rf__min_samples_split\"] == 2) &\n",
        "    (results_df[\"param_rf__min_samples_leaf\"] == 1)\n",
        "].copy()\n",
        "\n",
        "# Convertir None en una cadena para evitar errores en Seaborn\n",
        "filtered_df[\"param_rf__max_depth\"] = filtered_df[\"param_rf__max_depth\"].astype(str)\n",
        "\n",
        "# Definir colores personalizados para cada número de árboles (n_estimators)\n",
        "custom_palette = {\n",
        "    50: \"#F857C1\",  # Rosa\n",
        "    100: \"#a2ed65\",  # Verde\n",
        "    200: \"#FFAF00\"  # Amarillo\n",
        "}\n",
        "\n",
        "# Crear el gráfico con las combinaciones separadas\n",
        "plt.figure(figsize=(10, 6))\n",
        "sns.lineplot(\n",
        "    data=filtered_df,\n",
        "    x=\"param_rf__max_depth\",  # Eje X -> Profundidad máxima\n",
        "    y=\"mean_test_score\",       # Eje Y -> Balanced Accuracy\n",
        "    hue=\"param_rf__n_estimators\",  # Diferencia por número de árboles\n",
        "    markers=True,\n",
        "    dashes=False,\n",
        "    linewidth=2,\n",
        "    palette=custom_palette\n",
        ")\n",
        "\n",
        "# Personalización del gráfico\n",
        "plt.xlabel(\"Max_depth\")\n",
        "plt.ylabel(\"Balanced Accuracy\")\n",
        "plt.title(\"Random Forest - n_estimators, max_depth\")\n",
        "plt.legend(title=\"N_estimators\")\n",
        "plt.grid(True)\n",
        "plt.show()\n"
      ],
      "metadata": {
        "id": "ctCuJurhmjW_",
        "colab": {
          "base_uri": "https://localhost:8080/",
          "height": 564
        },
        "outputId": "d691798a-ac29-4d41-c633-802ee4fa0fe3"
      },
      "execution_count": null,
      "outputs": [
        {
          "output_type": "display_data",
          "data": {
            "text/plain": [
              "<Figure size 1000x600 with 1 Axes>"
            ],
            "image/png": "[encoded data removed]"
          },
          "metadata": {}
        }
      ]
    },
    {
      "cell_type": "markdown",
      "source": [
        "Si analizamos los resultados finales, al margen de los gráficos, vemos que los Árboles de Decisión y los Random Forests obtuvieron resultados similares tanto con la mejor configuración de hiperparámetros como con los hiperparámetros por omisión.\n",
        "\n",
        "En cambio, para KNN, la diferencia entre configurar los hiperparámetros o no sí fue notable (0.9142 frente a 0.6230). Además, este resultó ser el mejor algoritmo al obtener la máxima Accuracy una vez ajustado.\n",
        "\n",
        "Respecto al coste computacional, KNN también es el algoritmo ganador al tener el menor coste (10.4167s frente a 11.8147s de Decision Tree y 212.9979s de Random Forest). <------ NO TIENE MUCHO SENTIDO ESTE PÁRRAFO porque estoy comparando el gridsearch entero, no el algoritmo en sí (algunos tienen más hiperparámetros que probar que otros). no sé qué poner\n",
        "\n",
        "Concluimos por tanto en esta sección que el mejor método es KNN con distancia Manhattan y número de vecinos K = 3.\n",
        "\n",
        "---"
      ],
      "metadata": {
        "id": "cltzTRQwgRHq"
      }
    },
    {
      "cell_type": "markdown",
      "source": [
        "### **5. AVANZADOS: MODELOS LINEALES y SVMs**\n",
        "\n"
      ],
      "metadata": {
        "id": "eNIKtH_ZjiU7"
      }
    },
    {
      "cell_type": "markdown",
      "source": [
        "En esta sección evaluaremos modelos lineales (con y sin regularización L1) y SVMs.\n",
        "Evaluaremos sus rendimientos y tiempos de ejecución usando primero hiperparámetros por omisión y, después, ajustando los hiperparámetros con GridSearch. El objetivo es encontrar los mejores hiperparámetros para cada algoritmo. Además, descubriremos qué variables son las más influyentes en el conjunto de datos.\n",
        "\n",
        "- Carga de librerías necesarias."
      ],
      "metadata": {
        "id": "1ygIESfYUrpD"
      }
    },
    {
      "cell_type": "code",
      "source": [
        "import time\n",
        "import numpy as np\n",
        "from sklearn.pipeline import Pipeline\n",
        "from sklearn.impute import SimpleImputer\n",
        "from sklearn.preprocessing import StandardScaler\n",
        "from sklearn.linear_model import LogisticRegression\n",
        "from sklearn.svm import SVC\n",
        "from sklearn.model_selection import cross_val_score, GridSearchCV"
      ],
      "metadata": {
        "id": "Uqc9VRZ0UrT-"
      },
      "execution_count": null,
      "outputs": []
    },
    {
      "cell_type": "markdown",
      "source": [
        "- Modelo lineal con hiperparámetros por omisión.\n",
        "\n",
        "Los modelos lineales establecen una relación entre una o más variables (variables independientes) y un resultado (variable dependiente). El modelo más básico sería una regresión lineal, pero este es apropiado para problemas de valores continuos.\n",
        "En nuestro caso, utilizaremos una regresión logística ya que es ideal para problemas de clasificación binaria. Los modelos de regresión logística acotan el resultado entre 0 y 1, siendo 0 Attrition='No' y 1 Attrition='Yes' en nuestro problema."
      ],
      "metadata": {
        "id": "z0opWxotUvkP"
      }
    },
    {
      "cell_type": "code",
      "source": [
        "# El modelo utilizado ha sido el de regresión logística\n",
        "\n",
        "pipeline_lr = Pipeline([\n",
        "    ('imputer', SimpleImputer(strategy=\"mean\")),                                # Rellenamos valores faltantes con la media\n",
        "    ('scaler', StandardScaler()),                                               # Estandarización de datos\n",
        "    ('model', LogisticRegression())                                             # El modelo a aplicar será: Regresión Logística\n",
        "])\n",
        "\n",
        "inicio = time.time()                                                                        # Tomamos una medida del tiempo incial\n",
        "scores_lr = cross_val_score(pipeline_lr, X_train, y_train, cv=cv_inner, scoring=\"balanced_accuracy\")    # Validación cruzada utilizando balanced_accuracy\n",
        "tiempo_lr = time.time() - inicio                                                            # Cerramos la medida del tiempo, indicando cuando ha tardado\n",
        "\n",
        "print(\"Regresión Logística,\", \"Score:\", np.mean(scores_lr), \", Tiempo:\", tiempo_lr, \"s\")    # Mostramos un mensaje por pantalla con los resultados"
      ],
      "metadata": {
        "colab": {
          "base_uri": "https://localhost:8080/"
        },
        "id": "TevU-gF5UwVJ",
        "outputId": "7ff956cc-acbb-4a7b-fac1-977ec9d793cc"
      },
      "execution_count": null,
      "outputs": [
        {
          "output_type": "stream",
          "name": "stdout",
          "text": [
            "Regresión Logística, Score: 0.6035584302923275 , Tiempo: 0.08176207542419434 s\n"
          ]
        }
      ]
    },
    {
      "cell_type": "markdown",
      "source": [
        "- Máquinas de Vectores de Soporte (SVMs) con hipérparametros por omisión.\n",
        "\n",
        "Las SVMs tratan de encontrar una recta o plano que separe correctamente las instancias del conjunto de datos (representadas como puntos). El objetivo es encontrar aquel plano con mayor distancia entre él y los puntos.\n",
        "\n",
        "A diferencia de los modelos lineales clásicos, como la regresión logística, las SVM pueden resolver problemas donde los datos no son linealmente separables usando kernels (transformar los datos a un espacio de mayor dimensión donde sí es posible encontrar una separación).\n"
      ],
      "metadata": {
        "id": "t1Pi2VsiUzZ4"
      }
    },
    {
      "cell_type": "code",
      "source": [
        "# La SVM utilizada ha sido la Máquina de Vectores de Soporte (SVM) de Clasificación\n",
        "\n",
        "pipeline_svm = Pipeline([\n",
        "    ('imputer', SimpleImputer(strategy=\"mean\")),                                # Rellenamos valores faltantes con la media\n",
        "    ('scaler', StandardScaler()),                                               # Estandarización de datos\n",
        "    ('model', SVC())                                                            # El modelo a aplicar será: SVM de clasificación\n",
        "])\n",
        "\n",
        "inicio = time.time()                                                                          # Tomamos una medida del tiempo incial\n",
        "scores_svm = cross_val_score(pipeline_svm, X_train, y_train, cv=cv_inner, scoring=\"balanced_accuracy\")    # Validación cruzada utilizando balanced_accuracy\n",
        "tiempo_svm = time.time() - inicio                                                             # Cerramos la medida del tiempo, indicando cuando ha tardado\n",
        "\n",
        "print(\"SVM,\", \"Score:\", np.mean(scores_svm), \", Tiempo:\", tiempo_svm, \"s\")      # Mostramos un mensaje por pantalla con los resultados"
      ],
      "metadata": {
        "colab": {
          "base_uri": "https://localhost:8080/"
        },
        "id": "3arcJs8OU6vQ",
        "outputId": "23a81ca0-3d6f-4da9-ae88-729ac909d982"
      },
      "execution_count": null,
      "outputs": [
        {
          "output_type": "stream",
          "name": "stdout",
          "text": [
            "SVM, Score: 0.6301198398294586 , Tiempo: 0.2710404396057129 s\n"
          ]
        }
      ]
    },
    {
      "cell_type": "markdown",
      "source": [
        "- Modelos Lineales con ajuste de hipérparametros (HPO)."
      ],
      "metadata": {
        "id": "efcKyXK8U1FN"
      }
    },
    {
      "cell_type": "code",
      "source": [
        "param_grid_lr = [{                                                               # Establecemos los parámetros de la búsqueda HPO con Regresión Logística\n",
        "    'model__C': [0.01, 0.1, 1, 10, 100],                                        # Valores para el parametro de regularización C\n",
        "    'model__penalty': ['l1'],                                             # Tipos de penalizacion (con penalización L1)\n",
        "    'model__solver': ['liblinear']                                              # El solver 'liblinear' soporta las penalizaciones, hace falta para L1\n",
        "},\n",
        "{ # Primero todas las combinaciones con regularización y luego las sin regularización, evitando warnings\n",
        "        'model__penalty': [None],\n",
        "        'model__solver': ['newton-cholesky'] # Requerido para modelos no penalizados (no funciona liblinear)\n",
        "    }\n",
        "]\n",
        "grid_search_lr = GridSearchCV(pipeline_lr, param_grid_lr, cv=cv_inner, scoring=\"balanced_accuracy\", n_jobs=-1)   # Iniciamos la busqueda con el Pipeline de Regresión Logística\n",
        "inicio = time.time()                                                                                             # Tomamos una medida del tiempo incial\n",
        "grid_search_lr.fit(X_train, y_train)                                                                                         # Validación cruzada utilizando balanced_accuracy\n",
        "tiempo_gs_lr = time.time() - inicio                                                                              # Cerramos la medida del tiempo, indicando cuando ha tardado\n",
        "\n",
        "print(\"\\nMejor configuración Regresión Logística,\", grid_search_lr.best_params_)                       # Mostramos un mensaje por pantalla con los resultados: best params encontrados\n",
        "print(\"Mejor Score Regresión Logística,\", grid_search_lr.best_score_, \", Tiempo:\", tiempo_gs_lr, \"s\")  # Mostramos un mensaje por pantalla con los resultados: best score obtenido"
      ],
      "metadata": {
        "colab": {
          "base_uri": "https://localhost:8080/"
        },
        "id": "t02s9HdkU-6h",
        "outputId": "202374da-6253-4187-e71b-ca48893fc074"
      },
      "execution_count": null,
      "outputs": [
        {
          "output_type": "stream",
          "name": "stdout",
          "text": [
            "\n",
            "Mejor configuración Regresión Logística, {'model__C': 100, 'model__penalty': 'l1', 'model__solver': 'liblinear'}\n",
            "Mejor Score Regresión Logística, 0.6064749539707592 , Tiempo: 0.46770620346069336 s\n"
          ]
        }
      ]
    },
    {
      "cell_type": "markdown",
      "source": [
        "Máquinas de Vector de Soporte (SVMs) con ajuste de hipérparametros (HPO)."
      ],
      "metadata": {
        "id": "FF8IRrs7VCAi"
      }
    },
    {
      "cell_type": "code",
      "source": [
        "param_grid_svm = {                                                              # Establecemos los parámetros de la búsqueda HPO con SVC\n",
        "    'model__C': [0.01, 1, 10, 20],                                                  # Valores para el parametro de regularización C\n",
        "    'model__kernel': ['linear', 'rbf']                                          # Queremos probar los tipos de kernel: lineal (Modelos Lineales), y rbf (No Lineal, otro)\n",
        "}\n",
        "\n",
        "grid_search_svm = GridSearchCV(pipeline_svm, param_grid_svm, cv=cv_inner, scoring=\"balanced_accuracy\", n_jobs=-1) # Iniciamos la busqueda con el Pipeline de SVC\n",
        "inicio = time.time()                                                                                              # Tomamos una medida del tiempo incial\n",
        "grid_search_svm.fit(X_train, y_train)                                                                                         # Validación cruzada utilizando balanced_accuracy\n",
        "tiempo_gs_svm = time.time() - inicio                                                                              # Cerramos la medida del tiempo, indicando cuando ha tardado\n",
        "\n",
        "print(\"\\nMejor configuración SVM,\", grid_search_svm.best_params_)                           # Mostramos un mensaje por pantalla con los resultados: best params encontrados\n",
        "print(\"Mejor Score SVM,\", grid_search_svm.best_score_, \", Tiempo:\", tiempo_gs_svm, \"s\")     # Mostramos un mensaje por pantalla con los resultados: best score obtenido"
      ],
      "metadata": {
        "colab": {
          "base_uri": "https://localhost:8080/"
        },
        "id": "ViJc-G74VCY8",
        "outputId": "c851d31b-31ed-4819-90e8-6f242e479302"
      },
      "execution_count": null,
      "outputs": [
        {
          "output_type": "stream",
          "name": "stdout",
          "text": [
            "\n",
            "Mejor configuración SVM, {'model__C': 20, 'model__kernel': 'rbf'}\n",
            "Mejor Score SVM, 0.8057965036405608 , Tiempo: 5.358600854873657 s\n"
          ]
        }
      ]
    },
    {
      "cell_type": "markdown",
      "source": [
        "Ahora entrenamos el modelo con los mejores hiperparámetros obtenidos de GridSearch y buscamos los atributos más importantes."
      ],
      "metadata": {
        "id": "BjCyuG9dyM1D"
      }
    },
    {
      "cell_type": "markdown",
      "source": [
        "- Atributos relevantes en Modelos Lineales (Regresión Logística) -> mejorar los comentarios"
      ],
      "metadata": {
        "id": "BddsAGorVFV9"
      }
    },
    {
      "cell_type": "code",
      "source": [
        "# Definir el pipeline con imputación, escalado y modelo\n",
        "pipeline_lr = Pipeline([\n",
        "    ('imputer', SimpleImputer(strategy=\"mean\")),  # Rellenar valores faltantes con la media\n",
        "    ('scaler', StandardScaler()),                # Normalizar los datos\n",
        "    ('model', LogisticRegression(C=100, penalty='l1', solver='liblinear'))  # Modelo con mejores hiperparámetros\n",
        "])\n",
        "\n",
        "# Entrenar el modelo con el pipeline\n",
        "pipeline_lr.fit(X, y)\n",
        "\n",
        "# --------------- < continuación > --------------------\n",
        "\n",
        "# Asegurarse de que los modelos están entrenados con los mejores hiperparámetros encontrados\n",
        "pipeline_lr.fit(X_train, y_train)\n",
        "\n",
        "# Importancia de atributos en Regresión Logística\n",
        "feature_importance_lr = np.abs(pipeline_lr.named_steps['model'].coef_).flatten()\n",
        "print(\"Importancia de atributos en Regresión Logística:\", feature_importance_lr)\n",
        "\n",
        "feature_names = X_train.columns  # Asegúrate de que X_train es un DataFrame para obtener nombres de columnas\n",
        "\n",
        "df_importance_lr = pd.DataFrame({'Atributo': feature_names, 'Importancia': feature_importance_lr})\n",
        "\n",
        "# Ordenar por importancia\n",
        "df_importance_lr = df_importance_lr.sort_values(by=\"Importancia\", ascending=False)\n",
        "\n",
        "print(\"\\nAtributos más relevantes según Regresión Logística:\")\n",
        "print(df_importance_lr.head(10))  # Muestra los 10 atributos más importantes\n"
      ],
      "metadata": {
        "colab": {
          "base_uri": "https://localhost:8080/"
        },
        "id": "exkNB8zZVSp3",
        "outputId": "ce6be28b-8ab4-4d22-8d13-cd00f7507462"
      },
      "execution_count": null,
      "outputs": [
        {
          "output_type": "stream",
          "name": "stdout",
          "text": [
            "Importancia de atributos en Regresión Logística: [0.6363967  0.63785041 0.14223519 0.09050894 0.18132984 0.10685139\n",
            " 0.13981753 0.01555606 0.06788614 0.13087384 0.23112307 0.13205592\n",
            " 0.02299282 0.15151292 0.13973273 0.4625885  0.13944572 0.42708131\n",
            " 0.61323024 0.11399794 0.05288529 0.05368748 0.45876551 0.45999577\n",
            " 0.20825437 0.3123702  0.02645391 0.07237833 0.02916746 0.09571046\n",
            " 0.41238929 0.0372224  0.08774135 0.69240216 0.1496464  0.07453497\n",
            " 0.5408857  0.37260213]\n",
            "\n",
            "Atributos más relevantes según Regresión Logística:\n",
            "                                  Atributo  Importancia\n",
            "33            remainder__TotalWorkingYears     0.692402\n",
            "1                    cat__Department_Sales     0.637850\n",
            "0   cat__Department_Research & Development     0.636397\n",
            "18                          remainder__hrs     0.613230\n",
            "36      remainder__YearsSinceLastPromotion     0.540886\n",
            "15                     ord__BusinessTravel     0.462588\n",
            "23              remainder__JobSatisfaction     0.459996\n",
            "22      remainder__EnvironmentSatisfaction     0.458766\n",
            "17                      ord__MaritalStatus     0.427081\n",
            "30           remainder__NumCompaniesWorked     0.412389\n"
          ]
        }
      ]
    },
    {
      "cell_type": "markdown",
      "source": [
        "- Atributos relevantes en SVMs (SVC)"
      ],
      "metadata": {
        "id": "CQoIoJ5kVLgR"
      }
    },
    {
      "cell_type": "markdown",
      "source": [
        "Usamos permutation importance para hallar la importancia de los atributos. Esta técnica consiste en medir cuánto disminuye el rendimiento del modelo al modificar cada atributo (si varía mucho el rendimiento, esa variable es importante).\n",
        "\n",
        "Es necesario usar este algoritmo ya que estamos trabajando con el kernel RBF y no uno lineal (de haber sido lineal usaríamos el procedimiento de coeficientes anterior)."
      ],
      "metadata": {
        "id": "McrWU5T5V-eu"
      }
    },
    {
      "cell_type": "code",
      "source": [
        "from sklearn.inspection import permutation_importance\n",
        "from sklearn.svm import SVC\n",
        "from sklearn.pipeline import Pipeline\n",
        "from sklearn.impute import SimpleImputer\n",
        "from sklearn.preprocessing import StandardScaler\n",
        "import numpy as np\n",
        "import pandas as pd\n",
        "\n",
        "# Definir el pipeline con imputación, escalado y mejores parámetros para el modelo SVM\n",
        "pipeline_svm = Pipeline([\n",
        "    ('imputer', SimpleImputer(strategy=\"mean\")),  # Rellenar valores faltantes con la media\n",
        "    ('scaler', StandardScaler()),                # Normalizar los datos\n",
        "    ('model', SVC(C=20, kernel='rbf'))           # SVM con los mejores hiperparámetros encontrados\n",
        "])\n",
        "\n",
        "# Entrenar el modelo con el pipeline\n",
        "pipeline_svm.fit(X_train, y_train)\n",
        "\n",
        "# Calcular permutation importance\n",
        "result = permutation_importance(\n",
        "    pipeline_svm,\n",
        "    X_train,\n",
        "    y_train,\n",
        "    n_repeats=10,\n",
        "    random_state=42\n",
        ")\n",
        "\n",
        "# Obtener la importancia promedio\n",
        "feature_importance_svm = result.importances_mean\n",
        "\n",
        "print(\"Importancia de atributos en SVM (RBF):\", feature_importance_svm)\n",
        "\n",
        "# Crear DataFrame con los resultados\n",
        "feature_names = X_train.columns\n",
        "df_importance_svm = pd.DataFrame({\n",
        "    'Atributo': feature_names,\n",
        "    'Importancia': feature_importance_svm\n",
        "})\n",
        "\n",
        "# Ordenar por importancia\n",
        "df_importance_svm = df_importance_svm.sort_values(by=\"Importancia\", ascending=False)\n",
        "\n",
        "print(\"\\nAtributos más relevantes según SVM (RBF):\")\n",
        "print(df_importance_svm.head(10))  # Muestra los 10 atributos más importantes"
      ],
      "metadata": {
        "colab": {
          "base_uri": "https://localhost:8080/"
        },
        "id": "OZDwCXakGL8e",
        "outputId": "bde3dc4b-4348-4d40-de70-48ea1fe6f72d"
      },
      "execution_count": null,
      "outputs": [
        {
          "output_type": "stream",
          "name": "stdout",
          "text": [
            "Importancia de atributos en SVM (RBF): [0.00614525 0.00599289 0.         0.00299644 0.         0.00558659\n",
            " 0.00578974 0.00589132 0.00132047 0.00705942 0.00360589 0.0087354\n",
            " 0.00497715 0.00380904 0.0083291  0.00797359 0.0019807  0.01086846\n",
            " 0.0198578  0.00020315 0.00492636 0.00091417 0.00700863 0.01066531\n",
            " 0.00731336 0.0027933  0.00518029 0.00162519 0.00599289 0.00274251\n",
            " 0.00934485 0.00218385 0.00421534 0.0166582  0.0055358  0.00375825\n",
            " 0.00939563 0.00259015]\n",
            "\n",
            "Atributos más relevantes según SVM (RBF):\n",
            "                              Atributo  Importancia\n",
            "18                      remainder__hrs     0.019858\n",
            "33        remainder__TotalWorkingYears     0.016658\n",
            "17                  ord__MaritalStatus     0.010868\n",
            "23          remainder__JobSatisfaction     0.010665\n",
            "36  remainder__YearsSinceLastPromotion     0.009396\n",
            "30       remainder__NumCompaniesWorked     0.009345\n",
            "11      cat__JobRole_Research Director     0.008735\n",
            "14   cat__JobRole_Sales Representative     0.008329\n",
            "15                 ord__BusinessTravel     0.007974\n",
            "24          remainder__WorkLifeBalance     0.007313\n"
          ]
        }
      ]
    },
    {
      "cell_type": "markdown",
      "source": [
        "Para analizar los resultados obtenidos debemos obviar los coeficientes de importancia, ya que se han aplicado técnicas diferentes (coeficientes vs permutation importance). Dicho esto, podemos observar que ciertos atributos aparecen en ambos modelos, por lo que son importantes en nuestro conjunto de datos. Estos son:\n",
        "\n",
        "*   remainder__TotalWorkingYears (experiencia laboral total)\n",
        "*   remainder_hrs (horas trabajadas)\n",
        "* remainder_JobSatisfaction (satisfacción laboral)\n",
        "* remainder__YearsSinceLastPromotion\n",
        "* remainder__NumCompaniesWorked\n",
        "* ord__MaritalStatus\n",
        "* ord__BusinessTravel\n",
        "\n"
      ],
      "metadata": {
        "id": "NXu7RdbDXnBM"
      }
    },
    {
      "cell_type": "markdown",
      "source": [
        "---"
      ],
      "metadata": {
        "id": "MKZTRE4fYF5m"
      }
    },
    {
      "cell_type": "markdown",
      "source": [
        "### **6. RESULTADOS Y MODELO FINAL**"
      ],
      "metadata": {
        "id": "WPGzja8j6K8j"
      }
    },
    {
      "cell_type": "markdown",
      "source": [
        "- Selección de la mejor alternativa de las evaluadas usando cv_inner"
      ],
      "metadata": {
        "id": "-2UeVl8f6PiM"
      }
    },
    {
      "cell_type": "code",
      "source": [
        "modelo_final = grid_search_svm"
      ],
      "metadata": {
        "id": "0fn1BsOS6ZLv"
      },
      "execution_count": null,
      "outputs": []
    },
    {
      "cell_type": "markdown",
      "source": [
        "- Estimación del rendimiento / desempeño futuro del modelo usando cv_outer"
      ],
      "metadata": {
        "id": "KIz2_6Eb6bex"
      }
    },
    {
      "cell_type": "code",
      "source": [
        "from sklearn.model_selection import cross_val_predict\n",
        "from sklearn.metrics import accuracy_score, balanced_accuracy_score, confusion_matrix\n",
        "\n",
        "y_pred_outer = cross_val_predict(modelo_final, X, y, cv=5)\n",
        "print(y_pred_outer)\n",
        "\n",
        "accuracy = accuracy_score(y, y_pred_outer)\n",
        "balanced_accuracy = balanced_accuracy_score(y, y_pred_outer)\n",
        "\n",
        "tn, fp, fn, tp = confusion_matrix(y, y_pred_outer).ravel()\n",
        "tpr = tp / (tp + fn)\n",
        "tnr = tn / (tn + fp)\n",
        "\n",
        "print(\"Estimación de rendimiento futuro (cv_outer):\")\n",
        "print(\"Accuracy normal:\", accuracy)\n",
        "print(\"Balanced Accuracy:\", balanced_accuracy)\n",
        "print(\"TPR (Sensibilidad):\", tpr)\n",
        "print(\"TNR (Especificidad):\", tnr)"
      ],
      "metadata": {
        "colab": {
          "base_uri": "https://localhost:8080/"
        },
        "id": "wgfvD-rg6fff",
        "outputId": "68e1cb14-8d3a-461e-88a2-61c79a5064ea"
      },
      "execution_count": null,
      "outputs": [
        {
          "output_type": "stream",
          "name": "stdout",
          "text": [
            "[0 0 0 ... 0 0 0]\n",
            "Estimación de rendimiento futuro (cv_outer):\n",
            "Accuracy normal: 0.9629251700680272\n",
            "Balanced Accuracy: 0.9191048897923146\n",
            "TPR (Sensibilidad): 0.8544303797468354\n",
            "TNR (Especificidad): 0.9837793998377939\n"
          ]
        }
      ]
    },
    {
      "cell_type": "markdown",
      "source": [
        "- Entrenamiento del modelo final «modelo_final.pkl»"
      ],
      "metadata": {
        "id": "m8LbT5YX6jve"
      }
    },
    {
      "cell_type": "code",
      "source": [
        "import joblib\n",
        "\n",
        "modelo_final.fit(X, y)\n",
        "joblib.dump(modelo_final, \"modelo_final.pkl\")\n",
        "print(\"Modelo final guardado como modelo_final.pkl\")"
      ],
      "metadata": {
        "colab": {
          "base_uri": "https://localhost:8080/"
        },
        "id": "i28S9GuI6k0K",
        "outputId": "f45da6ed-2851-40de-8a67-7a7c5fb195ce"
      },
      "execution_count": null,
      "outputs": [
        {
          "output_type": "stream",
          "name": "stdout",
          "text": [
            "Modelo final guardado como modelo_final.pkl\n"
          ]
        }
      ]
    }
  ]
}