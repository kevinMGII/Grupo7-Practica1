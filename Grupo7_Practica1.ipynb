{
  "nbformat": 4,
  "nbformat_minor": 0,
  "metadata": {
    "colab": {
      "provenance": [],
      "collapsed_sections": [
        "q070Vs_3PS_I"
      ],
      "include_colab_link": true
    },
    "kernelspec": {
      "name": "python3",
      "display_name": "Python 3"
    },
    "language_info": {
      "name": "python"
    }
  },
  "cells": [
    {
      "cell_type": "markdown",
      "metadata": {
        "id": "view-in-github",
        "colab_type": "text"
      },
      "source": [
        "<a href=\"https://colab.research.google.com/github/kevinMGII/Grupo7-Practica1/blob/main/Grupo7_Practica1.ipynb\" target=\"_parent\"><img src=\"https://colab.research.google.com/assets/colab-badge.svg\" alt=\"Open In Colab\"/></a>"
      ]
    },
    {
      "cell_type": "markdown",
      "source": [
        "# **PRIMERA PRÁCTICA**. Predicción del Abandono de Empleados.\n",
        "\n",
        "Grupo 7. Miembros:\n",
        "\n",
        "*   *Kevin Medina García, 100495893.*\n",
        "*   *Bárbara Sánchez Moratalla, 100495857.*\n",
        "\n",
        "\n"
      ],
      "metadata": {
        "id": "h-1-vZq4h3bq"
      }
    },
    {
      "cell_type": "markdown",
      "source": [
        "\n",
        "\n",
        "---\n",
        "\n"
      ],
      "metadata": {
        "id": "R-LvSCB-QJVS"
      }
    },
    {
      "cell_type": "markdown",
      "source": [
        "### **CARGA Y VISUALIZACIÓN DE LOS DATOS**\n",
        "\n",
        "En el desarrollo de esta práctica se utilizarán los archivos que contienen los datos con la extension **12**. Cumpliendo así las consideraciones generales, siendo la suma de los últimos dos dígitos nuestros NIA's 12 en ambos casos."
      ],
      "metadata": {
        "id": "q070Vs_3PS_I"
      }
    },
    {
      "cell_type": "markdown",
      "source": [
        "A continuación se lee el conjunto de datos y se muestran las primeras filas."
      ],
      "metadata": {
        "id": "6tMGD_R7QvOI"
      }
    },
    {
      "cell_type": "code",
      "source": [
        "import pandas as pd\n",
        "\n",
        "data_train = pd.read_csv(\"./attrition_availabledata_12.csv.gz\")                 # Cargamos el conjunto de datos de entrenamiento\n",
        "data_test = pd.read_csv(\"./attrition_competition_12.csv.gz\")                    # Cargamos el conjunto de datos de test utilizando el almacenamiento local de Google Colab.\n",
        "\n",
        "data_train.head()                                                               # Mostramos las 5 primeras filas del conjunto de datos de entrenamiento. (Not Working)\n",
        "data_test.head()                                                                # Mostramos las 5 primeras filas del conjunto de datos de test."
      ],
      "metadata": {
        "id": "CLcJTzTsyukm",
        "collapsed": true,
        "colab": {
          "base_uri": "https://localhost:8080/"
        },
        "outputId": "9b0aee56-b512-4736-e7a7-7bcc4545afbb"
      },
      "execution_count": null,
      "outputs": [
        {
          "output_type": "execute_result",
          "data": {
            "text/plain": [
              "        hrs  absences  JobInvolvement  PerformanceRating  \\\n",
              "0  6.894187         6               2                  3   \n",
              "1  7.684525         7               2                  3   \n",
              "2  6.806975         9               3                  3   \n",
              "3  6.028659         6               3                  3   \n",
              "4  7.618041        12               2                  3   \n",
              "\n",
              "   EnvironmentSatisfaction  JobSatisfaction  WorkLifeBalance  Age  \\\n",
              "0                      2.0              4.0              2.0   34   \n",
              "1                      3.0              4.0              1.0   30   \n",
              "2                      2.0              4.0              2.0   29   \n",
              "3                      2.0              1.0              3.0   44   \n",
              "4                      3.0              4.0              3.0   28   \n",
              "\n",
              "      BusinessTravel              Department  ...  NumCompaniesWorked  Over18  \\\n",
              "0      Travel_Rarely                   Sales  ...                 0.0       Y   \n",
              "1         Non-Travel  Research & Development  ...                 4.0       Y   \n",
              "2  Travel_Frequently  Research & Development  ...                 1.0       Y   \n",
              "3      Travel_Rarely  Research & Development  ...                 9.0       Y   \n",
              "4         Non-Travel  Research & Development  ...                 0.0       Y   \n",
              "\n",
              "  PercentSalaryHike  StandardHours  StockOptionLevel TotalWorkingYears  \\\n",
              "0                12              8                 1              16.0   \n",
              "1                18              8                 3               9.0   \n",
              "2                11              8                 1              10.0   \n",
              "3                15              8                 0              24.0   \n",
              "4                13              8                 0              10.0   \n",
              "\n",
              "   TrainingTimesLastYear YearsAtCompany YearsSinceLastPromotion  \\\n",
              "0                      5             15                       0   \n",
              "1                      2              5                       1   \n",
              "2                      2             10                       0   \n",
              "3                      3             20                       3   \n",
              "4                      2              9                       7   \n",
              "\n",
              "   YearsWithCurrManager  \n",
              "0                     9  \n",
              "1                     4  \n",
              "2                     9  \n",
              "3                     6  \n",
              "4                     5  \n",
              "\n",
              "[5 rows x 30 columns]"
            ],
            "text/html": [
              "\n",
              "  <div id=\"df-8b20a983-2e5d-452b-89a3-b0fc7e6891d5\" class=\"colab-df-container\">\n",
              "    <div>\n",
              "<style scoped>\n",
              "    .dataframe tbody tr th:only-of-type {\n",
              "        vertical-align: middle;\n",
              "    }\n",
              "\n",
              "    .dataframe tbody tr th {\n",
              "        vertical-align: top;\n",
              "    }\n",
              "\n",
              "    .dataframe thead th {\n",
              "        text-align: right;\n",
              "    }\n",
              "</style>\n",
              "<table border=\"1\" class=\"dataframe\">\n",
              "  <thead>\n",
              "    <tr style=\"text-align: right;\">\n",
              "      <th></th>\n",
              "      <th>hrs</th>\n",
              "      <th>absences</th>\n",
              "      <th>JobInvolvement</th>\n",
              "      <th>PerformanceRating</th>\n",
              "      <th>EnvironmentSatisfaction</th>\n",
              "      <th>JobSatisfaction</th>\n",
              "      <th>WorkLifeBalance</th>\n",
              "      <th>Age</th>\n",
              "      <th>BusinessTravel</th>\n",
              "      <th>Department</th>\n",
              "      <th>...</th>\n",
              "      <th>NumCompaniesWorked</th>\n",
              "      <th>Over18</th>\n",
              "      <th>PercentSalaryHike</th>\n",
              "      <th>StandardHours</th>\n",
              "      <th>StockOptionLevel</th>\n",
              "      <th>TotalWorkingYears</th>\n",
              "      <th>TrainingTimesLastYear</th>\n",
              "      <th>YearsAtCompany</th>\n",
              "      <th>YearsSinceLastPromotion</th>\n",
              "      <th>YearsWithCurrManager</th>\n",
              "    </tr>\n",
              "  </thead>\n",
              "  <tbody>\n",
              "    <tr>\n",
              "      <th>0</th>\n",
              "      <td>6.894187</td>\n",
              "      <td>6</td>\n",
              "      <td>2</td>\n",
              "      <td>3</td>\n",
              "      <td>2.0</td>\n",
              "      <td>4.0</td>\n",
              "      <td>2.0</td>\n",
              "      <td>34</td>\n",
              "      <td>Travel_Rarely</td>\n",
              "      <td>Sales</td>\n",
              "      <td>...</td>\n",
              "      <td>0.0</td>\n",
              "      <td>Y</td>\n",
              "      <td>12</td>\n",
              "      <td>8</td>\n",
              "      <td>1</td>\n",
              "      <td>16.0</td>\n",
              "      <td>5</td>\n",
              "      <td>15</td>\n",
              "      <td>0</td>\n",
              "      <td>9</td>\n",
              "    </tr>\n",
              "    <tr>\n",
              "      <th>1</th>\n",
              "      <td>7.684525</td>\n",
              "      <td>7</td>\n",
              "      <td>2</td>\n",
              "      <td>3</td>\n",
              "      <td>3.0</td>\n",
              "      <td>4.0</td>\n",
              "      <td>1.0</td>\n",
              "      <td>30</td>\n",
              "      <td>Non-Travel</td>\n",
              "      <td>Research &amp; Development</td>\n",
              "      <td>...</td>\n",
              "      <td>4.0</td>\n",
              "      <td>Y</td>\n",
              "      <td>18</td>\n",
              "      <td>8</td>\n",
              "      <td>3</td>\n",
              "      <td>9.0</td>\n",
              "      <td>2</td>\n",
              "      <td>5</td>\n",
              "      <td>1</td>\n",
              "      <td>4</td>\n",
              "    </tr>\n",
              "    <tr>\n",
              "      <th>2</th>\n",
              "      <td>6.806975</td>\n",
              "      <td>9</td>\n",
              "      <td>3</td>\n",
              "      <td>3</td>\n",
              "      <td>2.0</td>\n",
              "      <td>4.0</td>\n",
              "      <td>2.0</td>\n",
              "      <td>29</td>\n",
              "      <td>Travel_Frequently</td>\n",
              "      <td>Research &amp; Development</td>\n",
              "      <td>...</td>\n",
              "      <td>1.0</td>\n",
              "      <td>Y</td>\n",
              "      <td>11</td>\n",
              "      <td>8</td>\n",
              "      <td>1</td>\n",
              "      <td>10.0</td>\n",
              "      <td>2</td>\n",
              "      <td>10</td>\n",
              "      <td>0</td>\n",
              "      <td>9</td>\n",
              "    </tr>\n",
              "    <tr>\n",
              "      <th>3</th>\n",
              "      <td>6.028659</td>\n",
              "      <td>6</td>\n",
              "      <td>3</td>\n",
              "      <td>3</td>\n",
              "      <td>2.0</td>\n",
              "      <td>1.0</td>\n",
              "      <td>3.0</td>\n",
              "      <td>44</td>\n",
              "      <td>Travel_Rarely</td>\n",
              "      <td>Research &amp; Development</td>\n",
              "      <td>...</td>\n",
              "      <td>9.0</td>\n",
              "      <td>Y</td>\n",
              "      <td>15</td>\n",
              "      <td>8</td>\n",
              "      <td>0</td>\n",
              "      <td>24.0</td>\n",
              "      <td>3</td>\n",
              "      <td>20</td>\n",
              "      <td>3</td>\n",
              "      <td>6</td>\n",
              "    </tr>\n",
              "    <tr>\n",
              "      <th>4</th>\n",
              "      <td>7.618041</td>\n",
              "      <td>12</td>\n",
              "      <td>2</td>\n",
              "      <td>3</td>\n",
              "      <td>3.0</td>\n",
              "      <td>4.0</td>\n",
              "      <td>3.0</td>\n",
              "      <td>28</td>\n",
              "      <td>Non-Travel</td>\n",
              "      <td>Research &amp; Development</td>\n",
              "      <td>...</td>\n",
              "      <td>0.0</td>\n",
              "      <td>Y</td>\n",
              "      <td>13</td>\n",
              "      <td>8</td>\n",
              "      <td>0</td>\n",
              "      <td>10.0</td>\n",
              "      <td>2</td>\n",
              "      <td>9</td>\n",
              "      <td>7</td>\n",
              "      <td>5</td>\n",
              "    </tr>\n",
              "  </tbody>\n",
              "</table>\n",
              "<p>5 rows × 30 columns</p>\n",
              "</div>\n",
              "    <div class=\"colab-df-buttons\">\n",
              "\n",
              "  <div class=\"colab-df-container\">\n",
              "    <button class=\"colab-df-convert\" onclick=\"convertToInteractive('df-8b20a983-2e5d-452b-89a3-b0fc7e6891d5')\"\n",
              "            title=\"Convert this dataframe to an interactive table.\"\n",
              "            style=\"display:none;\">\n",
              "\n",
              "  <svg xmlns=\"http://www.w3.org/2000/svg\" height=\"24px\" viewBox=\"0 -960 960 960\">\n",
              "    <path d=\"M120-120v-720h720v720H120Zm60-500h600v-160H180v160Zm220 220h160v-160H400v160Zm0 220h160v-160H400v160ZM180-400h160v-160H180v160Zm440 0h160v-160H620v160ZM180-180h160v-160H180v160Zm440 0h160v-160H620v160Z\"/>\n",
              "  </svg>\n",
              "    </button>\n",
              "\n",
              "  <style>\n",
              "    .colab-df-container {\n",
              "      display:flex;\n",
              "      gap: 12px;\n",
              "    }\n",
              "\n",
              "    .colab-df-convert {\n",
              "      background-color: #E8F0FE;\n",
              "      border: none;\n",
              "      border-radius: 50%;\n",
              "      cursor: pointer;\n",
              "      display: none;\n",
              "      fill: #1967D2;\n",
              "      height: 32px;\n",
              "      padding: 0 0 0 0;\n",
              "      width: 32px;\n",
              "    }\n",
              "\n",
              "    .colab-df-convert:hover {\n",
              "      background-color: #E2EBFA;\n",
              "      box-shadow: 0px 1px 2px rgba(60, 64, 67, 0.3), 0px 1px 3px 1px rgba(60, 64, 67, 0.15);\n",
              "      fill: #174EA6;\n",
              "    }\n",
              "\n",
              "    .colab-df-buttons div {\n",
              "      margin-bottom: 4px;\n",
              "    }\n",
              "\n",
              "    [theme=dark] .colab-df-convert {\n",
              "      background-color: #3B4455;\n",
              "      fill: #D2E3FC;\n",
              "    }\n",
              "\n",
              "    [theme=dark] .colab-df-convert:hover {\n",
              "      background-color: #434B5C;\n",
              "      box-shadow: 0px 1px 3px 1px rgba(0, 0, 0, 0.15);\n",
              "      filter: drop-shadow(0px 1px 2px rgba(0, 0, 0, 0.3));\n",
              "      fill: #FFFFFF;\n",
              "    }\n",
              "  </style>\n",
              "\n",
              "    <script>\n",
              "      const buttonEl =\n",
              "        document.querySelector('#df-8b20a983-2e5d-452b-89a3-b0fc7e6891d5 button.colab-df-convert');\n",
              "      buttonEl.style.display =\n",
              "        google.colab.kernel.accessAllowed ? 'block' : 'none';\n",
              "\n",
              "      async function convertToInteractive(key) {\n",
              "        const element = document.querySelector('#df-8b20a983-2e5d-452b-89a3-b0fc7e6891d5');\n",
              "        const dataTable =\n",
              "          await google.colab.kernel.invokeFunction('convertToInteractive',\n",
              "                                                    [key], {});\n",
              "        if (!dataTable) return;\n",
              "\n",
              "        const docLinkHtml = 'Like what you see? Visit the ' +\n",
              "          '<a target=\"_blank\" href=https://colab.research.google.com/notebooks/data_table.ipynb>data table notebook</a>'\n",
              "          + ' to learn more about interactive tables.';\n",
              "        element.innerHTML = '';\n",
              "        dataTable['output_type'] = 'display_data';\n",
              "        await google.colab.output.renderOutput(dataTable, element);\n",
              "        const docLink = document.createElement('div');\n",
              "        docLink.innerHTML = docLinkHtml;\n",
              "        element.appendChild(docLink);\n",
              "      }\n",
              "    </script>\n",
              "  </div>\n",
              "\n",
              "\n",
              "<div id=\"df-a7b58c55-c133-4a47-af29-cac99b51a60a\">\n",
              "  <button class=\"colab-df-quickchart\" onclick=\"quickchart('df-a7b58c55-c133-4a47-af29-cac99b51a60a')\"\n",
              "            title=\"Suggest charts\"\n",
              "            style=\"display:none;\">\n",
              "\n",
              "<svg xmlns=\"http://www.w3.org/2000/svg\" height=\"24px\"viewBox=\"0 0 24 24\"\n",
              "     width=\"24px\">\n",
              "    <g>\n",
              "        <path d=\"M19 3H5c-1.1 0-2 .9-2 2v14c0 1.1.9 2 2 2h14c1.1 0 2-.9 2-2V5c0-1.1-.9-2-2-2zM9 17H7v-7h2v7zm4 0h-2V7h2v10zm4 0h-2v-4h2v4z\"/>\n",
              "    </g>\n",
              "</svg>\n",
              "  </button>\n",
              "\n",
              "<style>\n",
              "  .colab-df-quickchart {\n",
              "      --bg-color: #E8F0FE;\n",
              "      --fill-color: #1967D2;\n",
              "      --hover-bg-color: #E2EBFA;\n",
              "      --hover-fill-color: #174EA6;\n",
              "      --disabled-fill-color: #AAA;\n",
              "      --disabled-bg-color: #DDD;\n",
              "  }\n",
              "\n",
              "  [theme=dark] .colab-df-quickchart {\n",
              "      --bg-color: #3B4455;\n",
              "      --fill-color: #D2E3FC;\n",
              "      --hover-bg-color: #434B5C;\n",
              "      --hover-fill-color: #FFFFFF;\n",
              "      --disabled-bg-color: #3B4455;\n",
              "      --disabled-fill-color: #666;\n",
              "  }\n",
              "\n",
              "  .colab-df-quickchart {\n",
              "    background-color: var(--bg-color);\n",
              "    border: none;\n",
              "    border-radius: 50%;\n",
              "    cursor: pointer;\n",
              "    display: none;\n",
              "    fill: var(--fill-color);\n",
              "    height: 32px;\n",
              "    padding: 0;\n",
              "    width: 32px;\n",
              "  }\n",
              "\n",
              "  .colab-df-quickchart:hover {\n",
              "    background-color: var(--hover-bg-color);\n",
              "    box-shadow: 0 1px 2px rgba(60, 64, 67, 0.3), 0 1px 3px 1px rgba(60, 64, 67, 0.15);\n",
              "    fill: var(--button-hover-fill-color);\n",
              "  }\n",
              "\n",
              "  .colab-df-quickchart-complete:disabled,\n",
              "  .colab-df-quickchart-complete:disabled:hover {\n",
              "    background-color: var(--disabled-bg-color);\n",
              "    fill: var(--disabled-fill-color);\n",
              "    box-shadow: none;\n",
              "  }\n",
              "\n",
              "  .colab-df-spinner {\n",
              "    border: 2px solid var(--fill-color);\n",
              "    border-color: transparent;\n",
              "    border-bottom-color: var(--fill-color);\n",
              "    animation:\n",
              "      spin 1s steps(1) infinite;\n",
              "  }\n",
              "\n",
              "  @keyframes spin {\n",
              "    0% {\n",
              "      border-color: transparent;\n",
              "      border-bottom-color: var(--fill-color);\n",
              "      border-left-color: var(--fill-color);\n",
              "    }\n",
              "    20% {\n",
              "      border-color: transparent;\n",
              "      border-left-color: var(--fill-color);\n",
              "      border-top-color: var(--fill-color);\n",
              "    }\n",
              "    30% {\n",
              "      border-color: transparent;\n",
              "      border-left-color: var(--fill-color);\n",
              "      border-top-color: var(--fill-color);\n",
              "      border-right-color: var(--fill-color);\n",
              "    }\n",
              "    40% {\n",
              "      border-color: transparent;\n",
              "      border-right-color: var(--fill-color);\n",
              "      border-top-color: var(--fill-color);\n",
              "    }\n",
              "    60% {\n",
              "      border-color: transparent;\n",
              "      border-right-color: var(--fill-color);\n",
              "    }\n",
              "    80% {\n",
              "      border-color: transparent;\n",
              "      border-right-color: var(--fill-color);\n",
              "      border-bottom-color: var(--fill-color);\n",
              "    }\n",
              "    90% {\n",
              "      border-color: transparent;\n",
              "      border-bottom-color: var(--fill-color);\n",
              "    }\n",
              "  }\n",
              "</style>\n",
              "\n",
              "  <script>\n",
              "    async function quickchart(key) {\n",
              "      const quickchartButtonEl =\n",
              "        document.querySelector('#' + key + ' button');\n",
              "      quickchartButtonEl.disabled = true;  // To prevent multiple clicks.\n",
              "      quickchartButtonEl.classList.add('colab-df-spinner');\n",
              "      try {\n",
              "        const charts = await google.colab.kernel.invokeFunction(\n",
              "            'suggestCharts', [key], {});\n",
              "      } catch (error) {\n",
              "        console.error('Error during call to suggestCharts:', error);\n",
              "      }\n",
              "      quickchartButtonEl.classList.remove('colab-df-spinner');\n",
              "      quickchartButtonEl.classList.add('colab-df-quickchart-complete');\n",
              "    }\n",
              "    (() => {\n",
              "      let quickchartButtonEl =\n",
              "        document.querySelector('#df-a7b58c55-c133-4a47-af29-cac99b51a60a button');\n",
              "      quickchartButtonEl.style.display =\n",
              "        google.colab.kernel.accessAllowed ? 'block' : 'none';\n",
              "    })();\n",
              "  </script>\n",
              "</div>\n",
              "\n",
              "    </div>\n",
              "  </div>\n"
            ],
            "application/vnd.google.colaboratory.intrinsic+json": {
              "type": "dataframe",
              "variable_name": "data_test"
            }
          },
          "metadata": {},
          "execution_count": 15
        }
      ]
    },
    {
      "cell_type": "markdown",
      "source": [
        " ---"
      ],
      "metadata": {
        "id": "8Jb-ub5R0tOA"
      }
    },
    {
      "cell_type": "markdown",
      "source": [
        "### **2. EDA SIMPLIFICADO**\n",
        "\n",
        "A continuación, se realiza un Análisis Exploratorio de Datos (EDA). El objetivo es obtener una visión general del estado de los datos, permitiendo llevar a cabo algunos ajustes o limpiezas antes de empezar a utilizarlos.\n",
        "\n"
      ],
      "metadata": {
        "id": "NMJsAdKVholx"
      }
    },
    {
      "cell_type": "markdown",
      "source": [
        "**Número de  variables e instancias:**"
      ],
      "metadata": {
        "id": "cIfNYhm8jqxX"
      }
    },
    {
      "cell_type": "code",
      "source": [
        "num_instancias, num_variables = data_train.shape                                # Usamos el atributo .shape de pandas para obtener la tupla (número de filas, número de columnas)\n",
        "print(f\"Número de instancias: {num_instancias}\")                                # Imprimimos num_instancias (número de filas)\n",
        "print(f\"Número de variables: {num_variables}\")                                  # Imprimimos num_variables (número de columnas)"
      ],
      "metadata": {
        "collapsed": true,
        "id": "OU6gEt1Ri767",
        "colab": {
          "base_uri": "https://localhost:8080/"
        },
        "outputId": "1dc0f270-2e92-40f1-ab91-4fc0ce4b4094"
      },
      "execution_count": null,
      "outputs": [
        {
          "output_type": "stream",
          "name": "stdout",
          "text": [
            "Número de instancias: 2940\n",
            "Número de variables: 31\n"
          ]
        }
      ]
    },
    {
      "cell_type": "markdown",
      "source": [
        "El conjunto de datos con el que vamos a llevar a cabo esta práctica esta formado por 2940 instancias y 31 variables. Disponemos de una cantidad suficiente de datos como para entrenar un modelo de forma correcta."
      ],
      "metadata": {
        "id": "b_4ajhwqWqlC"
      }
    },
    {
      "cell_type": "markdown",
      "source": [
        "**Tipos de variables (categóricas, numéricas u ordinales):**"
      ],
      "metadata": {
        "id": "Rp8GzujwjRse"
      }
    },
    {
      "cell_type": "code",
      "source": [
        "print(data_train.dtypes)                                                              # Mostramos los tipos de datos de cada columna del conjunto de datos de entrenamiento.\n",
        "\n",
        "                                                                                      # Seleccionamos los tipos de datos categóricos y numéricos con pandas\n",
        "categorical_vars = data_train.select_dtypes(include=['object', 'category']).columns   # Variables categóricas: aquellas de tipo 'object' o 'category'\n",
        "numeric_vars = data_train.select_dtypes(include=['int64', 'float64']).columns         # Variables numéricas: aquellas de tipo 'int64' o 'float64'\n",
        "\n",
        "print(\"Variables categóricas:\", categorical_vars)                                     # Imprimimos las variables categóricas\n",
        "print(\"Variables numéricas:\", numeric_vars)                                           # Imprimimos las variables numéricas\n",
        "# Las variables ordinales deben identificarse manualmente (mirar Nota)"
      ],
      "metadata": {
        "id": "ij6fgxDfjW68",
        "collapsed": true,
        "colab": {
          "base_uri": "https://localhost:8080/"
        },
        "outputId": "738fa3e4-ef9e-463e-8090-346ce1e5b568"
      },
      "execution_count": null,
      "outputs": [
        {
          "output_type": "stream",
          "name": "stdout",
          "text": [
            "hrs                        float64\n",
            "absences                     int64\n",
            "JobInvolvement               int64\n",
            "PerformanceRating            int64\n",
            "EnvironmentSatisfaction    float64\n",
            "JobSatisfaction            float64\n",
            "WorkLifeBalance            float64\n",
            "Age                          int64\n",
            "BusinessTravel              object\n",
            "Department                  object\n",
            "DistanceFromHome             int64\n",
            "Education                    int64\n",
            "EducationField              object\n",
            "EmployeeCount                int64\n",
            "EmployeeID                   int64\n",
            "Gender                      object\n",
            "JobLevel                     int64\n",
            "JobRole                     object\n",
            "MaritalStatus               object\n",
            "MonthlyIncome                int64\n",
            "NumCompaniesWorked         float64\n",
            "Over18                      object\n",
            "PercentSalaryHike            int64\n",
            "StandardHours                int64\n",
            "StockOptionLevel             int64\n",
            "TotalWorkingYears          float64\n",
            "TrainingTimesLastYear        int64\n",
            "YearsAtCompany               int64\n",
            "YearsSinceLastPromotion      int64\n",
            "YearsWithCurrManager         int64\n",
            "Attrition                   object\n",
            "dtype: object\n",
            "Variables categóricas: Index(['BusinessTravel', 'Department', 'EducationField', 'Gender', 'JobRole',\n",
            "       'MaritalStatus', 'Over18', 'Attrition'],\n",
            "      dtype='object')\n",
            "Variables numéricas: Index(['hrs', 'absences', 'JobInvolvement', 'PerformanceRating',\n",
            "       'EnvironmentSatisfaction', 'JobSatisfaction', 'WorkLifeBalance', 'Age',\n",
            "       'DistanceFromHome', 'Education', 'EmployeeCount', 'EmployeeID',\n",
            "       'JobLevel', 'MonthlyIncome', 'NumCompaniesWorked', 'PercentSalaryHike',\n",
            "       'StandardHours', 'StockOptionLevel', 'TotalWorkingYears',\n",
            "       'TrainingTimesLastYear', 'YearsAtCompany', 'YearsSinceLastPromotion',\n",
            "       'YearsWithCurrManager'],\n",
            "      dtype='object')\n"
          ]
        }
      ]
    },
    {
      "cell_type": "markdown",
      "source": [
        "Encontramos mayoritariamente variables numéricas en el conjunto de datos (23 variables numéricas frente a 8 variables categóricas)."
      ],
      "metadata": {
        "id": "T0_-MjDpxEYd"
      }
    },
    {
      "cell_type": "markdown",
      "source": [
        "*Nota: pandas no es capaz de identificar variables ordinales automáticamente.*\n",
        "\n",
        "\n",
        "*Debemos analizar cada variable categórica y estudiar si existe un orden jerárquico entre los valores.*\n",
        "\n",
        "\n",
        "```\n",
        "# Ver valores únicos de la columna 'X' en el conjunto de entrenamiento\n",
        "print(data_train['X'].unique())\n",
        "```\n",
        "\n",
        "\n",
        "* BusinessTravel (Non-Travel, Travel_Rarely, Travel_Frequently) -> No\n",
        "* Department: (Sales, Research & Development, ...) -> No\n",
        "* EducationField (Marketing, Medical, Life Sciences, ...) -> No\n",
        "* Gender (Male, Female) -> No\n",
        "* JobRole (Research Director, Sales Executive, Laboratory Technician, ...) -> No\n",
        "* MaritalStatus (Single, Married, Divorced) -> No\n",
        "* Over18 (N, Y) -> No\n",
        "* Attrition (No, Yes) -> No\n",
        "\n",
        "*Concluimos que no hay variables ordinales.*"
      ],
      "metadata": {
        "id": "pot7rdkjqCri"
      }
    },
    {
      "cell_type": "markdown",
      "source": [
        "**Variables categóricas con alta cardinalidad:**"
      ],
      "metadata": {
        "id": "Xh_J_Ido5mVp"
      }
    },
    {
      "cell_type": "code",
      "source": [
        "for col in data_train.columns:                                                  # Recorremos las columnas del conjunto de datos: data_train\n",
        "    tipo_columna = data_train[col].dtype                                        # Almacenamos en una variable el tipo de dato de la columna actual\n",
        "    if tipo_columna == 'object' or tipo_columna.name == 'category':             # Check: ¿El tipo es un objeto, texto?, ¿El tipo es una categoría?\n",
        "        valores_unicos = data_train[col].unique()                               # Almacenamos en una variable los valores únicos de esa categoría\n",
        "        num_valores_unicos = len(valores_unicos)                                # Obtenemos la cantidad de valores únicos que hay\n",
        "        print(\"Cardinalidad de\", col, \":\", num_valores_unicos)                  # Mostramos la cardinalidad y el número de valores únicos por pantalla"
      ],
      "metadata": {
        "id": "UkXaUmRL529v",
        "colab": {
          "base_uri": "https://localhost:8080/"
        },
        "collapsed": true,
        "outputId": "86f16f79-27f8-432d-cf62-29e86a36713c"
      },
      "execution_count": null,
      "outputs": [
        {
          "output_type": "stream",
          "name": "stdout",
          "text": [
            "Cardinalidad de BusinessTravel : 3\n",
            "Cardinalidad de Department : 3\n",
            "Cardinalidad de EducationField : 6\n",
            "Cardinalidad de Gender : 2\n",
            "Cardinalidad de JobRole : 9\n",
            "Cardinalidad de MaritalStatus : 3\n",
            "Cardinalidad de Over18 : 1\n",
            "Cardinalidad de Attrition : 2\n"
          ]
        }
      ]
    },
    {
      "cell_type": "markdown",
      "source": [
        "El resultado obtenido nos indica que la mayoría de variables categóricas en el conjunto de datos presentan una baja cardinalidad. Sin embargo, algunas como \"JobRole\" tienen una alta cardinalidad con hasta 9 valores distintos.\n",
        "\n",
        "Además, se puede observar como \"Over18\" solamente tiene un valor, por lo que no aporta información relevante y debe ser eliminada."
      ],
      "metadata": {
        "id": "O9en_F_0TrGS"
      }
    },
    {
      "cell_type": "markdown",
      "source": [
        "**Variables con valores faltantes y cuántos son:**"
      ],
      "metadata": {
        "id": "OxDcVne_8vID"
      }
    },
    {
      "cell_type": "code",
      "source": [
        "for col in data_train.columns:                                                  # Recorremos las columnas del conjunto de datos: data_train\n",
        "    contador_faltantes = 0                                                      # Inicializamos el contador de faltantes a 0\n",
        "    for valor in data_train[col]:                                               # Recorremos los valores de la columna\n",
        "        if valor is None or valor != valor:                                     # Check: ¿El valor es nulo (faltante)? Especial: valor != valor para detectar NaN\n",
        "            contador_faltantes += 1                                             # Incrementamos el contador de faltantes en una unidad\n",
        "    if contador_faltantes > 0:                                                  # Check: ¿Hay valores faltantes en esa columna?\n",
        "        print(\"Variable:\", col, \"- Valores faltantes:\", contador_faltantes)     # Mostramos la variable con sus faltantes por pantalla"
      ],
      "metadata": {
        "id": "TSgb4Y_8802p",
        "colab": {
          "base_uri": "https://localhost:8080/"
        },
        "collapsed": true,
        "outputId": "957827a7-a4cb-4463-a1e2-fb473536308c"
      },
      "execution_count": null,
      "outputs": [
        {
          "output_type": "stream",
          "name": "stdout",
          "text": [
            "Variable: EnvironmentSatisfaction - Valores faltantes: 17\n",
            "Variable: JobSatisfaction - Valores faltantes: 8\n",
            "Variable: WorkLifeBalance - Valores faltantes: 23\n",
            "Variable: NumCompaniesWorked - Valores faltantes: 12\n",
            "Variable: TotalWorkingYears - Valores faltantes: 7\n"
          ]
        }
      ]
    },
    {
      "cell_type": "markdown",
      "source": [
        "Tras la ejecución, se puede observar como hay cinco variables presentes en el modelo que contienen valores faltantes, destacando alguna como \"WorkLifeBalance\" con hasta 23 valores no presentes, o \"EnvironmentSatisfaction\" con hasta 17.\n",
        "\n",
        "Durante el desarrollo de la práctica determinaremos qué estrategia seguir para solventar este problema, analizando el impacto de estas variables."
      ],
      "metadata": {
        "id": "8Wy1-YPVUVhy"
      }
    },
    {
      "cell_type": "markdown",
      "source": [
        "**Columnas constantes o columnas de ID:**"
      ],
      "metadata": {
        "id": "1bfk_Fyz-Bdb"
      }
    },
    {
      "cell_type": "code",
      "source": [
        "for col in data_train.columns:                                                  # Recorremos las columnas del conjunto de datos: data_train\n",
        "    valores_unicos = data_train[col].unique()                                   # Obtenemos los valores únicos de la columna\n",
        "    if len(valores_unicos) == 1 and valores_unicos[0] == valores_unicos[0]:     # Check: ¿La columna tiene un solo valor? Especial: ...[0] == ...[0] para detectar NaN\n",
        "        print(\"Variable:\", col, \"- Columna constante\")                          # Mostramos la variable con la columna constante\n",
        "    elif len(valores_unicos) == len(data_train):                                # Check: ¿El número de valores únicos es igual al número de filas?\n",
        "        print(\"Posible columna de ID:\", col)                                    # Mostramos la posible variable o columna de ID por pantalla"
      ],
      "metadata": {
        "id": "bDAr9gG697d6",
        "colab": {
          "base_uri": "https://localhost:8080/"
        },
        "collapsed": true,
        "outputId": "10ebed3e-4064-41db-cc90-43a4dda6cb5e"
      },
      "execution_count": null,
      "outputs": [
        {
          "output_type": "stream",
          "name": "stdout",
          "text": [
            "Variable: EmployeeCount - Columna constante\n",
            "Posible columna de ID: EmployeeID\n",
            "Variable: Over18 - Columna constante\n",
            "Variable: StandardHours - Columna constante\n"
          ]
        }
      ]
    },
    {
      "cell_type": "markdown",
      "source": [
        "Se identifican tres columnas constantes: \"EmployeeCount\", \"Over18\" y \"StandardHours\", así como una posible columna de id: \"EmployeeID\".\n",
        "\n",
        "Las columnas constantes no aportan información relevante o que resulte útil al modelo, y pueden eliminarse.\n",
        "\n",
        "La columna de id contiene valores únicos para cada fila, por lo que no contribuye al modelo y puede eliminarse."
      ],
      "metadata": {
        "id": "fvO5SCW1VzRs"
      }
    },
    {
      "cell_type": "markdown",
      "source": [
        "**Comprobación del tipo de problema: ¿clasificación o regresión?**"
      ],
      "metadata": {
        "id": "OWnO-qsyEW8J"
      }
    },
    {
      "cell_type": "code",
      "source": [
        "datos_col = data_train[\"Attrition\"]                                             # Seleccionamos la columna \"Attrition\" del conjunto de datos de entrenamiento\n",
        "valores_unicos = datos_col.unique()                                             # Obtenemos los valores únicos de la columna \"Attrition\"\n",
        "print(valores_unicos)                                                           # Mostramos los valores únicos por pantalla"
      ],
      "metadata": {
        "id": "hCwVgw45Ojre",
        "colab": {
          "base_uri": "https://localhost:8080/"
        },
        "outputId": "4b8da30c-a266-4865-a7c4-9fe045866277"
      },
      "execution_count": null,
      "outputs": [
        {
          "output_type": "stream",
          "name": "stdout",
          "text": [
            "['No' 'Yes']\n"
          ]
        }
      ]
    },
    {
      "cell_type": "markdown",
      "source": [
        "Como se puede observar en el resultado de la ejecución, se trata de un problema de clasificación binaria. El modelo podrá predecir una de las dos categorías: No, Yes."
      ],
      "metadata": {
        "id": "a-YOreL0QHKe"
      }
    },
    {
      "cell_type": "markdown",
      "source": [
        "**Puesto que es un problema de clasificación, ¿está desbalanceado?**"
      ],
      "metadata": {
        "id": "7bOqly20RLro"
      }
    },
    {
      "cell_type": "code",
      "source": [
        "datos_col = data_train[\"Attrition\"]                                             # Seleccionamos la columna \"Attrition\" del conjunto de datos de entrenamiento\n",
        "contador_clases = datos_col.value_counts()                                      # Contamos la cantidad de valores de cada clase en la columna \"Attrition\"\n",
        "print(contador_clases)                                                          # Mostramos la cantidad de valores de cada clase por pantalla"
      ],
      "metadata": {
        "id": "JWNqvKCSROPK",
        "colab": {
          "base_uri": "https://localhost:8080/"
        },
        "outputId": "ab1ff4f7-e030-447d-b037-524f089ddf36"
      },
      "execution_count": null,
      "outputs": [
        {
          "output_type": "stream",
          "name": "stdout",
          "text": [
            "Attrition\n",
            "No     2466\n",
            "Yes     474\n",
            "Name: count, dtype: int64\n"
          ]
        }
      ]
    },
    {
      "cell_type": "markdown",
      "source": [
        "Concluimos el Análisis Exploratorio de Datos (EDA) indicando que el problema de clasificación está desbalanceado. Esto es debido a que existe una mayor cantidad de valores en una categoría: \"No\", respecto a la otra: \"Yes\".\n",
        "\n",
        "Un conjunto de datos desbalanceado puede provocar que el modelo aprenda mejor la categoría con mayor cantidad de valores y no aprenda correctamente la categoría con menor cantidad de valores.\n",
        "\n",
        "\n",
        "\n",
        "---\n",
        "\n"
      ],
      "metadata": {
        "id": "pvvVZ80_Rtol"
      }
    },
    {
      "cell_type": "markdown",
      "source": [
        "### **3. CÓMO SE VA A REALIZAR LA EVALUCIÓN**\n",
        "\n",
        "Tras realizar el EDA simplicado y observar que se trata de un problema de clasificación binaria desbalanceado, definimos en esta sección la estrategia de evaluación con la que entrenar y evaluar el modelo."
      ],
      "metadata": {
        "id": "sCH2aP5XUaM4"
      }
    },
    {
      "cell_type": "markdown",
      "source": [
        "Antes de separar los datos en entrenamiento y test, limpiamos el conjunto de datos quitando aquellas variables que resultan irrelevantes, como se ha observado en el apartado anterior *(EmployeeID, EmployeeCount, Over18, StandardHours)*.\n",
        "\n",
        "También aplicamos label encoding a la columna *Attrition*, que al tratarse de una variable binaria, conviene transformar sus valores categóricos (\"No\" y \"Yes\") en numéricos (0 y 1)."
      ],
      "metadata": {
        "id": "C_nPDspWdNFn"
      }
    },
    {
      "cell_type": "code",
      "source": [
        "from sklearn.model_selection import train_test_split\n",
        "\n",
        "X = data_train.drop(columns=[\"EmployeeID\", \"EmployeeCount\", \"Over18\", \"StandardHours\"]) # Eliminamos columnas irrelevantes para el modelo\n",
        "X = data_train.drop(columns=[\"Attrition\"])                                              # También eliminamos la columna 'Attrition' de las features X, ya que 'Attrition' es la variable a predecir (evitamos el data leakage)\n",
        "y = data_train['Attrition'].map({'No': 0, 'Yes': 1})                                    # Convertimos a valores binarios"
      ],
      "metadata": {
        "id": "ixARDnJld1Cn"
      },
      "execution_count": null,
      "outputs": []
    },
    {
      "cell_type": "markdown",
      "source": [
        "A continuación, definimos la separación entre train (66.6%) y test (33.3%). Usaremos como semilla el NIA de uno de los miembros del grupo, como se exige en el enunciado.\n",
        "\n",
        "Además, al tratarse de un problemas desbalanceado, es importante especificar *stratify=y* en la separación para tener para tener el mismo desbalance en el conjunto de entrenamiento y en el de prueba. De lo contrario, el conjunto de entrenamiento podría no reflejar la distribución real de 'Attrition' y resultar poco útil para entrenar el modelo."
      ],
      "metadata": {
        "id": "RfuWHTEuhYjp"
      }
    },
    {
      "cell_type": "code",
      "source": [
        "X_train, X_test, y_train, y_test = train_test_split(X, y, test_size=0.33, stratify=y, random_state=100495893) # Dividimos en train y test\n",
        "print(\"Tamaño del conjunto de entrenamiento:\", X_train.shape[0], \"instancias\")  # Imprimimos el número de instancias de entrenamiento\n",
        "print(\"Tamaño del conjunto de prueba:\", X_test.shape[0], \"instancias\")          # Imprimimos el número de instancias de test"
      ],
      "metadata": {
        "colab": {
          "base_uri": "https://localhost:8080/"
        },
        "id": "fTAutM-AiGiB",
        "outputId": "0bd00295-0e1b-464a-8b84-ceebd27e2a05"
      },
      "execution_count": null,
      "outputs": [
        {
          "output_type": "stream",
          "name": "stdout",
          "text": [
            "Tamaño del conjunto de entrenamiento: 1969 instancias\n",
            "Tamaño del conjunto de prueba: 971 instancias\n"
          ]
        }
      ]
    },
    {
      "cell_type": "markdown",
      "source": [
        "El siguiente paso consiste en aplicar validación cruzada dentro del conjunto de datos de entrenamiento para la optimización de hiperparámetros. Puesto que se trata con un problema desbalanceado, la validación cruzada será estratificada, es decir, cada partición conserva la misma proporción de clases que el conjunto original. En la siguiente imagen se muestra de forma clara la estrategia:\n",
        "\n",
        "![Figure_1.png](data:image/png;base64,iVBORw0KGgoAAAANSUhEUgAAAagAAAEpCAIAAABJPCHqAAABJmlDQ1BBZG9iZSBSR0IgKDE5OTgpAAAoz2NgYDJwdHFyZRJgYMjNKykKcndSiIiMUmA/z8DGwMwABonJxQWOAQE+IHZefl4qAwb4do2BEURf1gWZxUAa4EouKCoB0n+A2CgltTiZgYHRAMjOLi8pAIozzgGyRZKywewNIHZRSJAzkH0EyOZLh7CvgNhJEPYTELsI6Akg+wtIfTqYzcQBNgfClgGxS1IrQPYyOOcXVBZlpmeUKBhaWloqOKbkJ6UqBFcWl6TmFit45iXnFxXkFyWWpKYA1ULcBwaCEIWgENMAarTQZKAyAMUDhPU5EBy+jGJnEGIIkFxaVAZlMjIZE+YjzJgjwcDgv5SBgeUPQsykl4FhgQ4DA/9UhJiaIQODgD4Dw745AMDGT/0ZOjZcAAAACXBIWXMAAAsTAAALEwEAmpwYAAAF8GlUWHRYTUw6Y29tLmFkb2JlLnhtcAAAAAAAPD94cGFja2V0IGJlZ2luPSLvu78iIGlkPSJXNU0wTXBDZWhpSHpyZVN6TlRjemtjOWQiPz4gPHg6eG1wbWV0YSB4bWxuczp4PSJhZG9iZTpuczptZXRhLyIgeDp4bXB0az0iQWRvYmUgWE1QIENvcmUgNS42LWMxNDggNzkuMTY0MDM2LCAyMDE5LzA4LzEzLTAxOjA2OjU3ICAgICAgICAiPiA8cmRmOlJERiB4bWxuczpyZGY9Imh0dHA6Ly93d3cudzMub3JnLzE5OTkvMDIvMjItcmRmLXN5bnRheC1ucyMiPiA8cmRmOkRlc2NyaXB0aW9uIHJkZjphYm91dD0iIiB4bWxuczp4bXA9Imh0dHA6Ly9ucy5hZG9iZS5jb20veGFwLzEuMC8iIHhtbG5zOmRjPSJodHRwOi8vcHVybC5vcmcvZGMvZWxlbWVudHMvMS4xLyIgeG1sbnM6cGhvdG9zaG9wPSJodHRwOi8vbnMuYWRvYmUuY29tL3Bob3Rvc2hvcC8xLjAvIiB4bWxuczp4bXBNTT0iaHR0cDovL25zLmFkb2JlLmNvbS94YXAvMS4wL21tLyIgeG1sbnM6c3RFdnQ9Imh0dHA6Ly9ucy5hZG9iZS5jb20veGFwLzEuMC9zVHlwZS9SZXNvdXJjZUV2ZW50IyIgeG1wOkNyZWF0b3JUb29sPSJBZG9iZSBQaG90b3Nob3AgMjEuMCAoV2luZG93cykiIHhtcDpDcmVhdGVEYXRlPSIyMDI1LTAzLTA1VDE2OjUxOjEyKzAxOjAwIiB4bXA6TW9kaWZ5RGF0ZT0iMjAyNS0wMy0wNVQxNjo1Mzo1NyswMTowMCIgeG1wOk1ldGFkYXRhRGF0ZT0iMjAyNS0wMy0wNVQxNjo1Mzo1NyswMTowMCIgZGM6Zm9ybWF0PSJpbWFnZS9wbmciIHBob3Rvc2hvcDpDb2xvck1vZGU9IjMiIHBob3Rvc2hvcDpJQ0NQcm9maWxlPSJBZG9iZSBSR0IgKDE5OTgpIiB4bXBNTTpJbnN0YW5jZUlEPSJ4bXAuaWlkOjM0ZjQyMmEzLTlmMjktYmE0OS1iNDJiLWJiMWJmYjVmMDViNiIgeG1wTU06RG9jdW1lbnRJRD0iYWRvYmU6ZG9jaWQ6cGhvdG9zaG9wOjNmYThhMzRkLTIxNjMtMTI0YS1hYWZkLTQ2NmQzNmQxMTllNiIgeG1wTU06T3JpZ2luYWxEb2N1bWVudElEPSJ4bXAuZGlkOmE4NTc0NDE5LTNkZTMtODc0Mi1hMjQzLTc1MTBmN2NiMjUwZCI+IDx4bXBNTTpIaXN0b3J5PiA8cmRmOlNlcT4gPHJkZjpsaSBzdEV2dDphY3Rpb249ImNyZWF0ZWQiIHN0RXZ0Omluc3RhbmNlSUQ9InhtcC5paWQ6YTg1NzQ0MTktM2RlMy04NzQyLWEyNDMtNzUxMGY3Y2IyNTBkIiBzdEV2dDp3aGVuPSIyMDI1LTAzLTA1VDE2OjUxOjEyKzAxOjAwIiBzdEV2dDpzb2Z0d2FyZUFnZW50PSJBZG9iZSBQaG90b3Nob3AgMjEuMCAoV2luZG93cykiLz4gPHJkZjpsaSBzdEV2dDphY3Rpb249InNhdmVkIiBzdEV2dDppbnN0YW5jZUlEPSJ4bXAuaWlkOjM0ZjQyMmEzLTlmMjktYmE0OS1iNDJiLWJiMWJmYjVmMDViNiIgc3RFdnQ6d2hlbj0iMjAyNS0wMy0wNVQxNjo1Mzo1NyswMTowMCIgc3RFdnQ6c29mdHdhcmVBZ2VudD0iQWRvYmUgUGhvdG9zaG9wIDIxLjAgKFdpbmRvd3MpIiBzdEV2dDpjaGFuZ2VkPSIvIi8+IDwvcmRmOlNlcT4gPC94bXBNTTpIaXN0b3J5PiA8L3JkZjpEZXNjcmlwdGlvbj4gPC9yZGY6UkRGPiA8L3g6eG1wbWV0YT4gPD94cGFja2V0IGVuZD0iciI/PvVFJFoAAJh2SURBVHja7Z0HWBXH2sdzv1uTm5tmTOy9ogjSRQWl2wAVG2IBC4piQ7oooDQF6b0LiIiISlMBKUpv0pEiXcUOWEDF+f57Nh6JmlyF5B5N5n3mOc+ePbOz75nd+e3/3Z2d+YxQo0aN2p/MPqNVQI0aNQo+atSoUaPgo0aNGjUKPmrUqFGj4KNGjRo1Cj5q1KhRo+CjRo0aNQo+atSoUaPgo0aNGjUKPmrUqFGj4KNGjRq1Pzr4zl2pdY7ICTtfEhh7lSaaaKLpPVNEUqlFwJVPFXyRl6o6HnVyFp/TRBNNNL13Iucyqj9V8EWlVdc13Xze1XmfGjVq1N7bCOk+mVRKwUeNGjUKPgo+atSoUfBR8FH7GOzBgwft7e34xPLdu3efPXvW3d3d2cnc58Wae/fusdnaX9nDhw9/vTRapRR8FHzUPmoD6Z4+fYrj3tXVheXHjx8XFRUVFxc3NzdfvnwZFAPmwD7wrqenB58dHR3seYJl5O9dFIvIFy9e4CcuLqlR8FHwUfu4DHjCEc/Pzx8+fHhSUhJ7Aujo6Ojp6SUnJ0tISED3PXny5Pnz59evX1dQUJCTk1u4cOGcOXP8/f2RE0xkoQkD79ivUVFRd+7cwQJAyf6EErCG1jYFHwUftY8IfPr6+p999tnGjRvZE0BXV9fAwCAlJWXWrFkAHzQgVubm5g4bNuz06dPQgwEBAV988cXhw4exvra21sTERFtbOzMzE1+PHz/+97//3cjICMsJCQkbNmw4dOgQdoTYmWpACj4KPmofhUGUVVZWzp079+rVq9BxLLwAPkNDQ4BPSkrq0aNHLPgyMjImT57MghIWHR09fvx4YFFdXX3r1q0uLi74tb6+Huv/9a9/BQUFXbp0SVJSEhxcsGDB8uXLsQliZFrhFHwUfNQ+CrkHxmloaGBhC8d+CXxZWVkTJ06sq6t79uwZIl8sTJo0qbq6uqys7MKFC3l5eWPHjg0MDISyA0Zv376NreLi4oqLi6H4kJO9k0jrnIKPgo8aj40lmoiIyNSpU3ft2iUsLMzHx4c1CFTfBh/EIPjV3NzMniT4FZkrKirWrVu3Zs0aNze3MWPGQO4BeRISEtgkJiYGkbKVlRWiXTExMfZeIa1zCj4KPmo8P02Jp6cneJednX3u3Ln8/HwwKyIi4siRI3v37u39cINVfKNHj4bQw3JNTc3gwYNtbGxSU1MhA7EG2b766qvQ0NCHDx/y8/ND3KmqqkI54qfDhw8jM/vcg9Y5BR8FHzVeWnt7O461rKwsQlHuoXdxcVFXV4dMs7CwSEtLk5eXZx9uvHz5EuJuxIgR0IAqKipTpkzZunUr8iNYBuAWLFgAui1btmzevHnIj6+rV68+fvy4tLT0xo0bbW1thYSEHBwc2KfAtOYp+Cj4qPHMHjx4gLC0trYWwSy3yzEYd/369aamplu3bt25c6elpYWbGQa5l56ejiAXW7EqD/k7OjqgDdva2rDm6tWrLFIhD9n7gJcvX8Z67Ki4uBjrabVT8FHwUeOxQa8BTwAf2w8Zn2BZd3c3YlIQDZx69uwZNyfAx+2Xh/X4ipXYhA2EsSEIiAzIzPbgQwYUzi6wr4K80duZGgUfBR81atQo+Cj4qFGjRsFHwUeNGjUKvt/RjidWPuh4SMhLQrpoookmmt47kXNXqj5V8KUVNVv4X/E4Xeh2qoAmmmii6X1TVL5dWPanCj5q1KhR+52Mgo8aNWoUfNSoUaNGwUeNGjVqFHzUqFGjRsFHjRo1ahR81KhRo0bBR40aNWoUfNSoUaNGwUeNGjVqFHzUqFGj9ucD37Xm+57nrh5LLA+hiaY/UAo8X4rPzifd7HnecueRT0xp8IXKkIs0/TbJP748PPnapwq+4MQy+ztZfqTAvSuXJpr+MCmUXN2dlnS99SF7np/Padgdc9v2KjHPfE7Tb5Lsy8nW0JpPFXwR6VUej3LDSXEgKaSJpj9MOkPKjbNSmm51sOd5alGzYeIDpxoC9tH0myT3BrL71PVPFXwn06uc2rODSJE3yaeJpj9MiiAl+lmXeoNvb8K9I2XkYC5Nv01yvEZ2nKDgo4kmCj4KPgo+mmii4KPgo+D7ZJInyfEnxVHkJifdOEVuRJPboaQG638hf24QKT9GqrxI7hvrA0hpCKn2Inkf7kOuPykJJw2crz/b3ItTbAApeWN3NH0k4LPIIkcqifsN4tZM3FqIawtxayU2xcz6X9rEMpvYFhObImbhZ+tziFUBcbpODuUzy29sYnOV2eqNTSj4KPj6mAJJ2dG7yRo++9Q9jXecd9kUYbvk8E6DjACwD7gBEwEyH1IYQMoAIB9ScJzUaZ+yW3Z0NzLgV19ShBL8yFV83Zvmu8hCG1+R2PXIwIEXUwInWxFy4qfecPQjxSdIw8HK0/L6a5DNl8lTzMnM7JopoTvPqzsPGyIzB4KlvqTQ+8PxSsH3eyS7UrL1WMG8XUeXHQxb53JB1cR3kYG7flyrfSWxLSHWhZxsOeRQHkNDkAsL1kBeTvfBnG78ygKOQV4ROVpNTJLuSK7asy+1A5izKmRKAB+xuRVTzjPL7C5si/wMBEsYSh7MoeCj4OtTCiHXbBpiZ6xbKLlu4RfffjVupoDwMrn1wQdOkdag5+WOHSkATQRpdHiQ7N6RhQXIPYuqU8a5wUAS9F3Q8zKH9sQwUotk1XRO/7I/4BVMqo71VGF9SM+1YFIBXJ4gjUcfXPJ9UghuAmcs+DxIThipCX5WieX9l0+MEeGHrMMujj2vtLkTd+x5VTi5HkqqFQ3WLbbdjg1PkRa3jgyUgzwcIlMNyGvw5RGHa2SVXRS/3LLxEor//PdXAkrqU2VXGV2oggbcG3P3SMUzh2pGpjnXk/3p7cYX77s0MMviy3YuNHDHthB3jGasIPZVLw5c6TFOvD6UT8Ag/q5rI9b07I25Y1vSDQ2IQuR1rGevM7KvIq5NKPCR0fl7WA/8WWRT8FHw9SnUhbY6TdriSef4udN1g5yzCDnWc016x7LJcmIrnPaCjLM3L5k6X3LCHCHNYIs40rHhuBXk4eEb54HLRebaYKWkpjJUm8EVf2XLLS6PLkvrLFMyXM+nICGgLOX2NOM0uaV6UGeU+NTFNrpT58/ccd71JGlimWt/I3HqvJkoB2n87OmRpNm0IHTCHGGhpTKCKtKuj6+4dKb/e8DXgyaNcum8rO5pNFFGdLK8OPaCWNuXHsePJNStIMFdZMfJ3KGTRZ3rXxx7RvalNE6cqTpZWoVv7lLDhGb3VqK6z3+KzNJJUspS6411T5R+8fWAIZOEjBPvAGSAl3nmk6lyanxzl8xYuWPwBEHIOv3Y5vEzlKbIqI0TV9h7rhFrBgwf/8U33xtfvLPSJnKUkPT4GfMkV+2GimQ1IAUfBV9fEgJJoGSMBL9WiOVZchd6asCowdJb1YAz2+Y4lUM6QaRib6rPjxNHglaIc6W3LEWA/I/P/6kddRiScODYYfpX/Pem+UxbONvzRc7XQ75Xtd52kjQPE5iw1s/scOv570cPdbx/ybwi8rPPPtsabR9FbmCnkaRFfPU8kRXyUeSW/B6N70cPwRrtSLv1wRax5CF+Ak8TyCOQcYXL3nBSr2qz/citi6DhD+NH7EnxPvHTPUGaeP9ww7GWbPBKBbOg4FwaCag0d6PZcUKktUzHS84Dm74cMGitcxx03PJD4aYpDyfOWqhq6ufcwGhGaMNZGnpjRGSc6smCvS7/+vJrhM9aXqmLDD187uEn/Qkz5/u1E8H5a6TWGnncJEo77IFOuzLyw2g+Ncsw12YKPgq+3wh8WDN21jTD+EAsB5KyDaEHZXeuUtBfO3jyaMStkHsyuittmmLGzxTy7SxKJN3T5KR0Yh2g+ISWyro+ujxBWtimJBbKUXK5srqP0aZTNtMV5l4gT4GzKXNmqHsZAnyc24XXx0pO2xpsn0aI+ZWTI4X54INze9oCs42LrbePlxKSWDv/IumavniuuovRBfJkd5LH3O3Llx7Z+f2YYTpnHSJJKz1wHxv4bIqYG3mDxk8TmLdGYbstv/yKEdNmAmSqpr7Dp80QnL9eP67a7yEZJzFv+aFjbi3Mth63yFgxxfl6h8II2ZfaOHgiv1naYwBUYZuNzGZziMQJMxcAfKKLN8/daBL8lGgH5Eis2DFvt+O3Q8coG3kBhRR8FHy/Dfi8evImyYjsueSVQl4uNN88lH8c4krdBOfvRw6FzlrlbjRXd4V1Q8wkGVG3p5lnyJ3JcuLbY51Y8Ll0pCMatag6lUSeiSyX1/A21T59GGHvZULOkXvDBMavDTBjwQcRN1KSb4OPVSkhe2N9hwqNg5wcO1Ngwb4NYaRWaIXszBXKKYTwKUsYngu0Lo75dtSPNo2xUKDfjRhkmBCIQrzoI46PDHzWHPAhLJ23+6hBfOu2sKu7omrNM1+AcYfyHy07ePLbIaO1A7JBwPXux73uMJGyJ8Anqii/zSwWp0FM8bdDJqAEhL1CylpHa4nEit3jJeeEPCfTFDWXHXI7VND+1cBR2oHZ+y8/+XbIuJU2fijkf/Col4LvDws+QGfYtPGITGPIA4SrI4Qm6cY5Q4tBf42YPtHq+jm1o7v/8pe/7E3zXeG8d/bmxYdqzgwXmujckQZQjpearhvnBFBOUZyBkHaU2BSz4vBL5KWg6hxVKx1fUvjt8EHLnfQ0Qyz/769/hVhjQ91TpBWMGzByCDacOn8m8Hqc1I2bJbjwwCaLylMT5goPGDUEBJRYu3DqPMmN4VZww7QwbMvpI3///J+QnPiJfdRLE+/BV0e0PFPAO8vsHkiwWWv0x4jK7DxVNXO13gqbcOurBLHtkv1BW4Jzvx81SSe0SGjheghAi6zniFgRqyobeX753Y8aR2MAuy+//cHhGsC3GBJv9+laaMbPv/oOAlBqvTHAus714uCJ0zU9kjXdkz//z7dTZNXsq5iHvBR8FHx9SZwOK6UrXfVNC0JBH++X+as9jQ9WR4eSGj9SrGa/S2LdQrOCcO0TdtBrhtlB0HeO91OQx+NZNvJr+JhaVERa18doHrNw78rS8Daxv3URXNMKObgt7igi3P15J2ZvWWySE8I/b5aGrykLPn9Sgjha1WqbxJr5G8IOAW2ALwoBVVWtt1tVn11krg0CHm69ILpCHs7svOAmslJhT6KXforfPFNN9+6sAFJCj93HAD7wa090HcJPy5yXh8uYxx3z9VwE5mlIa5oYXWhzuk7WOScIq2wUWqS5xjEGse3WY3lT5VboRpQDW1b5BJ8L9Z2nyi5bdjBsqfmxQ3nENPnBjJU7pdYZ652tUdxht8n3yv70Tn6FlVuPFWgH5vArrFrtEK0TmjdrjYFJ0n3bEgo+Cr4+pjxPkhtFbiLgdSdZrBwLIuXuJJPzzPcWEqgUSVqOk+shpBpRKtQW8iBiRX4sBJMKUOwkaQZD8dWfFLuSK/h6itywf3BRQX+Nw50ku9aEH8YP/4mtP/WdvhpN2lD4SdIUSZo9SDYKjyZ3IkhjKLNwG+UEkyqIUDhzgjRyOldXYwGusj0E6bH7GMCHiBX0cb/BWc5kuu8htsVXJMSt5hlMLAwliK/O9cQ8k+kE433vp37OCFTBPuQHEJ3qGQFomUMOlzMhsEvjT72j7UqZ8n3uMYRli3Ko/mmB6e1MQ10Kvo8t+ZIiMGvp4R0IVyfLi2kGWNKnsfSVNfrKGgXfHzxxXtsogKDzfVHo86IwgjThK1VqFHwUfBR8f4ZUgNCYPoug4KPg481ApN5P8iOZd+mv0kTTHybFkkrTrFQu+FKKmk0utbvVE7CPpt8kebUSvdOfLPiOJZVb1lx2fJhjdzOTJpr+MMnjed7W+Av1N9rZ8/xCboPOyaZ96V0GF9tp+k2SeVbPBv+yTxV8LXc6YzLqEnMbk/JooumPk85nNyTnNz7tfs6e53fbnyZkX0/Ma0jKp+m3Seezr6cWNX2q4KNGjRq138ko+KhRo0bBR40aNWoUfNSoUaNGwUeNGjVqFHzUqFGjRsFHjRo1ahR81KhRo0bBR40aNWoUfNSoUaNGwUeNGjVqFHzUqFGjRsFHjRo1ahR81KhRo0bBR40aNWoUfNSoUaNGwUeNGjUKPmrUqFGj4KNGjRo1Cj5q1KhRo+CjRo0aNQo+atSoUaPgo0aNGjUKPmrUqFGj4KNGjRo1Cj5q1KhRo+CjRo0aNQo+atSoUaPgo0aNGjUKPmrUqFGj4KNGjRo1Cj5q1KhR8FGjRo0aBR81atSoUfBRo0aNGgXf72mPu57V3nhYf6u94VYHr1LdzfbG2x3PX/Rwvbrf0QWveOgSUk3rw1sPHveuq5v3Hn0EXj140NnFdQmVhqqru8lLr+pxBG88fNL1nOvVk6fPOSdVB49PqraOFz0vKX0o+N5hUWnVQbFFMekVkUmlvEqJ2desgzOqm+9zvXKKyD+TWn76UhkPvbqUW7Pf/zLXpa5nLywCrlzIrDqVzDOXTqeUnblU7hxVwPWquPb2kbDM8xlVPKyo+CuVPmfyE7LruV5FXKri+UmVnFtt4Z/efLuT0oeC7x12KuVae2cHZ/EZ7xK5crW+vP4u1yv/mGJCcK1+wVuv/GKLuS49evosPKmclVm8cwkV8tI75rVX+VW38iqaeH74Gtvux2bUcb06eanqYWcnz72Kzai+fuMhpQ8F37sVX13Tzeddnfd5Z5BTMZcrKxvvcb3yOXv16eOOjvaHPPXqmXsvbfW0+3lAbBF5+fThgwe8cqmz4+GTznbvc1e5XhXV3E7MriY9T3hZUc8fl1Y391Z8kSnXrjfdev6UtyfVs4ik0sa2nxTfw4cPg4ODKysrKYwo+Cj4KPj+4OBruv2Idampqelf//rXZ599Nnfu3Dt37lAkUfC9G3x3797FRbJ3zpcvXz548ODevXu983RyIhrkxDLW4JR6+vTps2fPsMDmucexHo713rZv4MNeHj/+2QMH7IvdNdew666uLnjL3R0yPH/+HBtyc2IBedgSOjo63ijhQ8GHzbu7u3/2yOjxY24NcOsBLiEbux5fUZkvXrxA1bF+4hPLyIPNsZ5d0x/wwasnT5709gp/+Q2v2JrB7rg1gJ1iDQ5r7zrhngyPHj16u64+CHxs+b29emNf7L9mKvzpU25dtbe3964TfOK4v36W8uTJG//rteK71dF7RwEBAX/5y1+Av6ysLEolCr53gA84wMkUFxfn7u7u5eXl4uISGhqKE66TY2jYOBfRjIuLiw0NDXE5xcmHVoECfX19raysmCezrxozljMyMq5cuYIM/QQf9tvQ0HD8+HE3Nzdvb28HB4cLFy6ghWAv+AnlgybMzfWICPiAtoF/wTb+ffv2nTp1ivUKzQwLtbW1R44cOXfuHIiMbG9T5j3Bhz1i16gH/HF4hbpydHS8evUq9o4qwk+oLriHdmtraxsWFoaisB47bW1t3blzJ9yA/9g7fMBPFy9etLOzy8vLw3I/wYc/XlNTg/iOrSt7e/v09HR49UZd+fj4ODk5sV6BjMigr6+fmpoKBHNJxB705ORkVP7bB/H9wYc9opycnBz4g/PK09PT1dW1qqoK+8Xe4TAqgV3Yv38/zj32soTP0tLSXbt24YTE5uxfQxV5eHigEJyZ+BVu/wL42t8+52fNmgX24RhRMFHwdb513hCcW19//fX8+fNXr16NTx0dHbQBVt/V19ez2iQxMXHKlCk4d1mm4NPY2HjBggXsV5y1gCPa1d///velS5ey2/YHfPjp8OHD//jHP7S0tFasWCEjIwPKsJuAIzdu3GCXzczMENFw1+NTSUnJ2tqa6yQgOGLECA0NjcmTJ+/du5dt9n0DHzbEr4sWLfr+++83bdq0bNkyeXn5hIQEVrhdv36dK5wVFBTAFObhyPPnqMnm5mYBAYGSkhJkY5v39u3b+fj4NmzYMHHixMDAQNbbvoGPhdru3bsR323evHn58uWoEOgdbtx3+/Ztdnnjxo3soYGxFThz5kwW0FzwYRl8ASzA5be9en/wsX9zxowZo0ePxhFUU1NbuHAhLoqscq+rq2PlPDgoJiZ29OhRdhmoxakoKCgIn9kLCdbj70ydOhVXjiVLlly6dOkdXr2l+HrbtGnTBgwYgJqnbKLgexMxSUlJ4AI3XGLPkrNnz+KcAwdx4uJrQUGBuLg48qSkpIiIiIB6QkJCa9euZU9EnLItLS1BQUG6urpoe78J+NCYsXduTjZusrGxkeEY5BL7VVlZGQsQWcLCwkDeuHHjoMW44MOaQ4cOYQHqY8KECTdv3sRf6A/4JCUlWbByra2tTVNTE9cAeMVyUFVVlc2DCwlAjEYLzFVXV6NiWSEDmQMOIoO2tjbo2X/w4drAHgvuEQRfDAwMUPicOXOg9bByx44d8BMLuAAASQcOHEBdxcTE9FbHmZmZOMrTp0+Pjo7uJ/ggdYGwkJCQ3nWFywMgiEOGamHVLs4x5MHFFStxLYGHoqKirLjGkULdysnJQZb+dGheBcXvDz6cluA4LgmUTRR8byIGkRGuzPHx8dnZ2VB2lZWVOF3Gjx/PEgSAMzExwRo07MbGRlyiocVwWo8dO5ZlXO/7NdBlLK36Dz5TU1PsGrzAeQ8BgrYE+TZ8+HC4h5BnyJAh+fn5fn5+0E2FhYXwH2guKyuD5MRKbmPm3pJDAIUmxIZU/QGfrKws9CM0Cy4ArACBQJ49ezYWnJ2dgRKWd9BxqD34DwBBCH/xxRfQzuARt6LQ7CG4cAmpqKh4O9r9UPDh4iQtLY34FF7hCGKnEG4APaQTvv74448gvrm5OY4jLnKoK4hQVOnf/va38+fPs3tHRUFz4eIBFG7btg3XsH6CDywDwgBZHC9U1OXLTE9JqLbFixez8MV/x4KioiJC3X379rFHB1e7QYMGYXOAD/8CyhRxBv4azj0pKSnU4dt19evggx05cgTsq6mpoXii4PsZYoCMb775Bq0X8Qi4BvUEuTdr1ix2Q1dXV0gYKBSIGrQiKAJWHUD0sYzrXRSUDgr5TcCHCOivf/0rmgrUAZpQWloa4kcwhd0QzEUGRGoQMm5ubvPmzWPXQ+NwQ134yd4aB5ugYm7dutX7SUjfwId2++WXX0K2oKFCrYCA+L9saAnZi9pDQLdlyxY4htAS7MZ6iBR+fn421GWfdbB1joAX3rKIefDzfX0o+FAzqCsoJnAEBwgXBkgnPT09dlvAOjw83MHBwcrKCviDPGTXQ/exoS4bpK9fvx6XBzacj4yMfAdiPjDUxRkFiuEIoqJUVFSqqqqAMKCZvfGKugL0EX2fO3cOnrNX2atXryI4ZUPdhxxLTk7G9ZjVhvh3b9+s+K/gg/3zn//ctGkTxRMF388Qg3MLoS7CCu5NqKioKKyBrMOypaUlKIPrNjCHSzfiF/YOERo29x4fEMNyAZTEScxGJe94LPgh4EO7VVBQYDUae7sHe+QGv1hABIcoCeBDm4EcYNdDs+AKz73zyGo9NGn2TiWcfJdXHwA+NGYEqr29gnJh71IBcKgcqE60MQAFnyxHoDVGjRqFRo7qRXuGaoYcY0sLDg5GFMyGdf0Bn7q6+qpVq3p7BRxDC7PbIjyHqoJOB/gOHjzIXplgkyZNOnnyJPceJZQgIKWrqztw4EDUJ/Qj+4C1z6EuBC8bZeMrzgf8TZxUbBANwOFIQXjimgqNiQsJuIz1OMGgmtln+tiqqamJVcSsoMb1D8Wytws+CHxbt279xz/+wZ4D1Cj4Xt/jGzNmDMBHOP0zEPXgE61lzZo1CQkJ+CkiIgKXaIgmXIoBI8grBErffvstgj4WMWi3OIkhK3BNRiN3d3cvLi5GOf0B386dO9kHF1BS7L3wrKwsFI4GYG9vjzgO7EBrQVvFrhECQ8tAeSGo4YZpLPWwBo4h9vTw8ACy3/Gw8kPABz3F6rhHHMOCnZ3d+PHjETNCSbGkBpQhQmNjY0EQSCcIwP/85z/gHTjyhGMCAgLQekDA1KlTway3VcyHgg8XG7Cjd12dOXNmxIgRx44dMzQ0hN5kqwIxbHl5+YABA+Ae3P6///s/SHh27zj60KQ4E7AGQETICbH8Rl19KPgQpbI6juvVnj174AzEO/4+K95Rn6gHT09PeBsfHw9hiEPJdifA+QOvUEUI5HEhgXi0sbF5Wx2/D/hycnJwGrC3JqhR8DGG0wtn/L59+3CSsSc6G8lCp2hra+OC7O/vj6+48B46dAiNFsEdWvjevXvRctCuWMSwj+rWrl27cuXKdevWKSsrQ0W+6wHcB4DvxIkTrAro/cwRwIX8hLpJT0/HV7QZtosGVAOgA+UFr9B6ueCD+gMUIBXxR/B3QJ+urq4+d2dhMcftLsOlIUCPEBhYYbUwBN3Zs2fZzIAgfoVj9fX1qD22qyNIDT2Ixm9sbIwWznZz6Q/4vL29wY43bjtAzSGQxEHBRQhfcbDYu59YwK6hzaEBQQQ2AOd2LWRle2FhIRbeUMfvDz6Uhj+FWIF7LNguSjjZAC/UFXDM6nH4wB5KXE5wDUNdYe9sdxb2iOfn5+OkUlJSYv/gOx/K/1fwwRlEu6xUp0bB97pzMlpj707Lvfv99g4bWXHX+3xin7IhP5uBa8jWn1CXdeD58+e9O9zik42+2Ye8kJ/cDsy9+ytwO8q+3d+4P6Eu6wOr2rjPFt/44+xPcInFK3d97+pl+35zf+rd3brPHZhx4eF2meb2muaCDD+hrtgOzGz/6l+qEG4v9Hd69f7g4x6s3h2hud3gWWN/Ymugdxd61km2hDeO4C8dvv8KPhiU45w5cyihKPjoK2v0lbU/0Lu6/w18s2fP5uPjo4Si4KPgo+D7E4Fv4cKFEyZMoIT6M4Lv1m1EFt3PnnbyKhHyMimnuqLhNfh80bZfPiXPHvPUK+J7trA3+EITShCevuh6xDOXnj8mL5749BqWCuC7XFSHQJCnFfUc1843wNd25y4zhiFPD9/ZtIr/Cr5FixaNHz+eEupPB76wixXlNS3tDx+03LzNq/Si+1HUpbLe4/E5ReTdu3cfROahV+TFY5fIvNc3kh51u0fldT/paL11h1cugSZ37tzzOFPE9Sq7/Ebs5UqoYx5W1OPO9tzyhpgrtVyvQi6Ul9e2POTpSYWLxLH4q3WtD/+r4qPg+zOCr7r5gW9MSXhS5YnkKl4lwDcsseLho9ePTTJLW/1iS3noElJQQnlsVl2vBxEvz12pC0oo461XPmeLcypvcr262/4k9GIFEm+9wsGqv/kaMVWN9/xieXxShVysgAOdT55R8FHwUaNGjYKPgo8aNQo+Cj4KPmrUKPioUfBRo0bBR42Cjxo1Cj5qFHzUqFHwUaPgo0aNgo8aBR81ahR8FHzUqFGj4KPgo0aNGgUfBR81atQo+Cj4fj9LKWrWcs02DCkxDCnmVTIIKdX1ym6983o0Sv+LpboRyWbnLpud5VnaeybF6mQ216XnL3osTmboR6fy0CWzmMtbTiSGJZVzvbp+4+HukEsmMek89Gp/3BWdkIs55a/fIE4saNAJTTSL5eXhM45N1w9JvfPgCQUfBd87LOjCNevC5+4N5GgVz5LPLbI7pqWi1+gsh+Iyo0jZSVIaTkp4lS6Qa/tiL3Nd6njcbZiSEkeqTvDOJVTIKVJ2NDaf61V2xU2b6oxYUsnDijpHKjza8nqPzhJ4qdT/SWE0Kefx4ctMvU5HZ6Hge6dFpNbsS3tqV0wO5vIsgX06J5uu9RqI1DYuJ4AU+pICb5LPqxRBSgxjU7kuPe1+bpiYEkaKfXjnkh8p8CeFjr3AV1TdZlaWFkqu8rCiQsjVw22Z53uNx3c8tdKpIyeIFPH28OlnXWp6j4FIKfgo+Cj4KPgo+Kj9mcGXQw7lEbtSYlfGfB4uI7Ylb+axyCY2V4lrM7EqIJbZzBrzDHK0ljg3kANXXmezzGGy2RQzC/0EnxfJ8yVFwaQyiFQgYcGflGBl7zweJDuU1JwkzZ4kh7smkrSEkmos9CrnajCpCCRlnDV5/QEfSoMbwaSK6xWcfMMrOBNBmsJILeuDF8lFntPkph+5imVutgCmnAp/UvxOlz4IfCjWj/mPveuq+O26Ok6unyANvWomN4rcQH6PV7XH1o8PKQgk5b6k0Ostxz4IfNg8gJT29uqNMrEMH3C8jpEq1itUHaolitxkf32jkHfWNgXfJwm+ly9f3uDYL2VoaWlJSkrq7u729fVtamr6pUL6qfgO5ROLrOf6cS17Y1v2xjQbnr/FrMx7nQE4M0m6t8Yx7kBGl1Uhs+ZIBdkSnKfpkXyk8id6AohO18mRypfmmb+N4sNZ7vroik1jrF1rAj4dH6T4/ryBoTGYl53ck+yJtuHDKQFrdpx3Na+IBFPYhhRCqo+/vG7Ves6rMw+I5DSbvP4oPvhw9N6ln7xqinV7ktHbK7gBZ/RSvPcXhwdxfACS3Lsyt56xd3l02Y/BHLzKPUmafB8XHWqJDn5eCR5xYdRnxedHipw70qxf1RWW364rk7xjBlf8ATXWTzi2PcbRtinu1SXhJxoeI9c415jc/is+7MXhThJqya4lwbY5zr0r6+d1VQgfdl5wO1QTHcTxCvtF3eqcdfDqweWqkM2DQo7cumDTGMPU9tMM37f2RcH3iYGvvr5eVVV1yZIlysrKEhISBQUFb+eJjY0VFxd/+vRpdHT0ixcvUlJSIiMje2fIysoaMWLEjh07+gw+h2tE71zj9yMnjhaeM0lKeaTgLGGVjRaZL53qiPsN4tZKXJuIYy3RDsofNF5AP67NpZF43iIRhMhq60+SWuJ9l7CUBAE3B2R9PWikxPLtyA+Y9gd8kaR143Gr//zw7fQlMtMWzh4pPHm5kx703QlSf5rcQgon9adI62Lb7XyKMyDxgJJocvsS6ZkiI7ncRQ8ZUMgxUmnfdnH64rkTZURHCE/edvYotuqz4kMjBDrnbl/+9eDvhZbK8s+fOVps6p5UL2gWJKgn7BSchZNweIH5pmjSBg/jSYfvncKh/OPQbiFt0IyPk7pNJ6zHSPDzKUhMlhM7WBONrfoMPhQIibTccc+XA74WVpPlXzBrhNAkzRCLCNKIhJ/gFeQn47nuCrHVSliJ5bPkLtJYcQGdGAes4WrVM+S2cVLwP77+176i42/X1fuDD3jCQRFdIT9wzFChJTJTlSQnzhHeVxKGXaOiTr2qK1wkxs0UWO1rgrqCqxdJl21R/DDB8R7PsyH9UAjqSlJz0Q/jhk9fPGeCtJBRVuDbXlHwfWLgk5GR2bRpE7usra195MgR5tlrUFBAQACA6OPjw3QXSEyUlZV9/vx5ZmZmc3PzzJkzBwwYUFNTw2717NkzKysrZFizZk2fwXe0Btot/7uhYw0Tblpm95ildOxLeeRQDYnXIrFiF7/8SjWLIK/bZHt46Yhpsw7mPT9w5b7Qoo0L9d2nyKgJLdJkwQdJCM0or2M1VkxOcJ7G0X6DD7HhfFMtnOvhpM6lM925Pc2160okaTZKC5JYN3/G+oXGV4ITybNljrsFl86NIx1GqYGCS+ZoR9qOnyW4xm/faU64BB4tMNsIFkSQBu1TdgPHDfN8gd2V9g180CAA2XgpISXDdYAF65X3yzw0znX+B0RXKcruXuV8O+0cuS+yQn7JkR0XyBMNdxMxDaXVXsZjZvBDiwF8CELRpEXVFbZEHM4gZMaahfwLZ4FB/QEfiD9j3ULwHfXD8SrV/VkmELPjnAtIN3OTimXJaTBFwWDNLG1VLGyPckRdbTh+CF5BcLHggxYGsn0fFU6UFfnHF5/rpXqjhD6DD1IOXBs+feIqN4MwUsN41ZGGlaiB5Y56oisV5+/b4NNVgMsVn6LExnCrc+TeUpsds7WXLLXTnSAt7NWTi1pCwr+bJCuqd9EXoARJ3xmAU/B9YuDbtWsXHx/fhQsX2tra2DXXr1//4osvsP7ixYtDhgxBkFtZWYkD9vDhQ2lp6fz8/BUrVsjLy4ODbH52dm03Nzc1NbW+g6+aaAfmDRo31frqY+cGYl/FoNC6iIwUnC2srLXJ9zKYuMru1L6U9jGiMlB2UIWTpVW2Hiv4z/eDhZU3sOBDOpDRg+Xlh9wnSS1FCf0EH67/8/ZpCs6fc5E8DSHX0CahAfeXRQwYNUTD23S1p/EP44d7Ps/RDLaYuUEFMRSUxdLDOxEl/d/f/ro50pYFH5JbV0ZwT2UaIbsjPYaLTkDb49xW6zv4JsgIL7fSA3M5XlWjQS531vtxwkiDy36gz2R5cYgXiTULNoRZIa78ZsjAnRfdFQ3XffHNf5wepqLZs8IqnFx3v521JtAMiNx2zvEEaegf+NpmaC6cvXYxBC9bV6i9nYluA0YO1j51eJGF9pCpYyH6VA5uXbBvo/2ti18PGrA+yHyN776//v1vRtlBLPggryD3hBfLqznsUtBfiw25SrBP4CtCyDxKbMrWY/YJpJPrlaLRuuECE0wLQnE1El89D3ucOm/m3jTfDaEHcQQNswIl1szHIcZhYu+Buj6+MkJ4kugqJaxfbKvLhuEUfJ/8PT5PT09FRcU5c+bg88GDB/fu3ZsyZcq1a9fwE6JXPT29srKyBQsWdHZ2KigogI8HDhwwMjJ6o5CjR48uXbq0P+Dbfbrm86++HSMmO0V2KULdBfquG30uD5kk4nSdnMQZo281TXGtQfyNydKqW4PzhkwUtcy5HU3IzNXbJ0sv4YIPTERoPH+3I9/cJf0HH8gFoQSKiakrCapIj50pYFYcvuigtpCK7GVCIKaEF8lqhllsjbZHK9UMsZwkI5ZMXlwgT5FzlbsBG+p6EQiH0njSuTPW7bvRg/blhb2NmA8E3w2g6vOvvxTXmM8/f9YUxRmO91OmLZ69zvVANiH+94pHifBZN8YgqASC5+xYNl9Pq5AQ15YrP0wabtcSD/B5MU8PCmPJA9PcsJFifAiBD107Ayr1U/FB2KKuAFwBZalxs6fbNsdLb1eT0V6ZRcgZcmfiLJE9aV6r3AyXHd2z1GGnkIoM1kMOI6jUjXPmAI65Abou4AA2ySVEct0iw+gA8NTzZ889Pgx8+FMT54p8M/QHHMEpSjNEVig43E4aN1dQP84PdXWk5MJo8SmQgSLL5fVSvEU0FNY47ysi5EDmyUFTR3q+YBQf84imJ2/pkZ04EwyuBIDjigZrESn7/PxsoeD7xMAHHcddtrS0BP5qa2sR/7LPOkxMTPbs2VNaWsqCD2S8efOmgYGBsbHxG+W4uLgsX768P+DbFnb1u2FjNd2TdEKLNninmSTfX+d8cYSAGMAX8IgsOeA6VU59b0zj5Dmq2gG5IwQkLHPuhyNU36zPBZ8l59Gwz32ibOTKL7fM8xYT/L79bPeDwKdqpTNSZLJdU7xRVtDeVN9jpFJm90rJFcoAXAy5P2P5wtV+JuALwLcueL+AgvR58jiBPOp9jw+UQevdHGI3ePoY2/J4/Mp5kpjXH8U3ZZ4klN3h1vOGGYGGGQFBpByx2GY/m0TSHdhVNm6G4IGKk7I7V+mccZiju0zFWAeY9ryTM4x/AnuPj3li8/SKRfmpUz2teYRoBxweJjoBhbwhZD4UfHN0loEy9rcSjTID9dN8AR1E0/N3bYAGRFXwy83aFu+o7mEE8C05oiuhtiCFA75x4oLsPb5gUunSefnrIQNnaiqvC9gPxIDv7l2Z7POZvoEPoe5YyWlKhuts6mOBLdOCMM8XOWMkppokh+D65HQ9ZaykwOGb50VXKe5J8RLXUNLyOHiFEKuic8MFJ7L3+BjBTjLhJ65zwPEOD9cRkpPYZ9YUfJ8w+MTExLZt2/bkCfOqjampKZAHxTdo0CB/f3+sgfTz8fGpqqqSlZVlQ12Az9DQcMmSJdwSEPO+fPkSKAQ0Aceurq6+3eNDqPv9iHE2Vztdm5ivzvVkX2rHgBET1CxDj9aSYXyiirp2CHVHTpcyTrwzfKr4IgMPu1LyzeCRgvPX/PRwg3ku/OJg7kup9cajhaSx+YErXVYF/QKfgvHaqbIzEVQiSgojdVAuOjFHvxs5+MitizaNsd+NGGTdEKN5zBKhrmVl1PejhxyqO2tVe/azzz7bFGHDgg9NWiv04N//9Q/zspNoLTaNMWh7PpzHhX0G35hZ09QO7AJQOF7VAqxztjPQOU6uIwYfMmUMA51VihuOW60PPDBSlA/sWOlqAB/YUDeQlHu9zBs0afTSwztQwoy1C0eLT8W2fj8n2oeCT3SNkuSKRfgPbF2dJXdXeRoOmjzKqyfXMDPg22E/4o8rW26FMEQAjrpyeXR5b6oP6grRJWoJlHHpTNeOtFvhvHep/U7kF14uh03Yh619vcd3DYpS298OmAsltfAKCJuuJgOkQjjPN9EaP3t6BGmaJCe2J9lL2WILrijHSZ38Ho2vfhzADXVRaaAndD3WjJg+adYGFcTLbxxBCr5PDHzZ2dmA2qJFi6DpVFRU2tvb79+/P2PGDAg9VVVVLS0t5nQvKtLR0Xn8+PHmzZvv3r2LryNHjkxISGBLQPC7atUqcXFxUVFReXn5zMzMPoDPvoronijjk1Y9cOWpTfFP8g3s0/I6P05caZLUohkrd4GGUHyC89eCd5v80gdPnC6pvmeKjJrCNhu3FmaTwxXE6OLtaYrqw6aID+UTHScmv8kvA1v1GXwnSRN4Ia2zLPLVLXa08BOkfoW9Pp+iBGLMNd6mCeSxVqilnN5qtPOldjuHT5+gcnCrgIr0jgQXbM4+3IAU+nHCCOmtyybMFZZYOx8N6Q0V80FPdU+QxpkbVDV8TEFAdiXTF+RJvpS2mqDqnKnzJU2yQ2LJQ3l9DYAPQEGUBz2oZLweC0fvJrOdbIC5PZe8xkhOmygjMmW+pG1dPFj5hg79IPCxz3DmmWiyuGdv2EFwLdy3eer8mXwKEltOHgZ9ljnuVrHSQV0p6K0ZJcq3yEJ7+uK5JvkhwA2nsyGw3nKW3Ikj7YrG6w4kR6DYPoe6bB9MsVVKnDuYja82v+bcloaqmL5ERnDJHOuac6DY7C1LEOoCc9MWzsaxk92tPmujKiJcf6b+C8NIzVo/szEz+CfMEZ61UcX3RSGnDvMo+D7te3ywxxxjl0tKSmbPns2Gur/UOw+yrru7m9uDr6OjA197enrATe5Djw/rx5fD6DXbn69nOuXVE+vCbuPEdizYlTFrmOg1mzjWkUMFXQeuPMGCdeFP/ZkR51rmvNyX0mGZ3W1V0GOa0m6R9bx3T8A+dGBmL/tcIrDddE+SZtdHV9wfZWEBbd6X0xcMzQyty/XxFd/uonBy3adX91dGST0vcOpIc+lIh8yB2vJ5a18f1IEZLnG6Iudxu4BAx4WTevv2xIDuUrjhQXI4jbYAhA17Wef0KOVYT2Uoqe69CZiIlUcfXzr+shbc6Wc/Pk636uLeHbw9OTc3oaecOlO9nuSzHRjZikLOE6TB+XFawLMS7JrbVbh3YruS9LMDszen73HvctgO52Eva4+0Xwh+XhnO6cDIhrTHyLWQF9Woq9CX1Zw7obmvHMvDNczv2VWnJ2kRpBkwfbuuKPg+SfD1trKyMklJyV/pz9wf+7UOzHnEpugd662LmNcwgEX2Fp71qzzIDOQhkmVe5Mj5iZ4H8zivbbxK7Fb9fHOjN2K47xX4M7e9mY4OvfNAHbDNldO8C3uDD82P3cT/F/okf0gHZhRY/BYUGDc4e7nK3Smbx49Z/5NX3j//j35Mv5ZSv1/o+vuh4EP576qrQn/Gq2JuXfly8vgydVXKesUJG/PeDlTfuf5DOzD7cVTbO+vqVWifx+6L/Qv+r+vqZ+Vw+gCV+r51j4KC7w8CPmi35ubmFy9e/I/BR9/Vpe/q0nd1qfEMfL+rRaTU7Et/alfCSDNepaPXiE5k8xvgC2SESYEPc7uKN+nk2+BLSjnOKDueueTPvPr2Jvj2l6eFMfqIZ14Bu0feAp9zR04wKeLt4TOg4KPg+yULunjtYN4z5zpypJxnybOV7Drb2ns8PsuYzAhmVLViNCpepXhSaRKXxnWJGY/v0qWzpDyMdy6FM3fiSt4Yj8/q2pUzpJyHFRVNylzbcmOu1HG9Ckgu83mcf4qU8vbwGdPx+Cj4fslSipq13XPMjpeahZXwKpmGle3xzek9AnNwUtmeiBTLcxk8TCZn0+0i87guPXvecygy2zQ6nbde7Qy/FH6pgutV3Y0H+qGpFjG8dOlgXOaOY8k5la9HYE4uaNgZmoyrFw+9Mo+5YhKWTkdgpuCjRo0aBR8FHzVqFHwUfBR81KhR8FGj4KNGjYKPGgUfNWoUfNQo+KhRo+Cj9umB7/HTZw2t7c23OnmYmm52NLd1Pn/Rw/XqQWdXw42HzW0dPEyNNx+23X/cu65u3XvM87q63tL+oPMp16Vnz3uab3UwFchTr+pb2x93vX4l/NHHclJ1vOh5ScFHwfcOO5l2TTc50aggRT/rEq+SaWnauvC46qb7XK/Mwwq1wxu2hF/XDqvjVdI9fWOzWxbXpa5nL7aGXDQpTjXI5llFGeamGOSkHDmdy/WquPa2VmQ8vOLh4TMpStU5fyE++zrXq+OXKnl+UpmVp60NjQX7KPgo+N5hx9MqA7sLz5LyCFLCq3SBXDtUcrn3mxsHIyvcGohzHXGs5lkKuEf0jpf2VjGmaakJpOok7yrqFCk9Tcqcer25kX/tll1NZjyp5OHhiyUVnrfzYzNev7kRkloe+JTHJ1UiuWaWldZwo52Cj4LvXYovvcqpPZu375OHkxLjwpRrja8V36GTpTZFxCqfl0MnOFWTncGvwUcHKaCDFFCj4KPgo+Cj4KP2vwXf06dP7969++LFi7Kyss7Ozt8DfJzRd4tOkqZI0ozPU6TlBGfq0t7DqHmSXH9ScpI0c4e6cydZYaT2BGnAQu9sYcwg47We75qO+oPAZ5FFbEuYKX2dG5jk2syMFI2VP8uTSewrmVnMueuxBpmPVBLupOaW2cSulLhwpgbmjJbaL/B5khzObGE3UFGcumoNJGUePx+mGHlQLaGkmh0ykx3/LpK0+jEj9HHH18xHLWFlCLn2zjnOPwh82GMwqTzVy6tjpOoNr+AM9sgZ+zOHe9xxxINIee9hltmhmE+QRhzutw/iB4HPizkZ6uAM61UkaeGU2XtfecgTQZo4w4vmcE8z5OTWEntGsYVgfQApfWNQaAq+TxJ8R44cWb169YoVK/bv3//OGTMuXLigoKCAn5ycnG7fvt3S0lJcXNw7Q1JS0uLFi5WVlZOTk/sGPlDP80WucW7w5pM22qfsNh4/tOO8q/er0TTZsSTRPGya4lStt7s8uswOQYyzUPuk3So3A+6srJwx0Jutqs9aVJ3y+wVh8v7gsy4iZqkd690Sl1udWGUXtdT82NZj+bbFnPFQC5mEBYdrZJ3rhYX6bofLmCFRsYljHVHccUTTPYkd9R5ABBb3p99ZvO+YdkAm2MdMA5LTd/D5k2K7lnidM/abTlijrrRCLG2b4oJIhQ8zEHQxZ0zNgmOkcrWn8fY4Z7RYQASt2q3zyoL9G4/euxRISlkO4tJiVnh8TeA+25o4UPJtxHwQ+AALFK4b7wyvtkQd1gw2P1B2kuNVATtAKRbCSM3mk7brgsyBWnbQVhxTlUNbza4ex5re84oEPSs3Lz7p3Jn29kF8f/Cxuz5Ud3bL6SObI2y0I+02hlvZ307EdYKtK86oqMyIpGoOuw0yAjhz5hbhomLXFL/QfDNOSHbv8NPq+jl4jr+2IeyQXWvCG9OAUPB9euDT1NSUlpYuKSkBsyZMmHDw4EGsrK2txRpbW1sWcOfPn5eSkoLia2ho6O7uVlVV5efnb2//6T5uXl7ed9995+np6e3tPXz48PLy8j6A7zipO1h9+otv/jNt4WyJtQv4F86S3bUKTfE0uRn4oty5Kx1oiyI3jfKDhk4bZ9d2/gy5HfCi9Cy5o2qwTXCJdAy5/2qOhYr1gQf++o+/iakroTH7vGu83PcHn3srWajv/te//UNEdfM0RfUxorKLDL3BNZdGiLhuJCg7j5tEXsdmrJgCiIb1FlnPPG+TydJy83a7YHMUgvWa7skDho8XXLD2h7FTZLUt3jnT+XuCj51eUmip7JfffyO9ZanoSgU+BYm9GT5nyB1IJFRU0ItyCBPwjn/BrPkHNsSR9nBSj63cb2ePnMZn3RTDzrKGCp9nrDmUf9zsTYuHTBmrc8bh7RlsP3SyoXkmmn/759+lt6qJrVKcKCOy8aQVR5Y2u3Vl+j4r4sjAG3O2LxdRVzhNbkFkefbkwLdJEqJbY+y5e8dBjyMPtfwtP/vsM858u039mVAcqB0vJfT96KGzNy8WWSEvoCJtVh6OusJ+nZ6mhvRcg3sA31jJaeq+RvGkI+xlLbBoXXhupCAfO8sap5DaKYozhk4dK7dbXUhN1iTv2HFynYLv0wYfpBx3Plx2uoy6urqRI0cCiHv27Bk9evTNmzevXr26YMGCjo4OHLa0tDRZWVkcvMbGRnYr5C8sLGSXhYWFY2Ji+gY+w7zAYZPHRz5uOU+exJAHCMFALv1kv6kLZ3Lmf1mFEOngteixswQgLvYXRIybLahycCtO2VmbVM9xwIf1ro+vbDxuJbNzlcSaBSizn+BzayWzNEz55ZVOEeLZRnzuMWrOoZooG7qMnzFvguR8FROvwMdk/h5nPhk13wdE2dh9+FTJBXtdBo6eDHn4E/jqiNJOB7mtVuGE7I7OHTBiyoGMLtvi/oCvdewcgbUH9wNI58g91BXaoWdXjozuyumL5/IvmmWcdSyBdIqslF/muAeNXHrz0mnKUvNNtIYJjLdvuwjwsfpr/qEN9sWJDTgHtmrwLZQ4S+72c0Jx0fWKshqrighBUbHkIeofik/VYhsuY1OUZmhH2CWR54qGa6W2Lo0nnSoHto6Xnq52ZNfgyaP3pHiz4AP18O+sCs6OmT1tuODE3Uke/Z9QfLjIRL1g7yxOXZ0l9xjk3U2VXL8QF4/pajJW1efgOZ+ixJaoI3BYbJWS2Op5c7ctHztjGqv1mMD2ec5UJcl9mWHIgAsJXHIjmX0DH9oR5AUlFO/Bd+fOHYBPREREUVHR0dERa1pbW4cOHZqdnY1lDQ0NU1PTysrK3hOKW1hYvD2vLmzNmjUrV67sW6gbRur2FYX9MH6ESX6IVf05s+Lwo3eT3Z5kDJo0ao3vPui4EcKTFtsyQS4EjnNH+rhZgmr2u3BS/jBuOBjHKj72jkwi6V7rbCawRLr/4AO5ZLUPjuCXNEt9tCOiYltYsc1Vst7t4tc/Dt8TXbfrVPXXPw7bc+b68kPhYku36p2r/27Y2O3HS/DT//3t74iOWfAh1D1SydwfDHhEZDebQRvaVxGrwn6BDwIEwsr1ScaB8pMHyiKYGRH3rkGdIARb5WY4mG80RIqkpvLmCNuNx61HCE2CxFN3N/rnvz93epDCTiiOBDZZl8bwLZAYN0vApi6m/xOKS21ZOkVJ0r07y7w8EkcQ0eu6wAM/Thjh3JGml+r9zdAfPJ7nLLHTVbbcYpofChVm35a4N933r3/7q2FmAGgCl4KYgVdrx0hO2xnrLr9nDQL5foIvhFSPmcGPPTo9TEVFWV6LQvnM9PCqc1BpigbrUGkQfYgz9qb5LrHVnSwnFkwqFfXXfjNk4KvpJStxHiLOmCwnPkVRcup8SZd7l1EsnWXtj/Bw4/bt21BqYmJiW7ZsAfgAuLt3mW5uBw4c2LFjBwJeHDDuhOKGHHujBMS/ixcv7unp6TP4DtWeQag7QVpIUEV6jAT/Cie9PaleE2YK4dS/SLrWu1oIq8vbNMYKqs41yg0aKzHN637eFUKU9bcIvAp12QQuLHfUm75E5jgz1Vl/wads5PWX//u/qXLLJ85cMGyKmE5I4ZwN5kKLVoY8ZwTg9AXLlY38VtufnbVGf4lZ8KTZCv4dxL+TTJgpM3/PT6Eu+2TD4waR1jQbNF7wwJW7Dtf6fo+PDXVFVij888vPRVcoTFGQmCwrhouE4JI5m/1sksnzoK7ytyYU38qZUDyXO6E4Oy8SZPLB8mjpbWqT5SW2xThywFfQH/At2L/pL//3F8S5/PNn4gjiYEltWzp/l1YqIdwJxVe/nlB8fgohOFjjxKezE4pzpu5skNm1cqHBphxChJbJ7jrtgQxeP7/5+EHgw5+aOFfk60EDRJbJA2pQeUduXZgkJ2qaHIILpNP1VHZCcTHOhOJiGkqaHpY4qax7TSiOCkddAdC4MAOCOD8Rf8Ar3z7Nq6uurj5ixAhKKN6Db/Xq1efPn2eXIyIipk2bVl9fP3bs2MuX0ViIioqKlZXVtWvX5s2bh1BXXl4e4NPT00MU3LuQZcuWmZmZ9eepLsBnkndsyJQxro8uB5JS75d5J0j9zotuwwTGYSGDkJVWBmJrlQ7fOI9rNXKOFJ/sfTcvjxBZHXUu+NhHw8mkZ72nufjKeRfI0zceF/Yh1J2jtW+C5DwsWOa8RPK6Q8TVdKfIqh4nDOCmyi5aan5c/Ug0wLfUPGSsuByAGNBJhvPPWKjvzoLPqoA41ZE5G/fxK2h53CSBT5inuux8mH1WfJNkRFUObT1DbnszM1Uyc5aPnjV1vduBTEL87l0dJTIFgJu7fYXOWYc5O5Yt0N9YSIhLU/rAicPsWhIAPn9S7Nyeti50f8TTpiZCDIP9fxQcxYZ1/Ql1oTEl1sxHRAmvkHBQpqvNld2yCocPWJw4S0Qv3XuVmwHAt9Rhp/BiWcQUUFtDBcbpxjszc12SKsf7KVCCoisVlYzWf/XjAIgsdgb0fii+a6PEpmgGW5wiLXDJj5nZsmTI9LH68X6oq8MlF0ZLTIUgFVkur5fiLaqhsNbV7Coh+6+c+HHKSK+eXHZ2OqfHqS63LieQR6gIHdejI2dN5twuKO4D+CwtLf/1r389efKEQorH4AOwRo0apaWltXbtWn5+/qSkpK6urilTpmzatGnr1q3Tp09//Phxbm4uNCDAJyMjg1AXfPzrX//KnTg8MjLys88+2759+8aNGxctWlRQUNC3e3zGOcE/jB3u0cn01fAnpbi6on3igiytswyR0Y/jR0C/QNqMEp2CYAohlfByOdPCsC+//2amlnIM9x7foyu7E92nL56LCGtzhI1tc9zbD+A+SPHNXms0TlwW4o6Zr7KYeT6LYPabIaPULEIWm/l/P3KiZe5LZWNvfoVV+1IefjNo5AI9l1WHT6NCVtpEsuBzayHSWqZYs87l/BrHuOVW4QeuPLUu6jP4iph7fDMFVMx14kknO2Ul1iw7unvw5NH7CsNmbVRFIAwMoRIQae5J9vx6yPeINOX3aPzrP184tzMcwaUFTRqiRnDxHIMM/5Eik8VXz4sgTb4/Py4fCj6x1UpiK+adJ084XpVGkpYd510HjBqyI95lsfX2YdPGs09U5PXW2DTE/mfgtxvDrVZ7Gf/lL3/hPMRoxN49urMO1ZzRT/fdm+YzaPJoBf01OHz+nElv+/ZwA+AbJjBeK+DgWXLPn0N21BWKxV+2rIwSVJaWWLsAniPg3ZXosS5g/8Bxw0zyQ0RWKnw3YhAb6gaRCpxvKER2l/quC+7fDvtRzX5XFLn5hjp+T/DFx8fjTPj1B4DU/kehLiTeyZMnwa+WlhZ8LS0tnT9/Pvh15swZhL1YA+TV1dUhjMUn298lMTGRe/Bu3bqVmpqKSBklgIm/PiHvL4EvmFRYN8QgVsJJ5s+5lkK+oZ0cqb+AcElomZymv3kUuXH4RsJi2+2BpMy+KVF4pTxakdqRnZtO2IRzOv2BlSDjzA0qkAwz1i1E9GecG/z2rav3B9/RaqJ+5Mx8PWe2YwoTt+YwffQ2eCdOU1AXUFqzJTDd5z5Z55K40MDT8xZZ5xY7TlxpoYG7ou7hzQFZ2JwppIbM2+04RUZNTG0b39wl4su270tpR/DbN/ABMbgwoO1tj3Vi/zVLw1BSreFpgovB3B0rnG+loWWu9jbemeiGVq1mt2vaotlrfEyXO+2FpGK7syC/482UWZtVcQmZZ6rp+4LpLfTG7N0f0p2l4Di5Ds6u9Tc70euuHJZ1Ih2EV8hLai06WHI6hjzYHGmrGWoBVbgx2HqyoriGt4nakV3mFafYvoScLi+1EaQBeNLwNT1UeAbnQJ9DXahjnCoqVjqGmYGotFfzlJfiny6x0xVeJofzx/sJLrrXlznuMS0IRaA933Qj1sMrdQ8jtjsLvIJLB4oixNQV+RfM0vA0hUtvd7J5T/DdvXsX4LO2tqaQ+iju8fW24uJiBLzNzc2/h2e/BD4EpAGMcrnBTjvNXYn2wHaJOMl0KM1j++4hA2QLmjSiYLRwnLhsB+ZXvaCbT5Nb+JXt2dufUNc8k3mGC9JxuyIf5ESpjnXMwwqko7XkwJWfOjAjDz7dbzD9V6DyDpf9tJVFJpPfs+2nLtDO9ZxpzrP73o/Pg2TjP6Ilc7tte3L+OGoG61EhzP14kolmfIxDE1QgqoKlie+rDsyolmOkErWEX1Fd7+yU+0H9+OAVQNy7Mzl7HCHl4BiOLPDhRjLweZzpwJwdyXE1nHME39o7t1NxxdtefUgH5jxOB+kWTufkbO5JhSsr2xsZXuEMgcNYBg0BytPkJtuFHjXZqwMzE4WwdYXSOP3nc/sGPtiMGTP4+PgopD468N2/f//06dOIcP+X4KOvrNFX1v4Mr6zBoqOjIfrYXhPUPiLw/a5GwUfB9ycHH2zIkCEzZ86knPoTgS8ivcrjUR7QE0iKeJVOk3KzkrSqhnuvwRdZZl9BDpcS26s8S+6NZHfIa/A96XpufCn1FCkL4l1FHWMeDhT3HpaqsLrNsvJyJCnj4eGLIKWObTkJWa/BF5ZagZPqOE9PqjOkwjgr9T3BFxsbC9EXERHR53bU3d397Nmz98wJo+DjsQUnlh25nelDClyf5vIqASX6OZcq61+DzySkyDLnpXnWi/0Zz3iVDpcR3cDXb0C3P+rWjU0MIIVuXTyrKI/neZ4v8h3OvZ7mPLv8hnFRCmQgDw+fHym0asqIufJ6PL6AxNIjt7N4e1LhIrErLel668P3bAirVq0C+8rKyt4nc1JS0s6dO/X09PT19bds2XLjxo3IyMjg4OBf2aStrU1FRQULISEhgYGBH9RIL1++vHv3buxu69at4eHhvysQenp6mpub2XfG/sjgq2657xV7NfRSRRjv0rHEsmOJ5Q8fvR6O4XJJq1dMaWhiFQ+Tb1x5TObrUYV7Xr6MzqjxP18SxtO68oopzqxoef1Q8uETXLqOJZXz1ivfuOLrN18P+VnZeM8nrpi3JxWqJTSpovPJs/dvC9OmTQP7cnNz/2tOJSUlfn5+e3t7IyOj7du319TU3Lt3r6Gh4cWLF1Bzra2tGRkZXAGIn4qKikpLS0VERB4+fHjz5k02Z1dXF4iJnFwBeP/+/StXrjx48KCjo6M3etTU1CZMmODu7n7gwIHBgwebmJiw61Em8rM7evr0KQq8zjF8xY4SExObmF6hhO0Hgl/z8/PZPh6FhYX19a8VOsqBG+wec3JyBAUFU1JS2DKxUFtby2br7OxEObg2vOAYNuG+GvvpgY8aNWpcsTN79mywT1dXNzU1le1M9k6bM2eOg4ND7zVQZL6+vgCcgICAmZmZmJgYaMVSb8aMGRoaGhs3bpw4cSLWmJube3t7FxcXsznFxcWXLFmC9eCdpKQkhOfmzZtBVWzYm7Pc9xGioqLYcvbu3SsjI4O9YBN8LS8vB7CQEzCqq6sDZHV0dODG2bNn8SvojMzbtm3DLiwtLbEwduxYlm7W1tZycnIoZP369fgKvKIGXF1dHz16BMewUlpampWooPz48eP37dt39+7dHTt2rF69GhVFwUeN2h/BZGVlP+PY3LlzfynPvHnzAIvTp0+7cQxrEPk6OjpevXr166+/htrCGmg0sAzqbPny5fgKAH377bdY2LNnD6RiSUnJV199xdINObEAoLCsDA0N/fzzz6GtuLtbvHgx9giqJicnS0hIAKOE854C5BuU17hx49LT0wEjFIg8hDM+05kzZ7BgamoKRhPOG1+qqqqE804X2IeFTZs2AZ23bt3C3vGJNaAt/kJ7ezu7CViJzFgAHwcNGsRuAnoyN1iys/Ff3hgKj4KPGrVP1RQVFYG8DRs2xMXFcUO8tw0cGT58OGC3mmOIIqGGnJ2dEf1Bc7F5IOXa2trWrl0LiUc4Q40glMaCvr4++JKVlYV9sTnBMiBMU1OTlXWIhcGg3u8dgHQDBw6EyFJWVgatADusDAoKWrlypZWV1ZgxY6BPm5ubIVfZqLmxsXHLli16enoLFy7EJmwJR44cYQENV7Gwf/9+BM5weOjQoaAztBugduzYMfiJcgjnLWZhYWF4q62tDewCiCiQKzyRE4oV/52Cjxq1T9uAKlCPDQB/3RD9QbX1XoP4lAUfGMGuQZh5584dMBTSCV9BOiDmneDDfqG5EAuDSviamZn5448/9g51kRN6sPfuTp48iViVXR4xYgTAB9hBqbH36bBrdhxPKD5W34FQhw8fxgLiXwMDAywAdigzNzcXgfPLl8wknA0NDeztv1mzZhHOjcWtW7eyd/oQO2NBS0sLrCScG4isIL127RoFHzVqn7BBcIF6//VuPVej2djY9F6zZs0akCUtLY2lBgyCCJoRsSfiREtLSwiowYMHsyGkra3t5cuXuT0HBQUFq6qqEDmOGjUKPyGihJzkjisMQ9DN0oprBQUFkyZNcnFx8fPzQ/kgVH5+PhgHSOHXdevWKSgoREVFQeghJq2vr8ca+ICf1q9fz96Y27VrFxsyI56Fb+7u7vPnz4fM7OnpwSaQhzk5OaKioq6urqgZyExWA7JuwFX8BG76+/tT8FGj9qnaxYsXQT2Eb++f/41xDbKzsysrK2/fvs2d7CE+Ph5fCafvC4JEiEH25RCwtaKiAmIQ69mcCQkJbE6IzbCwsLy8PGjA3qEuymRv3r2xR2NjY0i2pqamkJCQ69evA7vsMHQIvd3c3KBAQc8zZ84g59WrV1mHgTN21BIUCJcI51ktMkMbct9dOX/+vJOTEws40A3lsHctIUVRDpsHTmITYJGCjxq1T9VGjhwJ1vDWhytXrqxcufLmzZtbtmxBKP3HqFgKPmrUPlKLiYmB3GPHu+StOTo6qqmpaWtr/04jklDwvbb0kuYd4UmWCRmWcTxLFuevGIan3rj7iOvVsUvle6OSD8bz0iuT2FT7M6/7sr7oeXkovEjvWMm+46W8SmbhZZt9Ck4mV3O9qr/ZbhCeapFwhYcVdeh8xq7w5PzKm69Ds6LGXRHJljw9fAcSLpucSL/78L+PMDp79my2Zxy1PxH4gpPKPR/nRTBTGRTxKp0h5ftL0ip6vbJmGZN5nBSHkqs89CqGVBjHpnFd6njcvSWk0rWeeYPYroQ36Ug5cSgnh6Ovvr7RU3HzYOXlKFLGw4qKJKXObTnnMl6/shaYVOb5iMcn1TlSYZSZ8l9fWXvw4MFf/vIXCwsLCqk/F/hOple5dOQcY2bLLeBViiClpldTe4/OYhfPjO0RQAp56FUkKTPqBb6n3c91Q6scq4h1ATNsDE+STRGxLSIOp0u4XhVVtx0oTz/OzEjLs4oKI8X2bVlvjM7i0pHL25MKh8/gPUZnSUhIoCMw/0nB9xEOS2Ubl8NSj7fjGhnGpvYG3/aQSvsKZs5yXo2UxcyPXvAm+OiwVP0ZlurQoUP//Oc/f6fBLqn9xuDr6el58eIFPtva2vo5xE1/wOdF8nyZsZKquKM0e5KcQFIeTCrfHqf3fwY+T5IbwJkhpNfA0VAfVZxRhXN5BT7LHHK4nNgWvxrqOYcp50glZ/DnHJ6BDxUSRMqDSAV3BGPOYNrX/Emx13vX1W8OPnZAb39SwvrAnmYh5NrvAb7Vq1cPHz6cEuqjAF9QUNDmzZs1NTV9fX3fmeHSpUvLli17+vSptbV1S0tLe3t777EWmEcW6emaHPv1mYbIrw4970euRpPbpzije0eRG+yEqr1ngQDvPJ5lH72b7NXDTM7AzjXh3J7meP+S36sC0bTQis6SOydIwy/R8P3B50Gy0STOkrsnSTPHq5uhpOaNYuGDy6PL8IE7lSXWHL2X7ProMjt3D5oTfmL/VDRpQ4vyeJdj7w8+dox7zzbi0khcm5gZkWxLmAHue+cB4EyTH5ildQJezNc88K7H6OJty+wXbIEWWczg+NjWrZkZLt/mKrOmP+DzIFlhpIZbV6fJLVQdd8B3bs04d6Q5PUzlzs2I4+hwJ8m9K7P3bI2c61kZinrngPgfNPQ8zgf4g/OK9QpnFwD3RpnwAcfL7UkG6wMOFk4zeMXOJcIpJCeCNKEQ9iC+cz4DOq/uJwY+AwMDERGR06dPBwYGDho0iJ0G5f79+62trWFhYWy3xvj4+JkzZz5//ryxsZFwXsSbPXs2dxyb7OzsUaNGOTg42NnZYeHXXyv5lcmGHB+kzNZeIrxMTmLtAkHVOfJ6Gp4vIRAqcM6hFYEXSGZXj4+XErK/l4jlU6T1MiHzjTZMV5t77tWE4ijH63GutI6auocR8vi8S8S9P/iOkzqjnGDBxXPFNebDKz6lGWt896FYnPrsRBZYQIta4aQnrCYbSqrZmUAuki4+BfGVbvqcubh+mglojc++qfMkZ25QsW+9GMpMR91H8OGrQzVZciBo/AwlgXlrBJQ0JsxcsNk/07GWmfoDCHNuINZFzAxH0xRXKWy3BRkdrhG/hyDj3UHjpu+NaTpSwZSDT8PzreLLtmNz2c0WYJxNUX/AVxBOru+86Ma/YJb4mvkSa+bzKUhon7JDBeKIRDETWbSAOKgrJcN1UtpL2PlAcH3CT2Nm8m+PdeROUcROMuXUnCq5YaFV3Zm3ldcHTTYEJb7cSW/qgpnwSmy10vSlMuYVkWGkFima3DpB6v0586jh0Gges4B7+Bc4fIeunhkuMsHjOTMPDDiI47XKwxB5JDTmT18817QgFB72DXwLFiyYMGECJRTvwScjI6OlpcUu3+dYQ0MDHx/fhg0b1q9fz8/P39nZCR03f/58LKipqaWmpkpJSUGu19TUsFthgR1PsaurS0hI6MqVK30AH86k/SUnvho0YKWbwcYT1qu9jbVP2+GCj/Xbzh1denSnbW18LHloUhQySnyqy8PLoOHmk7YmucfkdFeLrlLkTi8Jyswz0frPwG9FlsuHv/eE4r8EvtPk5mKb7QNGDdZNcFkfbA6W7c3wgWrwup+r4W+yJnCfV0feefJ4if0OfuXZUCieD3NWuu+1ro2ZpjR7lbsBeM1OcL7EVvebIQN3J3mi+Y2VnAZc+v98Vtb3Bx9g5NpMQL0xIjLrXS8u2R+0yMBj9+l6rztE72yl0o6jaxzjj1YzSpBvrpqs9qHgLrIrqnSRgfcm//SRAjNY8IGMCHsnS6kAjjtOVgzlExVR3eR5q+/gY6eXnLt9+WC+0buSPZi6ctU3Ljp2htxxbklb6aGvFX7Q/1lJHGmX01OfobkwgTx2bLm03GWPRVnUpDli22IduQIfNYN6k1yz6LPPPtO/7BfJTDKV34/pJatHi00VWSG/Pd55XeABDV/Tw20XcKTMCyKWHNHVS/U9SZrA1kmyouuCDlwkT/flhK0/dmD7Gafxs4RY8MEfkHHcLEElo3XW9ee2xzrZNMa+PWcpVXyfGPiqq6vBvlmzZq1cufLUqVNYg2B2wIAB7Asuqqqq5ubmVVVVuFIBfHJycrdu3Tpw4AA74kJv279/P87UN95tfn/whZE6g7yAUfx8yU+6cgnJJCSRdGGlrJ46zrn5plpDp42zrjlnfysRio+ZM/CgDtqYuqfxt0N/mL15CQs+TtSZ7t6ZpeljKbRcFtDsJ/igR+TMVs9eqFKHcJ6QLIhf0uH8LJ1PUUJcYx7SFEVJtEwNbxOx1fPCScPU+TORljnu+dd//g0un+YovkBSapgfaFsdl0+IY37ywKnD3Luy3pi6+wMUXz4DtRHTZDUcrFMICSckghBQT8sza/DE6dJapiOmzZJap+/XTvgV1FVNfc3SH30/cpLkqt0iqpu/+mEo4l+AD4WYZzzbFVV9pKLH4waZsXKXmJoO1GI/wSeiJb9o3aamV3UVRx5at8WMnSkgvVVt2qLZIssVcOlaYLZBfo8GwyPxqaLqSovMtb/45j+GmYGvwJeLPGqHdouuVpy1UVXn7NGIXpNV9mFCcWjwEeKTLEIiqgm5zEmg3uZztkOnjlU5uGWEyKQVDntjyIMpSjN2XnC3rDo9cOywheabpy+RGTJljC/zoB96sBxR8HhpoWVH92idOHj42oUz5PYbITwF3yd5j+/ly5fQdO7u7hB6ZmZmQJu8vPydO3cIZxRDXV3d4uJiHDCAT1FREb8aGhq+8Q4zi0uIQWzIfSXwQ8FnWRX1nx++k9q8GNHQTC3lzRE25uUnB08d7XEzpwDKVHfVzI3KjvcvTVs426Lq1FChcUdKLwCR01VlpqvJxLwKdRHdoOUsd9SbvmTu8d9C8a100f/3d18pW2jL71afqbnIqu7sSg+D8bOnJ5Ju7Ahhmm6885aow2jM2+OcRoryJZBOIGDAmCFr/c1YxceZyLEqgTzyfVQ0TGgcfIPKeDsG/wDwNUPNLf1++AS5LQdnLN8hrrbNPKN7qpz63I1GpwkxulD7/Ygp+9Mfiy7Zon4kWmr9PhHVtWcJ2RmZ/8XXPxpdaAP4LDnPOnzuky1BGV9888M3g0ebZ3YgIn7juccHgu+2ktF6aG1VKx25XatmaangYM3bpym8WBa4wUVo8LQxOKAIPNWO7FobuH+itDDWBzwu+WrogN3JngAcqIeA17LgNN8C8UjSKqWltvu0RxT0dV/n1fVjbjLUTJAWGiXKt8h889xty5UM17s9zZwoL7Le0+Iq6io5CCcShCFIp5fmI7lpkYrJVvzb7aecvh35A/4UCz6P7iwBZSmJNQsU9Nf+e8DXONxv61AKvk8MfHv27OG+kBwdHS0gIIDQFQRkV6qrq7OKjw11FRQUbty4sXfvXrCPW4Kvr++OHTvY5dmzZ//6ZMm/Aj6LylMIddFmQBkZ3RWIKXYmu0+aIYo2A5Ro+VgKL5dDrDF98VzDnMAJEkLu97NAH1X9bYJL5rDgYxNCy+VOe3Eqh5P6/oNvhfNeNOZlDrsWmG5AKHf4xnlFk3WzVy5GhIs2OXO18kp3fQTjaBJrg/cLKsyFoIAzgjJzl7ns5oIPOe3rLg6cPGzJId0zpI3z0COvf+Bb/MPYqUq7HWevM5q1xuDAla5JUgtX2vh53yE2RT2jps/UCSmSVN+tfuSMxDJdOR3jwMfEIvPOsCn8emd/usdnmf0S0a711efmmT1S642nyi0H+KwK+wU+RYN1iOhXOOvNN9GS2bHS9dHlmRtVFu7adJ48AuunKUltOX14tZcJpBPCzBlqi3AxAO8miYttjbHHAlQwrluQWoqG6xwfpIwUnqxsuQUr37gt8KHgQ4iAC5XakZ2KBmuh8lDyJGkxk+QQCDfH1kvjJAWtG2LEV8/bc8lLQmO+poflBfLEuihmtOBUj+cQ5iXsNOfwH/I/m5DVdsajZ01FsW/MKU7B94mBb9OmTcOGDdu1a9f27dvBuxMnTnR3d0+YMAHrTUxMxo0b19bWlp+fLysr++DBAykpqdu3b/v5+f3f//0fF5fQg0OHDkWkrKysLCEhcf/+/b7d4zPKCxo2eXzE48Z40gl8xJF288rI7ycOc6hLzCEEJ6XU1qVOD1Onzpt5sDp6qODYg3nRkAwTZUWEl8khWuEqPsTIa93NRJcpQHxxHsDl9ifUVTBdK6IkjzMe8D1H7l0kT5c67hglPgV7jCKtQwXG7knx3hxpJ7tLfecFt2EC48+QO4D4lz9+sz7IggUf5J5tc9zomVN3x3teYSLTpjeeVvcBfCMF5qiaHowixPMW83gXaYKkqqT6zkhG2RV8O2S8ZU6PsOrGVYdPz91gLjBvxSlCNvul/fPfXxsn3gX4bEvI/stPRgvL7YjIjSNk+SHvgaP47UqZZ7v9CXXF1ivJaKzI59QVjiAIMldv5dT5s5LJi4AnxQPGDbG6fm6Zw+4ldju0QizHSPAnkx7Xe1f+9e2/9VJ9AL5gUuFwJ0lKeykuMFJblkL+T5wrgiOOCuxHqHsN8ezuYI8MQkA6eIXL4ejZU1fY70UYoRvlNERgbBCpEFCWhg+ztFWV9mjCf81Ai6+GDMC5FMDM3FYGr+bv3+BxNzuNEMjGyfJi8Nb357uj4Pv0Qt2srKyjR486OjqynVHKy8sXLFiQnJyM4LekhDnp7969C/a9ePEiLy/vyRPmbUR/f38sc0u4efOmi4sL8iNn3+7xAXwmecd+GD/CpfMye+cYbekEaVA+uHWM5LS521eMmyXofDfNril+zIxpUAFLj+wcOHbYYpvt3wz7QUp7CftUN5hUHr2bPHfHisF8o7/64TuRFQrGucfCSG1/FN88E83JcmJoyewajiopAmqnL5VBNC2xej7a0ko3A5Hl8mgMAirS42ZNVzmk88W3/0Gozt7jOwVhqKn817//DdGW0FJZqa1qzu1p77w7/l4PN1jwCUrJbDL3uv3TSoi1HSfKRkybMWPlzhH8kvN32/t3kCmyy5SNvCwynw0cNXn6wnXTF67/ZtBIk6R7AB+IdrSaubX33bBxwspa3w0ft8LmpHNDP+/x3ZZYu0B0pQJ7EUICUHA0+RRnMA/EFSVktq2ETFY0WgcxiIMydqYAmKhouP7L778xyAjghLqMtgon18EmxJLTVKR0I52h39+4SHzow40R0yeuC9gP0c2uxEkFxo0QmqSgvwYXsE0h1jh5JsmK6sa7WNfH4KSS0V2J4zhs2ngWfP4c9gkvkx0pMlls9TysNy+OhIc01P3kwfeGQcHx8/P/TgM2/BL4QBPXx1fMyyO9enLZ+BSnux8pBhANrvivO7bf9eaVk6TZ+UmaxbVTPi8L0XJ2JXrsPO/m0Jxk1xKPs5N9qotCNp+01Y1z2Zvmo3nM0rY5Hmdtn8GHIOtw6/lDNdFs+Wzcirbk/6Rkc7SdToxDUFc5PDncdv5gXTQWfDoLtE4cPFAY4dCSZH/nIhuj4dPy2umd513h2IbjVtvOObp3Zfb5qS6SdRHZFVVtmHCTK9AsspmefabJLar7grcEZWHZtpjsjr6uH3fLpZEYJlxfbBaiH1dreL55/+Uu4Mwyh4Gacz3ZGpKnbOy350wVqPd2x+YP6seHKkLMaF1/jvvcBnUF8ev1IE8r4uCui+6hL6tDyDWbljirxrOgj/udzHWhBw6WRzu0JDo+vMSNHIEbKDV/cvVQ3VnnB2lvV9T7g8+HeZmsyKLq1NF7ydxyvEguRLddbYJGgInF1UgsY48Ha6Id7iVFkuZD5WfWh5kfabh4pOWC54scTld5poN6KKneney5LmS/660rYDTtx/cHBB9iWy8vr96Tj/wPwOfF6XjMuStXwL3CcyRA4XFyHdd/5h4zyUbzYLtQ+TCv3DaiXXH691WzXYJRCE70k6QR+dkOq4Hv6gH7/uBjn0uAaL0LYV1F+XAA/riTLEibMFID97A7KBRsEkpq4DC7FT7RbKD7TpImuBRBGvCn3n5R4f3BZ5HFdNM7XP6zLseW2cwa1yZGyrF5IAMPlxHzDKbniksTs+xQTVjqsa924JPp+NJM7Ks4X/sHPvZvhjLHIrt3XQUwXR1bQDrwhe0QjkPGqbRy1BVEOurq7bdccOhR7e98++WD3txAOZCQP+9ynMe+LoK9Y9denE7O2BfywD0cRxxZBN34yfvVqcieV/gLkaS192snFHx/KPD9rkbf1aXv6v6Z39Wl4Pvzgu+jGJ2lKPUN8H2Uo7NUHq1i6HMonzcJMbXNJzM6S84nMToLBd+fFHzHksu9n+RHktIQ5sYzb9I5UmFemv6z8fhiM0+QErRnHnoVRypNYtO5LnU87tYJrXJvJPbl5EgZb9LRSuKAz3Ov37/Orrhpde1KNCnnYUVFkTLX27kxl2u4XgUml3o/5vFJFUsqjd9jPD4Kvj8p+JKLGnXCLponZByI5V06f2VPaGrL7U6uV/4XSnedvmQex0uvjOLSrCOzuS49e95zILRgV3CJURjPkvHxUu2ArMCY61yvalsf7AlLOZBwhYcVZXk+Y1voxZzKW1yvLuY3bA9P5u1JZXb+skFY2p0HTyj4KPioUaNGwUfBR40aBR8FHwUfNWoUfNQo+KhRo+CjRsFHjRoFHzUKPmrUKPiofWLge/T0WW3Lg+utD+tvtPMq1bU8bLjZ/vxFD9erex1Pa5of8NAlJDhw896j3nV14+4jnntV3fTgfsdTrkvPXvSg6upa4dVDHiacQk+6nnO96nzysZxUL3peUvBR8L3DTl2u3pmSZFKUqp99iVdpf3m61sl4MIXrlfXpbKOCFMPcFB56daAqXTfk9Riu3c97dMIS95WmGeTwzCXDvBSj/FSH6FyuVyV1d1a5F22PatU+Xs+rtP1Uy3r/ygs59VyvwlMrd6UmGfP0pDpQmb4+LK61V+dQCj4Kvtd2PLXCt6sgipSFkWJepThSaVlyufebG9bx2ZGk9AQp4aFXCaTKtNebG5DGximp50jFcd65hAqJIKWOMflcr/Krbu1NaPNsIg4VPEsejeRAZkdMRh3Xq2Op5b6PeXxS4fCZZKY23Gin4KPge4fRQQref5ACw8QUtCgf3rnkRwr8SaFj7GvwFdW06Z6+YV/Os3ETkA6XEsOkDjpIATUKPgo+Cj4KPmofCL7a2tpjx44FBATU1dW9M0NxcbGdnd3Tp08tLCzYWSWfPXv2drby8vJfn1T318HnwzSzklep9O0RKDmThTNzs/oy49kxA6W5M5NY1zKjWpKs3tNI+5GrnIEt8/oJPnYse44zjFcBpPTtYj1Idgi51nv+cqyJIE3HmInDs3v9O3Y43+LfAnzMHwzo5RW3QnqPjgeXQl6Njsf+kUjS6kuKeg8nx5bj9wvI+CDwsYOb2hYz49cjYYE79t/rkQQzmTEBHWtfjyRomc1Mi25X+o7pzK2LmBFi3h4l8EPBh//IPYL+zDy5Bb3ryosZno8ZmjSYVHr8NH4ic5qx0wm9ytm7wkt93qptCr5PD3xnz54VExPT1dXdsmXLDz/8AAKy63t6eh4/fvzyJfOUKiYmRlRUtLu7OycnB189PDzenkby3r17n332GXeK3g8FH9syA14yQyi7PL7s8uiy25OMt87gYqf2VP3Lfu7d2eyMB0Gkwrz8pHFuMM7aXqP+1nKGvSzy+i3Ax8zV+7zI+VE649ijy+7dWW9MkBZIyg7VnTHOPebPQKqAXWOYGWB1/Sw7+DNcgntoWk5P0wJflJ3gTCfWH/DBq0BS6tWV59yZxnrl+Tzn514xlxCT/JCD1dGsD6gNj+4svRRv1Co71jFLxuCeSscnl46/rAsltW9Pmfih4LMpBqqe7Uvp3J/+2Cyt0zzz2RuDCdqWEN2I8m1hV5GTWZPHwHGjT7rh+Vu9p/uwyGbmO7evYjJY9hd8TF15Ps1hj6Dro8teL3J71xWWUSGGWYG2TXGBnLGj/TmnmV6qt9fLvFeTVRUEkDL3p1lOHWnOnelv1TYF3ycIvjlz5uzatYtdjouLO3PmzMOHD8EvY2NjeXn5devWYf3ly5cVFRWh+BwdHQsLCwHKb775hp1EnGuampqDBw/u87y60CZ2rQmjxaZOkhUVVJGeIC00e9Nij5c5x0ndGdJ2htyB0APRTApCRghNOnz7fARpPEvuZhGySH+zwBKpV7OsFUB8AYXDBMYrGqzlzKtb0B/wYadbo+0Hjh02fclcAWWpUaJ8K5z1QkkNx6s7nHmFaiENltjtmDpvJv5CBGk4R+5fIi/5ZCSWu+ixkw0FkXLXR1dmaqlMmCM8dpbg3lSf4+R6n8GHpgiGKhlpwiuhpTLTFs4aM4N/T5o3Z3jnZrgUTdrYYY0FVKQXWmw+TW6eIq0XyFPfO4VD+cfaNMUeI1U+zKh2tTsuuE2SEZ0kJzZ9icyRGxfemNPnw8CXxwz+rGLi882gkVPmLp00a9HQSSJLzUOdrhPHup9mRLKvZMTdjJU7BeatwXrnemZ+S6/bZDi/+Gr7GKf61+NLu7US3RMZ3wwauz289GhN38EH3OOgzNq0eDDfaBxB/gUzJ8mI7Cs5jpMHdXKG3MYBwr/GtWG8lJCGnym+orqSyQvborihguM8nmcHMFPUF4aROhndlUOmjBFcPGfCXGGj7CA658YnD77w8PAxY8Zs2LDB19f3wQOmh0djY+M//vEPNzc3LE+aNAkLCG9xwNrb26WlpRsaGgBKKMTehZiYmOzYsQNFbd68uW/gA0pMC0IHjBpyoDTCvi3xUO1Zm+Y4Zhzz9qwFBzbO0Fy47bRTDHlgVhI+dpaAV1euX3eR3N7VawP2i2vMm7FuIQs+ZjLAntyF+zeNFp8qvnrebzKv7gJOad4v863rYw7WnLG/c/EUabEoPiWls1R6u5rl1dOJ5Jma4y7BpXPiSLtF0SnxdfN1453RwDS8TV9NNtS6YN/GsTMFoFg1vE0ALK+evPeZUPyd4EM7RIET5orM0VmOhg2vDtWccX2cAUbrnHaQXL9oofkmr448XBVEVsgvttueSLo3H7eduUlV85glfLBriUdTh6hBawcLVnsaJ5BO4eXyAouksEmfwQdl53GTCClrjZ+hZFNE9M7W746qNkl64NpMNvunC6tsklylZ5hQF/iYzNQwEFbZHPiEbPRNFlBao37k7EjB2WudE1jwQd9B69mVk3HiSgggNninuTT0HXw/TTYkNEnVapvni1zr6zGH6s56Pcs9QerXB5nPWLdgqf2uoJflUL58ihIbwg7Fk441Xvtkdq1a5WYwcY4wNmEnG/IjRRPniOjGOaOSvV/kuz/Loorvj3CPD9rN0NBwxYoV48aNu3DhAoLWGTNmtLS04CdTU1MQraSkZMGCBdwJxYG53vPqXrp0SUpKCgve3t4bN27sG/jCONNLDp868cSThljyMJrcjiI3oZX4lGYIqclCdn03cvCO865OD1MnzhXBiSi2ShELu5M8v/rxu1kbVVnw4XR0e5aB6/YmLxsBNWmO4usX+OCD4r51IgsUMgjBMjQC0sHr0T9OHKlqvU3lkM6gSaPQutYHHpDUVMa+Bk8epWiwbkPoob/+/W/akXYs+ODV0QeX/LuKL6M+40MHTx/DCZ1K+gO+8TJCa6z2ZTFe3YrmKOI1Aft+GD8cFSW4mBGn58g9cY35WiEHzYqOfz34e7gku3PVv7/7mjtbo0dPdjCp8HlUsDvFY8b6RZrBFtBB/QSfgJLmjJVrTxFGsnlwVN5Gn8xvh45RNvKSXLlzyCQh5wYio20prWliltrx1Q/DlHYcma/n/Ne//1M7IJsFH8rxukOEFqnP2WA+S2PvKrsorhLsE/iK8GdHivPtCvFIJ4Qj6NpQXcrWW6ABcTqN5wQWqKup8yT1Unx0zjh8N2LQtnOOIsvlcX3i3NcrQS0hRobYn7lBRWrr0rW++8PJ9bfvilLwfWLgS05ORgzLLp86dWratGmVlZUSEhLsgw4oOyMjI3bCSRZ8N27c0NfXB/t6B7kgpr29vZCQ0Ndff52UlNQ38B2siUbLRMwotkppsqwYxIhBZsCw6eOP91zPJWTZgd1i65SO3LogqDIH2nCY8HjPGzmFhMzdvFxwqTR3QnF2nsPljnqQM7+J4lP3NP7bP/4+U1NZZJncpLmiEKTKVlsE5ktdIeQi6RJQkt4QYQXcKOiv1Qo7OEFK6BLpOU+eoJ2oexq9mlA8F/IqgTwyzQr5bvQgvUvebyPmA8F3Ay3z3wO+nrVBZTowt0gKOONfPEvDwSSPEN+2ohFCE+1uJMzdtlzn7NE5O5cp7lx3lRCn66kDxg0+3JoAFrCzOEFBm2SH/jh51KDJIw83nefMw5nXH/DN0dr3t7//U1hl4xQZtTGisgbxrWJLdcWWaJ7izP87UnDGRt/MBfqu83YfVdrpOElqAdYDhQNHT2EVH+QeYuFVdqdElNdFECKsornZ77T7jTefe3wQ+PCncIFEJCGpuUhAWVpizfyjd5PHzhHYc9oL/8quIH6k2GTXJ1eEl8nppfqIaMivtjcuIWRfatgPk4dzhHkJEqTffFOtxTbbt0Yd+XrQAOWDW6PIjTdEHwXfJwa+2bNnCwsLA3lRUVFz5szZtm0bODhs2DDwLjU1dcSIEenp6VB80HSsEmxrazt06BAyPHz40yjb9+/fv3r1KuAIAqIoLkY/FHz7S04MGDV40wnrXRfdtU/aWl8/tzPRdbz4dEQiiEE03S2EV8nZNMZC0RjlBo2XEPS6n5tGiLL+FsElP4GPnZgVF3B1FyNhNTloNH9y9e1HHB8EviW2ukOmjDXND9ke4wivEF3K7VWfuUIliTxHbCi5cpG6txH4AvCtC94vqCAdTzqR+GVmLXfZw4LPi+SCxbvOug+cMtz0Sih+fc8JxX9F8fEvmAXk7SsM23bWAToFoSufgvhmP9sL5Engs7JxM6bvLz0hu0sdP83RXa5qrIOK8ryTM4J/EnuPD4W4dWUAdidfNmOX67wPjJTgCyaVbzx0/lDwSSzXHTZFbNvx4tUO51baRtqVkmmKa+Zs2BXcTdxayMRZ8quPxCwy8gT4FLYfmb5A7Vg3M/3bqOniWA/w2ZUx05z/Z+BQ0cWb1Y9Efzds7PSF6y2ynqOcPoMvlFQjwJfSXmKcE6wTbb/rgpt7d+Y4SQHTZOZAODWkjpUUsGuNx7V2T4qXuMY8LY+DqBDronMjBCex9/hwpDxINs6l8+Qxrivb3BxHSE56u64o+D4x8IFT5ubmqzhmZ2eHNfX19QoKCk5OTmvWrPH19cWaa9eueXp6dnV1ubm5tbe33717d/HixQkJCW8UBUSeOHGiz/f4EOr+OG5kUGcF4hHO7ecbDneTBo4bppvgApaNmymwwGyjc0c6LuBHbl4YKTx5U4RNJGn+ccJI8dXzuKGu18u8EFKNIHSK4gw/UoyL9tu3Yz4IfArGa6fJzk4hJJzUw6tz5P7Gk9aIgzxf5Lg+uvzt8B/NKyI3hB2S2rwEQeUP44a7dKYfvZP8f3/968ZwKxZ82HB7rNMXA746UBBxkjQ5d6Zx5g4u6A/4xsyetuzAnjTGqwZcGADWmRuVpzH36e5tjrCBe6AbQl1cRdQ9jCZIC0GhrA80//u//uH0gAl1makvX+QOnjxmrZ8Z6lZut/oIoUlhpKaf4ONXWCOsvCKcMA80ADLve0Rxh8PgCYL2lWRnZNWXAwaZpXXK6VjLbDbXdEv8fuRE21KiE1L4l7/8ZZN/JvLbFpN9lx6qGPvII88m868GDpkspXIgo+twWX/u8V0bJjh+q799MnlxgqmrxpOkmX/hrFmbFkOD46o2UmQyDhCfgsSeS17zjDWFl8uhQnCm/efH79hQN4hUON5PmSwvoX/ZDycAzkORFfLg4BvBBAXfp3eP7+1eexBura2tv4dnvwS+UFJjdjUcUHN7ksH2KsCVFpjQiTw6fo6QoOochCposbYNUHxz0G53JLgMmjRKXk9joozofLON0aQNmyCD/e1EMXXFYdPG49fJcmIGGQHsPLx9A18kaVl6eAfiI7CGyx0UqGy2ZbK82GR58aW2OxLI47X+ZlLaS8+QO/NNNwydNm6Rufa4mYKQgWxfMGw7c4PKN0MGztm2fKK0EGQFItNgUtHnp7qoFoS6K5z3svcQkZj7UA8yIFumL5WZKCO854In5IyUztJ1gebwln/hbFQFBCCf4gxcS6BWgF209i1Rh4cLTsBP42YJmBef4jxr7nuoC00nqb5nxoodHrdedcQrZDroSa7UnSA5f4zw3MX7fAKfELmt1tJapsgjorpp6GQRaa19o6ZLaQfmgJWW2UzHPddm5uag30MirrZdJyQBxfY51PXl3OODOtY+ZYdK455phxsu4CIhvFyeT1H8QOEJnDxiqxV3JXng1wnSwpDSszctnr5UFhdRpjMTRzbiNMC1AeenkJqMR0cW5z5pHgXfHwp8dXV1Wlpad+7c+V+C7509sDjsa3Z/kHWwKfr4yzpOl+Acdj0u3a73rjjcTsRJ2RsKEGIIh3GJdn1yxbr+nOuTDN+39tWfNzc8mRmySyJI0+Eb5+3bEtGc/JhoOpczy3gJaGJ3M96jIxuqs/cc5J49uc4daXDMtikWG3IUX+Fv+OaGBzOZd03oixrLhiivjlx4xXYVhA+QPMHPKq1azwY8K+HOcc6pw1ymK/iTwoMt0cHPKuB5P/vxvZ0ALIAPRNM727wv5a5LI8NHyxymmx7WH615qXe29WDu4yMV7+i9/Pu9uYG/CcQHd1ea10f6PbmKE4k77zszhfnTUtRVUE8Fdy5z9v4J6srtYYZ1a0z4y/qQn0+aTsH3BwHf72q/0oEZLGB72/ZmH9sfGIqGfeWgdx40Y05n+mJ/5kbM63MUsUkQqcQnpM07uzF/YAfmYuzljb7+0H2cvZRzOvHnst36sYDdwVXWJb9XtxfZXtDBHJc4jpW/8fJAHzows3/8Da+wR+wl4JVe5rySUcx5D6EYXrGBGyfEfr0V8nBuV5W88y2XD+7AzHlnA8Ltjdc5EKvalnCol82Zq5eTB3rwcDnzia9vv+OBZFP87vUfBD4vzvnj9/PTgD2s3D/+qq6YE4x9jMt52aP3Y3fmvGLPQ7933TWm4KPg+w0VH31Xl76rS9/VpfZHAZ/nYwSqCLuKeJWiSfn+krTe4DucgDCHmU2ch16dJRXGsWm9wWeSkhbFqAyeuYQKCSXFTr3BV922J+aWSx2xK+ZZcq4h+9J/Dr60So9HPD6pcPhMs1Kb2yj4KPjeZcGJZXY3M7xf5rs8yuFVCiSFe7OSK3uNx3cgOsPjeZ7b01weegXA7T2TwnWp43H3jtgkf1Lg+phnLrl35Xp059qfy+N6lV1xc2tEIyJQs8tdvEqH8snu2Hux2a+HwwhILLW7mcnbkyqIFO5MSaxvoePxUfC9y6qa7vvElZxIqTyRUsWrFJZcEZpY8aCzi+vV5ZIWv/gSHrqEFHShLCbz9eg4PT0vz1ypCb5YzluvfGKLMytucr268+DJsQuVYUnXwpN5ly5d8z9/tfr66+6i5fV3OYePpydVUmVYcuXDJ10UfBR81KhRo+Cj4KNGjYKPgo+Cjxo1Cj5qFHzUqFHwUaPgo0aNgo8aBR81ahR81Cj4qFGj4KP2cYPvau0d25M5nnFFnnFXeZXcY4tczhbcbX/C9epC7vXDUbme8Vd56NXRM3khiZVcl3p6XgZeLHc6k89Dl1Ah1hFZyYVNXK9u3ut0ii5ABfLQK6+Eq3aROZUNr1+8KbrWZhte6H62zIN3yfl0qVt0Sfujbgo+Cr53WHBimVPHR/CublFqRe83N85kfATv6pYaxb1+V7f9UdfuC0kfw7u6DjGv39zIKr+5vzw9lDNPG69SCLl6uC0z5srrzt6+CZX70p/aljBzHvEqOdaQzWF19Tce/Pr5v2jRIgq+PyP4ItKr3B/lHmeGPCnkVYoiZfuKf/aurm18TggztEkRD72KJuVvvKtrlJx6kpQG8s6lYGY8u6tOPx+kwKIiHV7xsKJOkJKjbdm939UNSao2z+xyqCA2RTxLbg1EJ6K+5XbHfwXfhAkTKKH+dOCjo7N82qOzVLeZlaV9DIqvN/hCk6r3pT21LeblmDGO1UQ77Hpz2395V1dKSoqPj48S6qMA37NnzyorKysqKrDwzgwNDQ1nzpzp6upycnKqr69/O8O9e/fKyspKSkqqq6t7enp+J/BxhpxjhsPljmfnSXKCSMUxUtV71M//MfjYuYRCmBl8crlrQsg1rPR818Th/xvwwRnOEPNlvUfTDCU1vswAgnm8Ah+cCeaMk8itGTiDA8oZWzCXV+CzzGHm/LUp/mkkQXYMQftrnF9zfmPw8fPzS0tLU0LxHnzl5eWKiorLly9fsmTJ1KlT09PT384TExMjKioK8MXFxeFrQkLCsWPHuL82NTVNnDhRXl5eSUlJS0vr8ePHfQCfJ2c4z9Pk5knSHMGZGCGcM+t271bqQwo9urMO37zg+WrOCmzieP+SfVui36umCAIGkJIz5HY4qf8lGr4/+DxINvARTdpOkAZ4FUlaQLQ3ivUlRc7tafDB99Wgylhz5NZFrGQnIfTkDFCKbfGn8AffGJy5D+CDV/h30eQW1yvOcMFveFXocDvJ6WEqOwA1c6noybVrTfB8nsNWHfLjr0WRmygBXnEwndMf8MErgLV3XXEA92ZdOd5PcbibzB0WG84cvnHe9fHPBsrmXM/Kz5A7zAxnb3n1AeDLYVjm3MBMd+l4nZkGxLmRGQn1ZwM+5zEjpBqev2WW1gneMcPo5xPzjG6D+NaDuS+Z+3ecIaOdrjNj6zPzoDcwI6e+PWT0+4APLejzzz/ft28fJRTvwTd37tytW7eyy/v373dxcXnx4oWjo6Obm9vChQvZ6YeSk5Pl5OSgBy9cuFBXVychIfHtt99eu/bTuEDnz59XUFDoZ6iLRnL03qUZ6xYKLp4jpq7Ev3CW7C51jkCoPElaADI0KkBn39XjY2cK2N9lRpxHo80gZJ6+lsAS7vSSecjv9jBjxvqFK5z3hnC0YX/Ad5xcN8gImDpvpugqRXg1SVZstbcJ3IDMjGImaWVm/o0kzcuO7pm+ZC5cwk9wNZF0T5IRXeGyl51siB0YeaWLPp+ihLjGfLvGePyXPoMP/+g4qdPwMZ0oIwKXRFcq8ClIGGT4A4Uc7tyGPxBQyCOyQl7VZlskacXyefLI807OEP4xtk1x7Ly6cNW2IXbWRtUp8yTnmWh5v8x/e6rfDwEfM4nH9jhnVBG8YmY9lhHdfNIWFYjdnSZtUeQGygf6FfTXYqeAI47OOXIPdThKfMq2mKPcKTch/VDU0fok4VVyB2ui4WefwQeEHS4nCrp248TlBZTU+eVXTJZW0T1RfrSaHK1lZv51rmcoZldGxkkoLDkQ7NLIoC3oKdl9uujHcYIWWc/xKwqxryLz9jiOFZNDIZOklLceyz9a0xfw5eXlffbZZ78+/yq1/xH4ALvx48cHBQUh2mXXIJj917/+ZWhoWFRUNHz4cMi9qqoqQPDhw4dQ6cXFxWvWrFFWVuaWgCh4yJAhO3fuBP6OHz/eN/Chce4vDv968Pdr/cy2nnFYH2yxLc4RMgSNGe1HxXrroYqzcaTdtChktMRU1/YraDmaIRb6l/1ltq8ClVjwcaaGKZxnooly0OzDf4t5dVWttw0cO0wv1WdThM1afzPD3EC0YffbmSvc9670NHC/l3WePFnqsGOayuyz5J7b3Ywl9rqWlaf5lWatcjdgwXeKtKKQ74b/aJAZMGvT4tHiU4GAN+Yz+5BZ1opQ4BTFGUj6V/w2nrBeF3jAuuncWXL3YPFpFZut2qcPo9JOkRtCarLKVluTyPMDBSeXOe3ee8l3nKSgDQd82Ds+BZSlJTWVbZvjx8yYhksFFFafwceZzrhtzrZlQ/nH4W+irtb4me0rPY7LwNGG5KVHd64JNPN9UhRHOuT2rp6htRCVZl9/UdVu2/6rJybNFdsW68iCjzMKfAlqWHzVfDBCP92PnbCpb+CzKmSYNWyKmOD8NVqeKcutwtUsQowu3PG8RbYey5LdfHCd63mwD3nGiMot2R8U+JhsDrisbOStfiRqlNBsFnxQiHalZKTgLJnNFkYX2rS8UvTjWpgnyB8Ovm3btv3973+HsKCE+iju8YFWKioqsrKyM2fObG5uvn//voCAQG1tLX7aw7HS0lJ2QnGgra2tzczMzMjIiLt5Y2Ojra3t5cuXT58+DSUIedgH8IWROoO8gFH8fIlPurIJ4UzX/TSM1ErrLhs/e/oiC+3BfKMPVpx2aEsaLyUUQMoWmG0cOnXMGt993wz5fvbmJSz4AAWXx+ne3flavoeElssApv0EH0SlnNnqWQtVaggBkyAw40mH49PUiXNFZqxfBFhMkhGLIE3QX+Kr50HdTJYXE1SRhtj855efg9fsLGhoySbFIUcaL+YR4pCXNHDqMPfuLHZmjD5PLzlWVkDH2r6OkDRCLhNyjtzfme4G6ChbaI+bLSi3c3U86RRTV1zrtx/R7g/jhysZrpPavOSbIQMdH6QAeagW92dZNvVxkKJwW3bnSrk9q6NezdnWZ/CJaMkvXLep4VVdxZL2Qy1nRotNkdmxEkJ+uurcGPJgwf6N8nprgknFCOFJEPjKltqff/Vvw6zAV+DLxeVtsdk28fXzpbSX6px1eHvy9Q8AXwE5XEGGTBTXPRFyAec5J3neJmoHTw0cw6ew3W7IJBHFHbbed6H4lNa7XdQ9UfrtkDHyOtZ8c5b8MJoPmzN6sJSZ7XfU9Nny26yVjf32RJd63OxjqPvvf/97/fr1FE8fBfhaW1tfvnzJLnt4eMyYMaO6unrOnDktLS1YA8Dp6elxwaeoqHjz5k0DAwNjY2NuCbiCcR9oQAn2/umDwGd5Leo/A7+VXL9IbvdqhIQbwg7tL40YzD/G53ZBISEKO9dIbliEcHjaIinzisihQuMcKpLQIkWWyk9Xm8udUBxcQOta7qiH2PP4b6H4VroafP71l/NNteZuXy62eh6CrxWueydKC18iPYAgKANluiXqsLyehs65o6PEplwgT86RuwPHD1vjt49VfJy7aZUJ5JHXw7zB00arexgh4utzqMsB3w2hpbLfjxkK+kttWQoV6fY0U3ilnIrpVlSU0/WUQVNHOXemS29Rg3ZWNFkrpbn0KiGHCs/8Z/C39m0XjzHPYZhnHbHkgXFG8Jc/fDNg9GD39izoRK//Or3kr4Hv9jxjzX9/9/XCA5sg/cTXzD96N1nJZL3oUoVMQsCvoYLj9peeWOG0V81+l4af6aQ5ooBj0NOKb4YP3J3kgQzYOz4P5ERMWSiJ0qS0lu457Qn198Zzjw8Cn8M1MkpIevDE6dKaJiKLN89crbc//fEoIbllh3xiCNEJSRk0XhjBLN/cJRu806Yv2CC/bV8cIetcTn/942hmwqOrzDRJ5pndU2SWCC3SlNY0/fyrb6EcXZs+GHyurq7QsBUVFRRPHwX4REVF1dXVIfTu3buno6MDwCGkHTRokIuLC36dOHFiaGgoouC5c+dCCc6ePfvWrVumpqZycnKvWXby5NSpU2tqai5cuDBw4MB3Ph55H/BZVJ5CiAptssRWV1F/7a6L7juT3SfNEIVwg5rQ9LEUWiFnXX9u+uK5hjmBEySE3O9nJ5JnqvrbBJfMeXWPL58TWt5E65q+RCacNPj2G3zLnfS+GjRA3d1QxXKrwt41DreTFE3WzV65+Dx5jDYpuVp5pbvBtnNHFfTXrg3eL6gwFwEvyCsoM2eZy24u+CCmbCrivp84dIWDPmJSzo38vP6ADwJq+PSJqz2NFx3YvNBso8ez7GkLpDb72aIe/HtKxs8U2lcUhusHwDdXd7mq8baLpMvjTs4o/inWTTHsPT7PlzmBpCyIlCHsXbh/k4CKNMDn93OifSj4UAnfjRik4W2ibLFF0WAtcCy5QXnhrk2oK+jiaUpSW6IPr/YyWXZ0z5Ij22eoLcLFAKSbJC62NcYeC5z58wp+nDRKQX+NXWsC/iDI7s/cFijpM/jsAb7pUmNEZRfou87ZYKaoe9j0UvsYUemtx5IR8Jokt44UmKl3tnGa0motz0uC8zTULDwCHxG9c0XDpgiaZzChLjvNG0iH/KcIUd13ZBjfTETH1oUfAL7bt2+DemvXrqVs+ljAh0vQ4sWLodQWLVqkoaHR3d2NgwTAQbhh/e7duwlninF9ff0nT57gK/gIDvLx8cXHx3MLMTExARmhE8PCwvp8j88oL2jo5HEnHjfEkY4z5E4seWhZHfX9hKF21fGQDCLL5aW3qTm3p01VkjxUewbywTz7JDgxTno6fgJruHNUJpDHGm6mImrMSnbWx/6Eugqma4WV5OAAKHaW3IGgA9FGiE6Gh2irg/hG7U33RVQru3MVZMvQaeNAQ5Dli+//oxlswYIvhFyDwyPEJu296JPGRFtvPq3uS6g7R0DjoGkOIbgkgDhwZtqS2XO3rYCfZtnhA8YOBolmbVDZEnVkkaW2qBqjufSSvf/51ReQzHAPiHF7mjFOSsA0I7SIkPWeBwbzjw4iFW883/jQUFdsvdLc1SvyOHUFl8A7OYPVfIoSiaTbuyP/21E/2jTGQu7hwrYh/BBCYODY6XbqP7/6fG+aLyoTDjjcTZLZuRKVCc34nx++myQriiPOkrpv4DtSSQZPFFnvFnQCAc1N5oGGYx0ZwS+FCDeKEPXD4T+M4T9cTibOXrTBK1V08daZGjs4dPP9csBgNtSF4jO+eGfman2z1FshL4iIysZx4grODYR9BPye4BMXF0ecixZE2fQR3eN7w0pKSiQlJRHS/h6e/Qr4TPJCBk0c6fLociApZx8UojEssdsxZsY0ae2lE+cIuT7MsG2MHys5DThb4bx34JhhKge3Dhg1RHrr0nPkHvtoGC1HeqvaoEmjvvrxO6GlMkY5wWGktj+KD0Eun4LEadL2aiJa5rmEmPo8QdU5girSM9crnyP3V7oZAL4IYIWXycFblYNbvhz47eYIG/auGQSapKby3/7xt/n7NkBYzd60GI056Kf/2EfwTZAWUrbQhnhkV0KsWV47PW72dGmdZWMl+dWdDQEd4eVykITeL/OG8o8TU1eaqaU8cOwwhJ/gCCQnKlzJaP0P44YjJv1xwkidM++4m/ahim/GuoViq5S46hv/EXjlXzgb1cUnL6awW+MCeapktE5mx8pwcn3iHBFULL5CUBtk+LOhrg/zYkbDSU4PG6jaXafcTjGhbl5/wDdkkvCS/YFuza8IVUc2+WcO5ROVXLVr2BSJVXYRXnfIWFG5tU7x+rEtA0ZMEF26ZfKcxYMnCiEE5j7cgCQcMlFoqtzywZOEd0VVONZ+QKirpKQEuZeTk0PB9FGDr7y8XFpa+n8MPjRFtycZh2rOePXksX1Q2Bmyw0m9SV7ohkgrjzvZaBsuT9Otrp/1eVkA3aSf7q+X4u18K+3IrQvsQ1J8ohAEnnsueRllB22OtD1843zgW48R3h98fqTYvi0ROoX7EJbTObkq6Fn5tvNOOy+6BT+rBHTs7yYihGRCxSfF2mcPHyyNcm5Lc7ifzEaOKMSq/pxeqo/O2aNbT9tjK/fuLL+32PH+/fiwrXV9jMOdpF5e5YAXrrevaJ08uL/wBCoK4aFtc9yROxdOkqajTZc2nrKyb0x0vHXJrTuT7cOMT2QzL43UPG5xuO48QtG3pfEH9eODM3YtCXYt8dzIFF7hquP7qAh1Al2M5WOk8vCt8zatcUwvywe5G6Osba7FON1KdepI5VYI2OdDivDVpinOpT397Yr6gH58eUxnlN3RdaaXHnAjU6ZnXz0xuti81Dx8T3QFtBvy6J1tMEl6gGX92OoV1qdNk1qNE29ZZPUwk6BzJko/Wk02+2UsszplkXXX6fp7Pdx4+fJldHT0l19+Cer9+hM/ah8F+F68ePHgwYNffwHjNwefF6cDM+c5bAH3Cs9ZKECDQesNIGUeJBt5WAXnw+k4Fsq0pSrumxtenK7CJ0g9mvEJ0hjBbFX6dg/Y9wcftoWKBNF6F8K6GkEaOPcQr8IrSNQQUo0Ff05XNWzy6s2NHLYQfD1JWtievXDb512vT7w/+FAgXAomFW94BYWFvbOdBDk7rcYaeBVMqrAegSTWoH7YXbOfYaQGP7GPO/r55gbnGc41/FOPXl7hOoE6wb9mHzRxnKnE7jxIFuqH65U/01E59423dPBHOIcvtz9vbgBbDtUEP1lk91qZzfTvc2lkXtiw5HRytr/GyZPFdG0BFiHx8BP3zQ3kARyP1jC9lxH5Wmb/4psbLbcfsS41NTV9/vnnQJ6wsHBzczNF0icAvt/V6Lu69F3dP/K7uq8GKbh//76Li0t+fj6FEQUfBR8F3599kAJqf1LwhaVWBD0rOkcqTpJSXqWLpNqq5Erv8fisz2efIeVRTPDFM6+SSY1Z7GWuS4+ePNuXnnaeXIvknUuokGhSfrQX+PKqbh2uzUxgYmeeeRVHKr3a8mMyarleBV2stit+5tVMnGt4loLukR3R16+3PqD0oeB7h0Vn1GyJOW9w+ZLepWReJcPsS2uDY+taH3K9sovO3ZWSuDeVl14Z5Fzadez1LfDu5z26oUl6GUl6KTxzST/10o6URJczr8FXVn93XWisfkYyDyvKKCNlY3RCUl7j6zAipUbDu2RrWK32sWs8S+H16k5ZN+50UvpQ8L3Dnr/oedjZ3f6Il+lhZ1fH4+6eV++rMJR59uJBRxdvvYIDj58+711X+PoxeNXV/aLXk0qCqkMF8vwI4kTqfVK1P+ribWJPql7nFDUKPmrUqFGj4KNGjRo1Cj5q1P4gFh0dPWXKlIkTJz58+JDWBgUfNWp/cOvp6ZGSkvrss89+/PFHXV3dX5rIgRoFHzVqfxzT0tIC9bKzs2lVUPBRo/ZnsW+//ZaOM0rBR43an8t++OEHLvgePnp+PrcxMb8puYCm3yahPtOKWyj4qFH7uGzQoEEaGhrs8qWrbYkR/nfSfWou+tL0m6RHWT7+/qEUfNSofbzgu1J6uz7NhzR5kkovmn6b1OYRF03BR43aRwy+y2W3q877kgov3g3m8IdLtZ6xEWEUfNSoUfBR8FHwUaNGwUfBR40atT8F+HI9SXkQqT9B6o7/lK6Hk2I/kvvLe8/zIlf9SJEvs/BGUVh/6zTz0xubIydW4tc8Lwo+atSo/WRDhgxRV1fnAfhK/BtibC647cw7Zlx39lC6795LXnsepDiSkgBS4MMkbs7eX0sDGJD1Lgc/lQU+SHVy1lvx+IorKfZnRublbpLH7IgDvreKouCjRu0NKy0tzcvLe5+cN27caGho6M++ampq7t69+/75Ozs7L1269OjRo9/kn37//ffcmXP/d+ADm+rCjlttlBOfLDV9/Ndffr5Iato8ickl56xJRzwDr6YIUhFMsj0YSXgthNGGjRGkJfLo7mVnnbaThhNMITmeDAebTuKnxssu/BOH371whFw/zmyLEpAfG9afOHZQy8tUg/kKUVkbBkqS5pPMxFC5XhR81P7U5uPjIyoqumLFCjU1tdmzZ+fk5BQVFYWHh7/PtqamplzF1DeTl5f38/N7n5xwDER+9uyZs7PzvXv3+v/HHRwcPvvssxMnTvwEvtJb/zvFx8att05fCTLiHzf0BVB1M6oj31t32RwVaQHdFTKdWe4g3QXXnepKYmqyQh5G6tfPWQ34+t9Ck0bcv+RIqkMYupUE7FmjsFxe+MDmRWJTRr/M83qS4bZlqdSSudPXLZzxKMMNu5g0ahC2upvskBNstHiO4KLZ0xz3rmCY+IZypOCj9mezJUuWKCgo1NbWJiYmxsTEQH+1tLSwQqywsDAtLW3v3r1cAVhWVmZsbOzk5ATlha9mZmZr1qzpXVpBQYGRkRHLsps3b549e5ZdjzLPnDmDhYSEhF27dp0+fZpdr6ioGBER0dbWxk5ie//+/djYWPan+Ph45IyKimK/gs5CQkLQmFVVVexoAqdOndLT04PPhDPcAHadn58Pl7gse6cdOXJEQkICWg/U8/T05K5Pu9r8P324UegD8ZXubzB94nCGYnfOaMyX2LpUGgTcqiatqTyTVAaPGPRd1OEtTzPcbLYvboy1kRaaYLlFmZmjENC8GYWVU8cOvZ1ov2/D/O+++jfWx7voGqxTJNWhG1RmqSuJkrtnoSU1F0lC7iFPrNP2h2nOE0f+eO6oDqP7KPio/ZlNWVkZ+Oi9Zg/HGhsbBwwYYGJioqOjM2LECESXDx48EBcXByw0NDQWL16MnIcOHeKGirDMzMxZs2YdO3YMNESZgBEfHx9W4icDA4OtW7fGxcVJSkoCVaCYo6Mj1s+fPx+hq5WVlaamJr4WFxdPmzYNC4AX9oWcYmJiLJ4mTpy4YMGC7OxsGRmZ7u5uV1dXfn5+b29v7ILNICwsDIwCyt9++21gYOAv/d9t27Z99spSU1N5Bj6k6+GpPnsFJ3DAVxowZcwQ6LUIm01rF0iITB6JNfprFeaKTDy8TbWjwId0xi+cMSXYdjPzHAOC8fYZRbHJh3YvIyS7McWRf+yQznQXBMWBB9Z7Ga9eLi+iKMFHHiWgQBPtRaQnuSLK0nabarD5+rHDBrobqZPb0RR81P7UtnHjRgAOpAPCEO1CcwFJUG0NDQ3jxo0D7JBnxowZkZGRWMjKyoJ2g0YbM2YMvh49erQ3+CAeVVRUWFkH+oCVhoaGQCfWgFagHhNRXr78+PHjDRs2gGL4ik+AD+UAr/haUlICfmEB+2Vzbt68GYKU9dPd3R0L+FpeXg4sZmRk4Ovx48cRoWNBREQkKCgIC9ra2v81AH/69Onq1avBPuydXZNecpO34ENYaqI176zDthjHbeXh+58X+ZCOuOIT+/dqyCNP3ZlDGkpiYU7boQ2ZO3Q/gU+NkNy6JAf+0YNRgvYSKQWJKa0Jh7cukZKfxU+eJWrNF3c0W0sqgicO/8HDeHVFpPmE4T/4W21kCvkfPOql4KP20RrUGUJIhI3Ozs4IA1++fGlra4t4tqKiQl5ens0jLS198eLFO3fuzJs3D0yEfGN1mYODQ2/wLV26FNgyNTWF3Dt8+DAUX3JyMuRhbm6unJwcMoSFhQFbLi4uSkpKbD8SFnz29vY7d+5kQ2mIQVbxISdcgiRcuXIl1uCTBR+2RUg7c+bM+vp6fIUGBPgePnyoqqqakpKCNTt27ADU3ue/f/3116zSJDzpx1cfnuKtN37EDy/BoFunV88X15gvjgjX32ztORfdF/ne6xfOKA4360h3BhOv+OtDCaoriTEPKEoCEOpa6ahiPULgPavlmFC3OkRGdNLBrcooQWOe+ODvvyY1oTtWyqjOEUz31Z88etD9S0drzxz68ot/QgYyjzsQL1PwUfvTGsgCUvReA5kGtAF8iFvZNYhPEYSCaEAbvsbGxn7//fdYALB6IwbqjMUZMAS9xq7U0tIaOnQogmIsCwgIQKBhYd26dbKysuw9vqSkJAAOYhNfEcAOHjwYCxISEgiZ2c2BXZaq2B1L4dbWVnyydxKhKFnFN3fu3AsXLmABMTXLyv9qw4YN4013FjZdCymNOLBzlSwDvtqwR3leO1fKIEoFtq4eNyMNJ1z2rlCTFcIaD2N1kDHeWVdSYGzZyQOkJoyU+L8s9t+5Wm7BzKlHdi4127gAIKuKslghL4IC03z2blWTzggwaIq1wSaZAYan7LQXzZ52zFLzBCeUfpjqxDwspuCj9qc1BKd79+7tvQaAA02qqqoQn7JrwJTU1NTa2lrwaPv27U5OTlB2gYGBbm5uCFq5GyI+XbRoEVAIfQdhyK6EfkREiQCZXQakDhw4gPIBQcAUBIyJiWlvb+fn54d4hP6aM2cOckIVIuf+/fvhzJQpUxB3h4eHDxkyBEpw2bJlz549g4pEtMtisaioiI2mExMTsQDx+MYjl18yHr+5kevJ9LOrD2eWsz1IRRBpjmQ6qUCOVR1jOqxgoTqU6drSxHkWURPK9GUp8GGiVLY7S/NJUnmMKQHrURoy1B1nysFXttcLymnkdHDB18pg5is2qQ1jSqChLrU/s92/fx/c6b2mg2PPnz/n9rDDwpMnT7DQ3Nx85coVhMPIAA4+fvz4jW2fPn0KrYeIlbsGeVjqsQbYlZSUYKGpqQnC7dGjR2zJt27dyszM7OzsRMlsTmRDZjYnW0JpaSmWscmLF8z8mTdu3EAojQCc62RXVxcW4BJ7a/JjBx+3E3LvLn5MN2Pvd3dgfiMzN3/v9dz8vde8/uldhVDwUaP2pzL6ri4FHzVqFHwUfBR81Kj9mcB3pex2bbIPqfMkJV40/Tap2SM2ig5ESo3aRwy+pKJbpXG+pNSrO8ebpt8kkSrP08dDKPioUfu47Mcff+Q+/71xv9vv3NWQhOLQC6U0/SYpMO5qeGI5BR81ah+XffXVV5s3b6b1wEOj4KNG7X9tCxcu/Ne//vVGjxxqFHzUqP2R7ebNm4MGDfrss89UVVXDwsJevnxJ64SCjxq1P749ffpUT08P7EPY+57dnqlR8FGjRo0aBR81atSoUfBRo0aNGgUfNWrUqFHwUaNGjYKPGjVq1Cj4qFGjRo2Cjxo1atT+EPb/Vrekwi2i354AAAAASUVORK5CYII=)"
      ],
      "metadata": {
        "id": "UEsSO3XP8qjo"
      }
    },
    {
      "cell_type": "code",
      "source": [
        "from sklearn.model_selection import StratifiedKFold\n",
        "\n",
        "cv_inner = StratifiedKFold(                                                     # Inner evaluation -> validación cruzada estratificada (StratifiedKFold)\n",
        "    n_splits=5,                                                                 # División del conjunto de entrenamiento en 5 particiones o folds.\n",
        "    shuffle=True,                                                               # Se mezclan los datos antes de dividirlos para mayor aleatoriedad\n",
        "    random_state=100495893                                                      # Se fija una semilla para garantizar reproducibilidad, en este caso, el NIA.\n",
        ")"
      ],
      "metadata": {
        "id": "xOTg65kg_v_E"
      },
      "execution_count": 1,
      "outputs": []
    },
    {
      "cell_type": "markdown",
      "source": [
        "Queda\n",
        "* hacer Stratified KFold en el conjunto de entrenamiento (Inner Evaluation) para la optimización de hiperparámetros. Se recomienda eso porque es un problema desbalanceado. ✔️\n",
        "* evaluar con Balanced Accuracy, TPR, TNR, Accuracy y matriz de confusión.\n",
        "* una vez seleccionado el mejor modelo, evaluar en test para saber la estimación final del modelo."
      ],
      "metadata": {
        "id": "eoW3Fg5lmKSq"
      }
    }
  ]
}