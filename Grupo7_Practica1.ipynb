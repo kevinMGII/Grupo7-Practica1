{
  "nbformat": 4,
  "nbformat_minor": 0,
  "metadata": {
    "colab": {
      "provenance": [],
      "include_colab_link": true
    },
    "kernelspec": {
      "name": "python3",
      "display_name": "Python 3"
    },
    "language_info": {
      "name": "python"
    }
  },
  "cells": [
    {
      "cell_type": "markdown",
      "metadata": {
        "id": "view-in-github",
        "colab_type": "text"
      },
      "source": [
        "<a href=\"https://colab.research.google.com/github/kevinMGII/Grupo7-Practica1/blob/main/Grupo7_Practica1.ipynb\" target=\"_parent\"><img src=\"https://colab.research.google.com/assets/colab-badge.svg\" alt=\"Open In Colab\"/></a>"
      ]
    },
    {
      "cell_type": "markdown",
      "source": [
        "# **PRIMERA PRÁCTICA**.\n",
        "Predicción del Abandono de Empleados\n",
        "\n",
        " ---"
      ],
      "metadata": {
        "id": "h-1-vZq4h3bq"
      }
    },
    {
      "cell_type": "markdown",
      "source": [
        "Carga y visualización de los datos desde Google Colab."
      ],
      "metadata": {
        "id": "63JBspn5xnVH"
      }
    },
    {
      "cell_type": "code",
      "source": [
        "import pandas as pd\n",
        "\n",
        "data_train = pd.read_csv(\"./attrition_availabledata_12.csv.gz\")                 # Cargamos el conjunto de datos de entrenamiento\n",
        "data_test = pd.read_csv(\"./attrition_competition_12.csv.gz\")                    # Cargamos el conjunto de datos de test utilizando el almacenamiento local de Google Colab.\n",
        "\n",
        "data_train.head()                                                               # Mostramos las 5 primeras filas del conjunto de datos de entrenamiento. (Not Working)\n",
        "data_test.head()                                                                # Mostramos las 5 primeras filas del conjunto de datos de test."
      ],
      "metadata": {
        "id": "CLcJTzTsyukm",
        "colab": {
          "base_uri": "https://localhost:8080/",
          "height": 325
        },
        "collapsed": true,
        "outputId": "0fadd004-4f0a-48cc-d4be-12791bf91b4f"
      },
      "execution_count": 11,
      "outputs": [
        {
          "output_type": "execute_result",
          "data": {
            "text/plain": [
              "        hrs  absences  JobInvolvement  PerformanceRating  \\\n",
              "0  6.894187         6               2                  3   \n",
              "1  7.684525         7               2                  3   \n",
              "2  6.806975         9               3                  3   \n",
              "3  6.028659         6               3                  3   \n",
              "4  7.618041        12               2                  3   \n",
              "\n",
              "   EnvironmentSatisfaction  JobSatisfaction  WorkLifeBalance  Age  \\\n",
              "0                      2.0              4.0              2.0   34   \n",
              "1                      3.0              4.0              1.0   30   \n",
              "2                      2.0              4.0              2.0   29   \n",
              "3                      2.0              1.0              3.0   44   \n",
              "4                      3.0              4.0              3.0   28   \n",
              "\n",
              "      BusinessTravel              Department  ...  NumCompaniesWorked  Over18  \\\n",
              "0      Travel_Rarely                   Sales  ...                 0.0       Y   \n",
              "1         Non-Travel  Research & Development  ...                 4.0       Y   \n",
              "2  Travel_Frequently  Research & Development  ...                 1.0       Y   \n",
              "3      Travel_Rarely  Research & Development  ...                 9.0       Y   \n",
              "4         Non-Travel  Research & Development  ...                 0.0       Y   \n",
              "\n",
              "  PercentSalaryHike  StandardHours  StockOptionLevel TotalWorkingYears  \\\n",
              "0                12              8                 1              16.0   \n",
              "1                18              8                 3               9.0   \n",
              "2                11              8                 1              10.0   \n",
              "3                15              8                 0              24.0   \n",
              "4                13              8                 0              10.0   \n",
              "\n",
              "   TrainingTimesLastYear YearsAtCompany YearsSinceLastPromotion  \\\n",
              "0                      5             15                       0   \n",
              "1                      2              5                       1   \n",
              "2                      2             10                       0   \n",
              "3                      3             20                       3   \n",
              "4                      2              9                       7   \n",
              "\n",
              "   YearsWithCurrManager  \n",
              "0                     9  \n",
              "1                     4  \n",
              "2                     9  \n",
              "3                     6  \n",
              "4                     5  \n",
              "\n",
              "[5 rows x 30 columns]"
            ],
            "text/html": [
              "\n",
              "  <div id=\"df-1d58740d-7e7f-4896-8ef8-d34da508b011\" class=\"colab-df-container\">\n",
              "    <div>\n",
              "<style scoped>\n",
              "    .dataframe tbody tr th:only-of-type {\n",
              "        vertical-align: middle;\n",
              "    }\n",
              "\n",
              "    .dataframe tbody tr th {\n",
              "        vertical-align: top;\n",
              "    }\n",
              "\n",
              "    .dataframe thead th {\n",
              "        text-align: right;\n",
              "    }\n",
              "</style>\n",
              "<table border=\"1\" class=\"dataframe\">\n",
              "  <thead>\n",
              "    <tr style=\"text-align: right;\">\n",
              "      <th></th>\n",
              "      <th>hrs</th>\n",
              "      <th>absences</th>\n",
              "      <th>JobInvolvement</th>\n",
              "      <th>PerformanceRating</th>\n",
              "      <th>EnvironmentSatisfaction</th>\n",
              "      <th>JobSatisfaction</th>\n",
              "      <th>WorkLifeBalance</th>\n",
              "      <th>Age</th>\n",
              "      <th>BusinessTravel</th>\n",
              "      <th>Department</th>\n",
              "      <th>...</th>\n",
              "      <th>NumCompaniesWorked</th>\n",
              "      <th>Over18</th>\n",
              "      <th>PercentSalaryHike</th>\n",
              "      <th>StandardHours</th>\n",
              "      <th>StockOptionLevel</th>\n",
              "      <th>TotalWorkingYears</th>\n",
              "      <th>TrainingTimesLastYear</th>\n",
              "      <th>YearsAtCompany</th>\n",
              "      <th>YearsSinceLastPromotion</th>\n",
              "      <th>YearsWithCurrManager</th>\n",
              "    </tr>\n",
              "  </thead>\n",
              "  <tbody>\n",
              "    <tr>\n",
              "      <th>0</th>\n",
              "      <td>6.894187</td>\n",
              "      <td>6</td>\n",
              "      <td>2</td>\n",
              "      <td>3</td>\n",
              "      <td>2.0</td>\n",
              "      <td>4.0</td>\n",
              "      <td>2.0</td>\n",
              "      <td>34</td>\n",
              "      <td>Travel_Rarely</td>\n",
              "      <td>Sales</td>\n",
              "      <td>...</td>\n",
              "      <td>0.0</td>\n",
              "      <td>Y</td>\n",
              "      <td>12</td>\n",
              "      <td>8</td>\n",
              "      <td>1</td>\n",
              "      <td>16.0</td>\n",
              "      <td>5</td>\n",
              "      <td>15</td>\n",
              "      <td>0</td>\n",
              "      <td>9</td>\n",
              "    </tr>\n",
              "    <tr>\n",
              "      <th>1</th>\n",
              "      <td>7.684525</td>\n",
              "      <td>7</td>\n",
              "      <td>2</td>\n",
              "      <td>3</td>\n",
              "      <td>3.0</td>\n",
              "      <td>4.0</td>\n",
              "      <td>1.0</td>\n",
              "      <td>30</td>\n",
              "      <td>Non-Travel</td>\n",
              "      <td>Research &amp; Development</td>\n",
              "      <td>...</td>\n",
              "      <td>4.0</td>\n",
              "      <td>Y</td>\n",
              "      <td>18</td>\n",
              "      <td>8</td>\n",
              "      <td>3</td>\n",
              "      <td>9.0</td>\n",
              "      <td>2</td>\n",
              "      <td>5</td>\n",
              "      <td>1</td>\n",
              "      <td>4</td>\n",
              "    </tr>\n",
              "    <tr>\n",
              "      <th>2</th>\n",
              "      <td>6.806975</td>\n",
              "      <td>9</td>\n",
              "      <td>3</td>\n",
              "      <td>3</td>\n",
              "      <td>2.0</td>\n",
              "      <td>4.0</td>\n",
              "      <td>2.0</td>\n",
              "      <td>29</td>\n",
              "      <td>Travel_Frequently</td>\n",
              "      <td>Research &amp; Development</td>\n",
              "      <td>...</td>\n",
              "      <td>1.0</td>\n",
              "      <td>Y</td>\n",
              "      <td>11</td>\n",
              "      <td>8</td>\n",
              "      <td>1</td>\n",
              "      <td>10.0</td>\n",
              "      <td>2</td>\n",
              "      <td>10</td>\n",
              "      <td>0</td>\n",
              "      <td>9</td>\n",
              "    </tr>\n",
              "    <tr>\n",
              "      <th>3</th>\n",
              "      <td>6.028659</td>\n",
              "      <td>6</td>\n",
              "      <td>3</td>\n",
              "      <td>3</td>\n",
              "      <td>2.0</td>\n",
              "      <td>1.0</td>\n",
              "      <td>3.0</td>\n",
              "      <td>44</td>\n",
              "      <td>Travel_Rarely</td>\n",
              "      <td>Research &amp; Development</td>\n",
              "      <td>...</td>\n",
              "      <td>9.0</td>\n",
              "      <td>Y</td>\n",
              "      <td>15</td>\n",
              "      <td>8</td>\n",
              "      <td>0</td>\n",
              "      <td>24.0</td>\n",
              "      <td>3</td>\n",
              "      <td>20</td>\n",
              "      <td>3</td>\n",
              "      <td>6</td>\n",
              "    </tr>\n",
              "    <tr>\n",
              "      <th>4</th>\n",
              "      <td>7.618041</td>\n",
              "      <td>12</td>\n",
              "      <td>2</td>\n",
              "      <td>3</td>\n",
              "      <td>3.0</td>\n",
              "      <td>4.0</td>\n",
              "      <td>3.0</td>\n",
              "      <td>28</td>\n",
              "      <td>Non-Travel</td>\n",
              "      <td>Research &amp; Development</td>\n",
              "      <td>...</td>\n",
              "      <td>0.0</td>\n",
              "      <td>Y</td>\n",
              "      <td>13</td>\n",
              "      <td>8</td>\n",
              "      <td>0</td>\n",
              "      <td>10.0</td>\n",
              "      <td>2</td>\n",
              "      <td>9</td>\n",
              "      <td>7</td>\n",
              "      <td>5</td>\n",
              "    </tr>\n",
              "  </tbody>\n",
              "</table>\n",
              "<p>5 rows × 30 columns</p>\n",
              "</div>\n",
              "    <div class=\"colab-df-buttons\">\n",
              "\n",
              "  <div class=\"colab-df-container\">\n",
              "    <button class=\"colab-df-convert\" onclick=\"convertToInteractive('df-1d58740d-7e7f-4896-8ef8-d34da508b011')\"\n",
              "            title=\"Convert this dataframe to an interactive table.\"\n",
              "            style=\"display:none;\">\n",
              "\n",
              "  <svg xmlns=\"http://www.w3.org/2000/svg\" height=\"24px\" viewBox=\"0 -960 960 960\">\n",
              "    <path d=\"M120-120v-720h720v720H120Zm60-500h600v-160H180v160Zm220 220h160v-160H400v160Zm0 220h160v-160H400v160ZM180-400h160v-160H180v160Zm440 0h160v-160H620v160ZM180-180h160v-160H180v160Zm440 0h160v-160H620v160Z\"/>\n",
              "  </svg>\n",
              "    </button>\n",
              "\n",
              "  <style>\n",
              "    .colab-df-container {\n",
              "      display:flex;\n",
              "      gap: 12px;\n",
              "    }\n",
              "\n",
              "    .colab-df-convert {\n",
              "      background-color: #E8F0FE;\n",
              "      border: none;\n",
              "      border-radius: 50%;\n",
              "      cursor: pointer;\n",
              "      display: none;\n",
              "      fill: #1967D2;\n",
              "      height: 32px;\n",
              "      padding: 0 0 0 0;\n",
              "      width: 32px;\n",
              "    }\n",
              "\n",
              "    .colab-df-convert:hover {\n",
              "      background-color: #E2EBFA;\n",
              "      box-shadow: 0px 1px 2px rgba(60, 64, 67, 0.3), 0px 1px 3px 1px rgba(60, 64, 67, 0.15);\n",
              "      fill: #174EA6;\n",
              "    }\n",
              "\n",
              "    .colab-df-buttons div {\n",
              "      margin-bottom: 4px;\n",
              "    }\n",
              "\n",
              "    [theme=dark] .colab-df-convert {\n",
              "      background-color: #3B4455;\n",
              "      fill: #D2E3FC;\n",
              "    }\n",
              "\n",
              "    [theme=dark] .colab-df-convert:hover {\n",
              "      background-color: #434B5C;\n",
              "      box-shadow: 0px 1px 3px 1px rgba(0, 0, 0, 0.15);\n",
              "      filter: drop-shadow(0px 1px 2px rgba(0, 0, 0, 0.3));\n",
              "      fill: #FFFFFF;\n",
              "    }\n",
              "  </style>\n",
              "\n",
              "    <script>\n",
              "      const buttonEl =\n",
              "        document.querySelector('#df-1d58740d-7e7f-4896-8ef8-d34da508b011 button.colab-df-convert');\n",
              "      buttonEl.style.display =\n",
              "        google.colab.kernel.accessAllowed ? 'block' : 'none';\n",
              "\n",
              "      async function convertToInteractive(key) {\n",
              "        const element = document.querySelector('#df-1d58740d-7e7f-4896-8ef8-d34da508b011');\n",
              "        const dataTable =\n",
              "          await google.colab.kernel.invokeFunction('convertToInteractive',\n",
              "                                                    [key], {});\n",
              "        if (!dataTable) return;\n",
              "\n",
              "        const docLinkHtml = 'Like what you see? Visit the ' +\n",
              "          '<a target=\"_blank\" href=https://colab.research.google.com/notebooks/data_table.ipynb>data table notebook</a>'\n",
              "          + ' to learn more about interactive tables.';\n",
              "        element.innerHTML = '';\n",
              "        dataTable['output_type'] = 'display_data';\n",
              "        await google.colab.output.renderOutput(dataTable, element);\n",
              "        const docLink = document.createElement('div');\n",
              "        docLink.innerHTML = docLinkHtml;\n",
              "        element.appendChild(docLink);\n",
              "      }\n",
              "    </script>\n",
              "  </div>\n",
              "\n",
              "\n",
              "<div id=\"df-d21d4115-aa07-4d65-9f15-ff81b3b53253\">\n",
              "  <button class=\"colab-df-quickchart\" onclick=\"quickchart('df-d21d4115-aa07-4d65-9f15-ff81b3b53253')\"\n",
              "            title=\"Suggest charts\"\n",
              "            style=\"display:none;\">\n",
              "\n",
              "<svg xmlns=\"http://www.w3.org/2000/svg\" height=\"24px\"viewBox=\"0 0 24 24\"\n",
              "     width=\"24px\">\n",
              "    <g>\n",
              "        <path d=\"M19 3H5c-1.1 0-2 .9-2 2v14c0 1.1.9 2 2 2h14c1.1 0 2-.9 2-2V5c0-1.1-.9-2-2-2zM9 17H7v-7h2v7zm4 0h-2V7h2v10zm4 0h-2v-4h2v4z\"/>\n",
              "    </g>\n",
              "</svg>\n",
              "  </button>\n",
              "\n",
              "<style>\n",
              "  .colab-df-quickchart {\n",
              "      --bg-color: #E8F0FE;\n",
              "      --fill-color: #1967D2;\n",
              "      --hover-bg-color: #E2EBFA;\n",
              "      --hover-fill-color: #174EA6;\n",
              "      --disabled-fill-color: #AAA;\n",
              "      --disabled-bg-color: #DDD;\n",
              "  }\n",
              "\n",
              "  [theme=dark] .colab-df-quickchart {\n",
              "      --bg-color: #3B4455;\n",
              "      --fill-color: #D2E3FC;\n",
              "      --hover-bg-color: #434B5C;\n",
              "      --hover-fill-color: #FFFFFF;\n",
              "      --disabled-bg-color: #3B4455;\n",
              "      --disabled-fill-color: #666;\n",
              "  }\n",
              "\n",
              "  .colab-df-quickchart {\n",
              "    background-color: var(--bg-color);\n",
              "    border: none;\n",
              "    border-radius: 50%;\n",
              "    cursor: pointer;\n",
              "    display: none;\n",
              "    fill: var(--fill-color);\n",
              "    height: 32px;\n",
              "    padding: 0;\n",
              "    width: 32px;\n",
              "  }\n",
              "\n",
              "  .colab-df-quickchart:hover {\n",
              "    background-color: var(--hover-bg-color);\n",
              "    box-shadow: 0 1px 2px rgba(60, 64, 67, 0.3), 0 1px 3px 1px rgba(60, 64, 67, 0.15);\n",
              "    fill: var(--button-hover-fill-color);\n",
              "  }\n",
              "\n",
              "  .colab-df-quickchart-complete:disabled,\n",
              "  .colab-df-quickchart-complete:disabled:hover {\n",
              "    background-color: var(--disabled-bg-color);\n",
              "    fill: var(--disabled-fill-color);\n",
              "    box-shadow: none;\n",
              "  }\n",
              "\n",
              "  .colab-df-spinner {\n",
              "    border: 2px solid var(--fill-color);\n",
              "    border-color: transparent;\n",
              "    border-bottom-color: var(--fill-color);\n",
              "    animation:\n",
              "      spin 1s steps(1) infinite;\n",
              "  }\n",
              "\n",
              "  @keyframes spin {\n",
              "    0% {\n",
              "      border-color: transparent;\n",
              "      border-bottom-color: var(--fill-color);\n",
              "      border-left-color: var(--fill-color);\n",
              "    }\n",
              "    20% {\n",
              "      border-color: transparent;\n",
              "      border-left-color: var(--fill-color);\n",
              "      border-top-color: var(--fill-color);\n",
              "    }\n",
              "    30% {\n",
              "      border-color: transparent;\n",
              "      border-left-color: var(--fill-color);\n",
              "      border-top-color: var(--fill-color);\n",
              "      border-right-color: var(--fill-color);\n",
              "    }\n",
              "    40% {\n",
              "      border-color: transparent;\n",
              "      border-right-color: var(--fill-color);\n",
              "      border-top-color: var(--fill-color);\n",
              "    }\n",
              "    60% {\n",
              "      border-color: transparent;\n",
              "      border-right-color: var(--fill-color);\n",
              "    }\n",
              "    80% {\n",
              "      border-color: transparent;\n",
              "      border-right-color: var(--fill-color);\n",
              "      border-bottom-color: var(--fill-color);\n",
              "    }\n",
              "    90% {\n",
              "      border-color: transparent;\n",
              "      border-bottom-color: var(--fill-color);\n",
              "    }\n",
              "  }\n",
              "</style>\n",
              "\n",
              "  <script>\n",
              "    async function quickchart(key) {\n",
              "      const quickchartButtonEl =\n",
              "        document.querySelector('#' + key + ' button');\n",
              "      quickchartButtonEl.disabled = true;  // To prevent multiple clicks.\n",
              "      quickchartButtonEl.classList.add('colab-df-spinner');\n",
              "      try {\n",
              "        const charts = await google.colab.kernel.invokeFunction(\n",
              "            'suggestCharts', [key], {});\n",
              "      } catch (error) {\n",
              "        console.error('Error during call to suggestCharts:', error);\n",
              "      }\n",
              "      quickchartButtonEl.classList.remove('colab-df-spinner');\n",
              "      quickchartButtonEl.classList.add('colab-df-quickchart-complete');\n",
              "    }\n",
              "    (() => {\n",
              "      let quickchartButtonEl =\n",
              "        document.querySelector('#df-d21d4115-aa07-4d65-9f15-ff81b3b53253 button');\n",
              "      quickchartButtonEl.style.display =\n",
              "        google.colab.kernel.accessAllowed ? 'block' : 'none';\n",
              "    })();\n",
              "  </script>\n",
              "</div>\n",
              "\n",
              "    </div>\n",
              "  </div>\n"
            ],
            "application/vnd.google.colaboratory.intrinsic+json": {
              "type": "dataframe",
              "variable_name": "data_test"
            }
          },
          "metadata": {},
          "execution_count": 11
        }
      ]
    },
    {
      "cell_type": "markdown",
      "source": [],
      "metadata": {
        "id": "d_kgxgFwloS6"
      }
    },
    {
      "cell_type": "markdown",
      "source": [
        "En el desarrollo de esta práctica se utilizarán los archivos que contienen los datos con la extension **12**. Cumpliendo así las consideraciones generales, siendo la suma de los últimos dos dígitos nuestros NIA's 12 en ambos casos.\n",
        "\n",
        " ---"
      ],
      "metadata": {
        "id": "8Jb-ub5R0tOA"
      }
    },
    {
      "cell_type": "markdown",
      "source": [
        "### **2. EDA SIMPLIFICADO**\n",
        "\n",
        "A continuación, se realiza un Análisis Exploratorio de Datos (EDA). El objetivo es obtener una visión general del estado de los datos, permitiendo llevar a cabo algunos ajustes o limpiezas antes de empezar a utilizarlos.\n",
        "\n"
      ],
      "metadata": {
        "id": "NMJsAdKVholx"
      }
    },
    {
      "cell_type": "markdown",
      "source": [
        "Número de  variables e instancias:"
      ],
      "metadata": {
        "id": "cIfNYhm8jqxX"
      }
    },
    {
      "cell_type": "code",
      "source": [
        "num_instancias, num_variables = data_train.shape                                # Usamos el atributo .shape de pandas para obtener la tupla (número de filas, número de columnas)\n",
        "print(f\"Número de instancias: {num_instancias}\")                                # Imprimimos num_instancias (número de filas)\n",
        "print(f\"Número de variables: {num_variables}\")                                  #Imprimimos num_variables (número de columnas)"
      ],
      "metadata": {
        "collapsed": true,
        "id": "OU6gEt1Ri767",
        "colab": {
          "base_uri": "https://localhost:8080/"
        },
        "outputId": "99c4235f-22bf-4a01-aeb5-dddc32a5c63c"
      },
      "execution_count": 6,
      "outputs": [
        {
          "output_type": "stream",
          "name": "stdout",
          "text": [
            "Número de instancias: 2940\n",
            "Número de variables: 31\n"
          ]
        }
      ]
    },
    {
      "cell_type": "markdown",
      "source": [
        "Tipos de variables (categóricas, numéricas u ordinales):"
      ],
      "metadata": {
        "id": "Rp8GzujwjRse"
      }
    },
    {
      "cell_type": "code",
      "source": [
        "print(data_train.dtypes)                                                              # Mostramos los tipos de datos de cada columna del conjunto de datos de entrenamiento.\n",
        "\n",
        "                                                                                      # Seleccionamos los tipos de datos categóricos y numéricos con pandas\n",
        "categorical_vars = data_train.select_dtypes(include=['object', 'category']).columns   # Variables categóricas: aquellas de tipo 'object' o 'category'\n",
        "numeric_vars = data_train.select_dtypes(include=['int64', 'float64']).columns         # Variables numéricas: aquellas de tipo 'int64' o 'float64'\n",
        "\n",
        "print(f\"Variables categóricas: {categorical_vars}\")                                   # Imprimimos las variables categóricas\n",
        "print(f\"Variables numéricas: {numeric_vars}\")                                         # Imprimimos las variables numéricas\n",
        "\n",
        "# Las variables ordinales deben identificarse manualmente (mirar Nota)"
      ],
      "metadata": {
        "id": "ij6fgxDfjW68",
        "colab": {
          "base_uri": "https://localhost:8080/"
        },
        "outputId": "c4209092-8785-47e9-905b-d4ecbb4cebfb"
      },
      "execution_count": 7,
      "outputs": [
        {
          "output_type": "stream",
          "name": "stdout",
          "text": [
            "hrs                        float64\n",
            "absences                     int64\n",
            "JobInvolvement               int64\n",
            "PerformanceRating            int64\n",
            "EnvironmentSatisfaction    float64\n",
            "JobSatisfaction            float64\n",
            "WorkLifeBalance            float64\n",
            "Age                          int64\n",
            "BusinessTravel              object\n",
            "Department                  object\n",
            "DistanceFromHome             int64\n",
            "Education                    int64\n",
            "EducationField              object\n",
            "EmployeeCount                int64\n",
            "EmployeeID                   int64\n",
            "Gender                      object\n",
            "JobLevel                     int64\n",
            "JobRole                     object\n",
            "MaritalStatus               object\n",
            "MonthlyIncome                int64\n",
            "NumCompaniesWorked         float64\n",
            "Over18                      object\n",
            "PercentSalaryHike            int64\n",
            "StandardHours                int64\n",
            "StockOptionLevel             int64\n",
            "TotalWorkingYears          float64\n",
            "TrainingTimesLastYear        int64\n",
            "YearsAtCompany               int64\n",
            "YearsSinceLastPromotion      int64\n",
            "YearsWithCurrManager         int64\n",
            "Attrition                   object\n",
            "dtype: object\n",
            "Variables categóricas: Index(['BusinessTravel', 'Department', 'EducationField', 'Gender', 'JobRole',\n",
            "       'MaritalStatus', 'Over18', 'Attrition'],\n",
            "      dtype='object')\n",
            "Variables numéricas: Index(['hrs', 'absences', 'JobInvolvement', 'PerformanceRating',\n",
            "       'EnvironmentSatisfaction', 'JobSatisfaction', 'WorkLifeBalance', 'Age',\n",
            "       'DistanceFromHome', 'Education', 'EmployeeCount', 'EmployeeID',\n",
            "       'JobLevel', 'MonthlyIncome', 'NumCompaniesWorked', 'PercentSalaryHike',\n",
            "       'StandardHours', 'StockOptionLevel', 'TotalWorkingYears',\n",
            "       'TrainingTimesLastYear', 'YearsAtCompany', 'YearsSinceLastPromotion',\n",
            "       'YearsWithCurrManager'],\n",
            "      dtype='object')\n"
          ]
        }
      ]
    },
    {
      "cell_type": "markdown",
      "source": [
        "*Nota: pandas no es capaz de identificar variables ordinales automáticamente.*\n",
        "\n",
        "\n",
        "*Debemos analizar cada variable categórica y estudiar si existe un orden jerárquico entre los valores.*\n",
        "\n",
        "\n",
        "```\n",
        "# Ver valores únicos de la columna 'X' en el conjunto de entrenamiento\n",
        "print(data_train['X'].unique())\n",
        "```\n",
        "\n",
        "\n",
        "* BusinessTravel (Non-Travel, Travel_Rarely, Travel_Frequently) -> No\n",
        "* Department: (Sales, Research & Development, ...) -> No\n",
        "* EducationField (Marketing, Medical, Life Sciences, ...) -> No\n",
        "* Gender (Male, Female) -> No\n",
        "* JobRole (Research Director, Sales Executive, Laboratory Technician, ...) -> No\n",
        "* MaritalStatus (Single, Married, Divorced) -> No\n",
        "* Over18 (N, Y) -> No\n",
        "* Attrition (No, Yes) -> No\n",
        "\n",
        "*Concluimos que no hay variables ordinales.*"
      ],
      "metadata": {
        "id": "pot7rdkjqCri"
      }
    },
    {
      "cell_type": "markdown",
      "source": [
        "Variables categóricas con alta cardinalidad:"
      ],
      "metadata": {
        "id": "Xh_J_Ido5mVp"
      }
    },
    {
      "cell_type": "code",
      "source": [
        "for col in data_train.columns:                                                  # Recorremos las columnas del conjunto de datos: data_train\n",
        "    tipo_columna = data_train[col].dtype                                        # Almacenamos en una variable el tipo de dato de la columna actual\n",
        "    if tipo_columna == 'object' or tipo_columna.name == 'category':             # Check: ¿El tipo es un objeto, texto?, ¿El tipo es una categoría?\n",
        "        valores_unicos = data_train[col].unique()                               # Almacenamos en una variable los valores únicos de esa categoría\n",
        "        num_valores_unicos = len(valores_unicos)                                # Obtenemos la cantidad de valores únicos que hay\n",
        "        print(\"Cardinalidad de\", col, \":\", num_valores_unicos)                  # Mostramos la cardinalidad y el número de valores únicos por pantalla"
      ],
      "metadata": {
        "id": "UkXaUmRL529v",
        "colab": {
          "base_uri": "https://localhost:8080/"
        },
        "outputId": "5693a74e-a624-4336-d597-6e9ca2456746"
      },
      "execution_count": 8,
      "outputs": [
        {
          "output_type": "stream",
          "name": "stdout",
          "text": [
            "Cardinalidad de BusinessTravel : 3\n",
            "Cardinalidad de Department : 3\n",
            "Cardinalidad de EducationField : 6\n",
            "Cardinalidad de Gender : 2\n",
            "Cardinalidad de JobRole : 9\n",
            "Cardinalidad de MaritalStatus : 3\n",
            "Cardinalidad de Over18 : 1\n",
            "Cardinalidad de Attrition : 2\n"
          ]
        }
      ]
    },
    {
      "cell_type": "markdown",
      "source": [
        "Variables con valores faltantes y cuántos son:"
      ],
      "metadata": {
        "id": "OxDcVne_8vID"
      }
    },
    {
      "cell_type": "code",
      "source": [
        "for col in data_train.columns:                                                  # Recorremos las columnas del conjunto de datos: data_train\n",
        "    contador_faltantes = 0                                                      # Inicializamos el contador de faltantes a 0\n",
        "    for valor in data_train[col]:                                               # Recorremos los valores de la columna\n",
        "        if valor is None or valor != valor:                                     # Check: ¿El valor es nulo (faltante)? Especial: valor != valor para detectar NaN\n",
        "            contador_faltantes += 1                                             # Incrementamos el contador de faltantes en una unidad\n",
        "    if contador_faltantes > 0:                                                  # Check: ¿Hay valores faltantes en esa columna?\n",
        "        print(\"Variable:\", col, \"- Valores faltantes:\", contador_faltantes)     # Mostramos la variable con sus faltantes por pantalla"
      ],
      "metadata": {
        "id": "TSgb4Y_8802p",
        "colab": {
          "base_uri": "https://localhost:8080/"
        },
        "outputId": "cacb77d5-6614-45bb-c61a-33a969b689db"
      },
      "execution_count": 9,
      "outputs": [
        {
          "output_type": "stream",
          "name": "stdout",
          "text": [
            "Variable: EnvironmentSatisfaction - Valores faltantes: 17\n",
            "Variable: JobSatisfaction - Valores faltantes: 8\n",
            "Variable: WorkLifeBalance - Valores faltantes: 23\n",
            "Variable: NumCompaniesWorked - Valores faltantes: 12\n",
            "Variable: TotalWorkingYears - Valores faltantes: 7\n"
          ]
        }
      ]
    },
    {
      "cell_type": "markdown",
      "source": [
        "Columnas constantes o columnas de ID:"
      ],
      "metadata": {
        "id": "1bfk_Fyz-Bdb"
      }
    },
    {
      "cell_type": "code",
      "source": [
        "for col in data_train.columns:                                                  # Recorremos las columnas del conjunto de datos: data_train\n",
        "    valores_unicos = data_train[col].unique()                                   # Obtenemos los valores únicos de la columna\n",
        "    if len(valores_unicos) == 1 and valores_unicos[0] == valores_unicos[0]:     # Check: ¿La columna tiene un solo valor? Especial: ...[0] == ...[0] para detectar NaN\n",
        "        print(\"Variable:\", col, \"- Columna constante\")                          # Mostramos la variable con la columna constante\n",
        "    elif len(valores_unicos) == len(data_train):                                # Check: ¿El número de valores únicos es igual al número de filas?\n",
        "        print(\"Posible columna de ID:\", col)                                    # Mostramos la posible variable o columna de ID por pantalla"
      ],
      "metadata": {
        "id": "bDAr9gG697d6",
        "colab": {
          "base_uri": "https://localhost:8080/"
        },
        "outputId": "93204215-6794-4b40-ea3b-53a1711f6cad"
      },
      "execution_count": 10,
      "outputs": [
        {
          "output_type": "stream",
          "name": "stdout",
          "text": [
            "Variable: EmployeeCount - Columna constante\n",
            "Posible columna de ID: EmployeeID\n",
            "Variable: Over18 - Columna constante\n",
            "Variable: StandardHours - Columna constante\n"
          ]
        }
      ]
    },
    {
      "cell_type": "markdown",
      "source": [
        "si ves algo que no te gusta puedes cambiarlooooooo"
      ],
      "metadata": {
        "id": "OWnO-qsyEW8J"
      }
    }
  ]
}